{
  "cells": [
    {
      "cell_type": "markdown",
      "metadata": {
        "id": "view-in-github",
        "colab_type": "text"
      },
      "source": [
        "<a href=\"https://colab.research.google.com/github/LGChalla/Laxmigayathri_INFO5731_Spring2025/blob/main/Challa_Laxmigayathri_Assignment_01.ipynb\" target=\"_parent\"><img src=\"https://colab.research.google.com/assets/colab-badge.svg\" alt=\"Open In Colab\"/></a>"
      ]
    },
    {
      "cell_type": "markdown",
      "metadata": {
        "id": "Ryk8D1Q4Wsrp"
      },
      "source": [
        "# **INFO5731 Assignment - 1**"
      ]
    },
    {
      "cell_type": "markdown",
      "metadata": {
        "id": "qcP6re2g5A5r"
      },
      "source": [
        "This assignment includes range of programming tasks and data analysis exercises, aiming to enhance your Python skills and proficiency in string manipulation, numerical computations, and data science. Follow the instructions carefully and design well-structured Python programs to address each question.\n",
        "\n",
        "\n",
        "1.  Question 1-5 using AI assistance is strictly prohibted\n",
        "2.  Question 6-7 AI assitance is recommended by following guidelines.\n",
        "\n",
        "Guidelines and expectations file can be found in week 2 module.\n",
        "\n",
        "Late Submission will have a penalty of 10% reduction for each day after the deadline."
      ]
    },
    {
      "cell_type": "markdown",
      "metadata": {
        "id": "JkzR8cFAyGik"
      },
      "source": [
        "# Question 1 (10 points).\n",
        "\n",
        "The formula that describes the volume V of a hemisphere with radius r is the following:\n",
        "\n",
        "$ V=\\frac{2}{3}\\ast\\ \\pi\\ast\\ r^3 $\n",
        "\n",
        "Write a program to calculate the value of V when r is in the range of even numbers from 1-20. Output the result in the following format:\n",
        "\n",
        "\tr\tV\n",
        "\t2\t…\n",
        "\t4\t…\n",
        "\t6\t…\n",
        "\t.\n",
        "\t.\n",
        "\t.\n",
        "\t20\t…\n"
      ]
    },
    {
      "cell_type": "code",
      "execution_count": null,
      "metadata": {
        "id": "jDyTKYs-yGit",
        "colab": {
          "base_uri": "https://localhost:8080/"
        },
        "outputId": "8b0fcd3e-b22b-4aa8-8044-41bcd396ac25"
      },
      "outputs": [
        {
          "output_type": "stream",
          "name": "stdout",
          "text": [
            "r\t\tV\n",
            "2\t16.755160819145562\n",
            "4\t134.0412865531645\n",
            "6\t452.38934211693015\n",
            "8\t1072.330292425316\n",
            "10\t2094.3951023931954\n",
            "12\t3619.114736935441\n",
            "14\t5747.0201609669275\n",
            "16\t8578.642339402528\n",
            "18\t12214.512237157114\n",
            "20\t16755.160819145563\n"
          ]
        }
      ],
      "source": [
        "# Your code here\n",
        "import numpy\n",
        "import math\n",
        "print(\"r\\t\\tV\") #to keep r and v at a constant 2tab spaces so that it can be followed by the calculated r and v from the next row when it goes through the loop\n",
        "for i in range (1,21):\n",
        "   if i %2==0:\n",
        "     r=i\n",
        "     V= 2/3*math.pi*r**3\n",
        "     i=i+1\n",
        "     print(f\"{r}\\t{V}\")\n",
        "\n",
        "\n",
        "\n"
      ]
    },
    {
      "cell_type": "markdown",
      "metadata": {
        "id": "90_NR8c5XGWc"
      },
      "source": [
        "# Question 2 (10 points)\n",
        "\n",
        "(a) Write a Python program to generate a sequence of 12 random numbers falling within the range of 50 to 150.\n",
        "\n",
        "(b) Arrange the generated numbers in ascending order. Display the sorted list.\n",
        "\n",
        "(c) Extend the program to arrange the numbers in descending order as well. Present the sorted list accordingly.\n",
        "\n",
        "(d) Compute and output the average of the entire group of generated numbers.\n",
        "\n",
        "(e) Enhance the program to calculate and display the average of the first 6 numbers from both the ascending and descending sorted lists."
      ]
    },
    {
      "cell_type": "code",
      "source": [
        "import random\n",
        "random_numbers=[]\n",
        "\n",
        "# To generate a 12 random integers between 50 and 100\n",
        "for i in range(12):\n",
        "    rand_int = random.randint(50, 100)\n",
        "    random_numbers.append(rand_int)  # TO append to the list initially created\n",
        "\n",
        "# Printing the generated random numbers\n",
        "print( random_numbers)\n",
        "\n"
      ],
      "metadata": {
        "colab": {
          "base_uri": "https://localhost:8080/"
        },
        "id": "T1OKs9NkKXcj",
        "outputId": "2e0c2398-0cb7-4c6c-fc3e-cc8a151e75b4"
      },
      "execution_count": null,
      "outputs": [
        {
          "output_type": "stream",
          "name": "stdout",
          "text": [
            "[81, 55, 54, 84, 80, 71, 86, 60, 88, 67, 62, 80]\n"
          ]
        }
      ]
    },
    {
      "cell_type": "code",
      "source": [
        "# Arranging and dispalying the generated numbers in ascending order.\n",
        "Ascending_order=sorted(random_numbers)\n",
        "print(\"Ascending order:\", Ascending_order)\n",
        "#Arranging and displaying the numbers in descending order as well.\n",
        "Descending_order=sorted(random_numbers, reverse=True)\n",
        "print(\"Descending order:\", Descending_order)"
      ],
      "metadata": {
        "colab": {
          "base_uri": "https://localhost:8080/"
        },
        "id": "Tr-VC0PTKciG",
        "outputId": "7da73d15-543f-4321-8b56-983ee1a35fde"
      },
      "execution_count": null,
      "outputs": [
        {
          "output_type": "stream",
          "name": "stdout",
          "text": [
            "Ascending order: [54, 55, 60, 62, 67, 71, 80, 80, 81, 84, 86, 88]\n",
            "Descending order: [88, 86, 84, 81, 80, 80, 71, 67, 62, 60, 55, 54]\n"
          ]
        }
      ]
    },
    {
      "cell_type": "code",
      "source": [
        "#Calculating the average of the entire group of generated numbers\n",
        "Avg= sum(random_numbers)/len(random_numbers)#formula to calculate average of numbers\n",
        "print(\"Average of the entire group of generated numbers:\", Avg)"
      ],
      "metadata": {
        "colab": {
          "base_uri": "https://localhost:8080/"
        },
        "id": "l3dJdCqeV6qM",
        "outputId": "ac00751f-a9a6-43e1-d06b-6f9d060b938a"
      },
      "execution_count": null,
      "outputs": [
        {
          "output_type": "stream",
          "name": "stdout",
          "text": [
            "Average of the entire group of generated numbers: 72.33333333333333\n"
          ]
        }
      ]
    },
    {
      "cell_type": "code",
      "source": [
        "# Enhance the program to calculate and display the average of the first 6 numbers from both the ascending and descending sorted lists.\n",
        "avg_first_6_asc = sum(Ascending_order[:6]) / 6 #summing the first six numbers in the ascending list and dividing by 6 for the average\n",
        "avg_first_6_desc = sum(Descending_order[:6]) / 6#summing the first six numbers in the descending list and dividing by 6 for the average\n",
        "print(\"Average of the first 6 numbers in ascending order:\", avg_first_6_asc)\n",
        "print(\"Average of the first 6 numbers in descending order:\", avg_first_6_desc)"
      ],
      "metadata": {
        "colab": {
          "base_uri": "https://localhost:8080/"
        },
        "id": "cVdrrctxXtmm",
        "outputId": "115d100a-9b45-4d37-c136-cc74f53f32fc"
      },
      "execution_count": null,
      "outputs": [
        {
          "output_type": "stream",
          "name": "stdout",
          "text": [
            "Average of the first 6 numbers in ascending order: 61.5\n",
            "Average of the first 6 numbers in descending order: 83.16666666666667\n"
          ]
        }
      ]
    },
    {
      "cell_type": "markdown",
      "metadata": {
        "id": "1F_PZdH9Sh49"
      },
      "source": [
        "# Question 3 (10 points).\n",
        "\n",
        "Create a Python program that encompasses various string manipulation task:\n",
        "\n",
        "(a) Prompt the user to input two sentences.\n",
        "\n",
        "(b) Transform each sentence into a list, where each element corresponds to a word in the sentence. For example, if the sentences are \"Hello, how are you doing today?\" and \"This is an example sentence for the program!\"\n",
        "\n",
        "The program should output:\n",
        "['Hello', ',', 'how', 'are', 'you', 'doing', 'today', '?', 'This', 'is', 'an', 'example', 'sentence', 'for', 'the', 'program', '!']\n",
        "\n",
        "(c) Compare the two sentences. Print out a list of words that occur in both sentences.\n",
        "\n",
        "(d) Remove any punctuation from the sentence and print the sanitized sentences. It should remove at least the following characters, but it can remove more: period(“.”), comma (“,”), semicolon (“;”), and colon (“:”).\n",
        "\n",
        "(e) Count the number of vowels in each of the sentences. Print out each vowel and the occurrences  in the each of the two sentences separately, such as:\n",
        "\n",
        "Sentence1: a:2, e:2, i:0, etc.\n",
        "Sentence2: a:1, e:2, i:2, etc.\n",
        "\n",
        "Design a well-structured Python program to execute these tasks efficiently."
      ]
    },
    {
      "cell_type": "code",
      "execution_count": null,
      "metadata": {
        "id": "Y0oOSlsOS0cq",
        "colab": {
          "base_uri": "https://localhost:8080/"
        },
        "outputId": "ab0f71c1-42a3-4c14-aaed-d61d33ab5be6"
      },
      "outputs": [
        {
          "name": "stdout",
          "output_type": "stream",
          "text": [
            "Enter the first sentence: Hello! I am Gayathri. This is for INFO 5731\n",
            "Enter the second sentence: This is the python coding assignment for class INFO 5731\n"
          ]
        }
      ],
      "source": [
        "# Your code here\n",
        "#Prompt the user to input two sentences.\n",
        "sentence1 = input(\"Enter the first sentence: \")\n",
        "sentence2 = input(\"Enter the second sentence: \")"
      ]
    },
    {
      "cell_type": "code",
      "source": [
        "# Transform each sentence into a list, where each element corresponds to a word in the sentence.\n",
        "elements_sentence1 = sentence1.split()\n",
        "elements_sentence2 = sentence2.split()\n",
        "print(elements_sentence1)\n",
        "print(elements_sentence2)"
      ],
      "metadata": {
        "colab": {
          "base_uri": "https://localhost:8080/"
        },
        "id": "Sy95mtitbikA",
        "outputId": "0db27c82-e281-4942-e75e-ec9f019fc277"
      },
      "execution_count": null,
      "outputs": [
        {
          "output_type": "stream",
          "name": "stdout",
          "text": [
            "['Hello!', 'I', 'am', 'Gayathri.', 'This', 'is', 'for', 'INFO', '5731']\n",
            "['This', 'is', 'the', 'python', 'coding', 'assignment', 'for', 'class', 'INFO', '5731']\n"
          ]
        }
      ]
    },
    {
      "cell_type": "code",
      "source": [
        "#) Compare the two sentences. Print out a list of words that occur in both sentences.\n",
        "common_words = set(elements_sentence1) & set(elements_sentence2)\n",
        "\n",
        "if not common_words:\n",
        "    print(\"No common words found.\")\n",
        "else:\n",
        "    print(\"Common words in both sentences:\", common_words)"
      ],
      "metadata": {
        "colab": {
          "base_uri": "https://localhost:8080/"
        },
        "id": "fjGgx8m_b2IT",
        "outputId": "e67ffd64-7f2a-46f0-f65f-f9c9566928cd"
      },
      "execution_count": null,
      "outputs": [
        {
          "output_type": "stream",
          "name": "stdout",
          "text": [
            "Common words in both sentences: {'for', 'is', '5731', 'INFO', 'This'}\n"
          ]
        }
      ]
    },
    {
      "cell_type": "code",
      "source": [
        "import string\n",
        "\n",
        "# Function to remove punctuation if present or print message\n",
        "def remove_punctuation(sentence):\n",
        "    if not any(char in string.punctuation for char in sentence):\n",
        "        print(\"No need for sanitation. No punctuation found.\")\n",
        "    else:\n",
        "        translator = str.maketrans(\"\", \"\", string.punctuation)\n",
        "        sanitized_sentence = sentence.translate(translator)\n",
        "        print(\"Sanitized Sentence:\", sanitized_sentence)\n",
        "\n",
        "# Process both sentences\n",
        "remove_punctuation(sentence1)\n",
        "remove_punctuation(sentence2)"
      ],
      "metadata": {
        "id": "tGszb0HYdA4V",
        "colab": {
          "base_uri": "https://localhost:8080/"
        },
        "outputId": "fcfeff38-8ab6-46ac-da31-ee02d9865f41"
      },
      "execution_count": null,
      "outputs": [
        {
          "output_type": "stream",
          "name": "stdout",
          "text": [
            "Sanitized Sentence: Hello I am Gayathri This is for INFO 5731\n",
            "No need for sanitation. No punctuation found.\n"
          ]
        }
      ]
    },
    {
      "cell_type": "code",
      "source": [
        "def count_vowels(sentence):\n",
        "    \"\"\"Counts the occurrences of each vowel in a given sentence.\"\"\"\n",
        "    vowels = \"aeiouAEIOU\"\n",
        "    return {vowel: sentence.count(vowel) for vowel in vowels if sentence.count(vowel) > 0}\n",
        "\n",
        "# Count vowels in each sentence\n",
        "vowel_count_sentence1 = count_vowels(sentence1)\n",
        "vowel_count_sentence2 = count_vowels(sentence2)\n",
        "\n",
        "# Display results\n",
        "print(\"\\nVowel occurrences in each sentence:\")\n",
        "print(\"Sentence 1:\", vowel_count_sentence1)\n",
        "print(\"Sentence 2:\", vowel_count_sentence2)"
      ],
      "metadata": {
        "id": "mrp4WylmdJST",
        "colab": {
          "base_uri": "https://localhost:8080/"
        },
        "outputId": "7e116d1b-5419-4899-b868-953ddad52ee1"
      },
      "execution_count": null,
      "outputs": [
        {
          "output_type": "stream",
          "name": "stdout",
          "text": [
            "\n",
            "Vowel occurrences in each sentence:\n",
            "Sentence 1: {'a': 3, 'e': 1, 'i': 3, 'o': 2, 'I': 2, 'O': 1}\n",
            "Sentence 2: {'a': 2, 'e': 2, 'i': 4, 'o': 3, 'I': 1, 'O': 1}\n"
          ]
        }
      ]
    },
    {
      "cell_type": "markdown",
      "metadata": {
        "id": "OP4-5qxAtInv"
      },
      "source": [
        "# Question 4 (10 Points)"
      ]
    },
    {
      "cell_type": "markdown",
      "metadata": {
        "id": "uzN4_hDptK9U"
      },
      "source": [
        "Design and implement a simple command-line calculator program. The program should handle both integers and floating-point numbers.\n",
        "\n",
        "(a) Write program that takes a mathematical expression as input and evaluates it. The program should support addition, subtraction, multiplication, and division.\n",
        "\n",
        "(b) Extend the calculator to handle parentheses in mathematical expressions. Implement the necessary logic to evaluate expressions with nested parentheses.\n",
        "\n",
        "(c) Enhance your calculator to include additional mathematical operations such as exponentiation, square root, and modulus.\n",
        "\n",
        "(d) Implement error handling in the calculator program. Handle cases such as division by zero and invalid input expressions. Provide meaningful error messages.\n",
        "\n",
        "(e) Implement a command to exit the calculator."
      ]
    },
    {
      "cell_type": "code",
      "execution_count": null,
      "metadata": {
        "id": "8nQnVxjJuYtu",
        "colab": {
          "base_uri": "https://localhost:8080/"
        },
        "outputId": "8839245a-4c94-4339-f088-9198f93548fe"
      },
      "outputs": [
        {
          "output_type": "stream",
          "name": "stdout",
          "text": [
            "Simple Command-Line Calculator\n",
            "Operations supported: +, -, *, /, pow(base, exp), sqrt(x), mod(a, b)\n",
            "Type 'exit' to quit.\n",
            "Enter expression: 4/9\n",
            "Result: 0.4444444444444444\n",
            "Enter expression: 4/0\n",
            "Result: Error: Division by zero is not allowed.\n",
            "Enter expression: 4*99-0/8+5x4\n",
            "Result: Error: Invalid expression.\n",
            "Enter expression: (3+9)*(sqrt(8))\n",
            "Result: 33.941125496954285\n",
            "Enter expression: exit\n",
            "Exiting calculator.\n"
          ]
        }
      ],
      "source": [
        "import math\n",
        "\n",
        "def evaluate_expression(expression):\n",
        "    try:\n",
        "        # (a) Evaluate mathematical expressions with basic operations\n",
        "        result = eval(expression, {\"__builtins__\": {}}, {\n",
        "            \"pow\": pow,  # (c) Exponentiation function\n",
        "            \"sqrt\": math.sqrt,  # (c) Square root function\n",
        "            \"mod\": lambda a, b: a % b  # (c) Modulus function\n",
        "        })\n",
        "        return result\n",
        "    except ZeroDivisionError:\n",
        "        # (d) Handle division by zero error\n",
        "        return \"Error: Division by zero is not allowed.\"\n",
        "    except Exception:\n",
        "        # (d) Handle invalid input expressions\n",
        "        return \"Error: Invalid expression.\"\n",
        "\n",
        "def main():\n",
        "    print(\"Simple Command-Line Calculator\")\n",
        "    print(\"Operations supported: +, -, *, /, pow(base, exp), sqrt(x), mod(a, b)\")\n",
        "    print(\"Type 'exit' to quit.\")\n",
        "\n",
        "    while True:\n",
        "        expression = input(\"Enter expression: \").strip()\n",
        "        if expression.lower() == \"exit\":\n",
        "            # (e) Implement exit command\n",
        "            print(\"Exiting calculator.\")\n",
        "            break\n",
        "\n",
        "        result = evaluate_expression(expression)  # (b) Evaluates expressions, including nested parentheses\n",
        "        print(\"Result:\", result)\n",
        "\n",
        "if __name__ == \"__main__\":\n",
        "    main()\n"
      ]
    },
    {
      "cell_type": "markdown",
      "metadata": {
        "id": "z3tBE7E-Xn5X"
      },
      "source": [
        "# Question 5 (20 points).\n",
        "\n",
        "In the field of Data Science, data is often formatted as a comma-delimited (CSV) file, where each line in a file corresponds to a field's value. Refer to Chapter 9 (p. 106) for more information on comma-delimited files.\n",
        "\n",
        "To answer this question, you will need to download the file [Assignment1_denton_housing.csv](https://raw.githubusercontent.com/unt-iialab/info5731-spring2022/main/assignments/Assignment1_denton_housing.csv) included with this assignment. The file contains statistics about housing in the city of Denton from 2008 to 2014. Write a program to implement the following questions.\n",
        "\n",
        "(a) (5 pts) Calculate the difference in the number of Occupied Housing Units from year to year and print it. The difference must be calculated for the consecutive years such as 2008-2009, 2009-2010 etc. Finally, print the values in the ascending order.\n",
        "\n",
        "(b) (5 pts) For all the years, calculate the percentage of housing units which are vacant an occupied. Print the results in the following format:\n",
        "\n",
        "Year Vacant Housing Units Occupied Housing Units\n",
        "\n",
        "    2008  30%   70%                          \n",
        "\t2009 ----- -----\n",
        "\t2010 ----- -----\n",
        "    2011 ----- -----\n",
        "\t2012 ----- -----\n",
        "    2013 ----- -----\n",
        "\t2014 ----- -----\n",
        "  \n",
        "  \n",
        "\n",
        "(c) (5 pts) Calculate and print the valued and years in which the highest number of housing units were vacant and occupied. Print the results in the following format:  \n",
        "\n",
        "                              Year\tValue\n",
        "\tVacant Housing Units\t  -----   -----\n",
        "\tOccupied Housing Units\t-----   -----\n",
        "\n",
        "(d) (5 pts) Calculate the harmonic mean of the total housing units and print it out. You can find the information about harmonic mean here: https://ncalculators.com/statistics/harmonic-mean-calculator.htm"
      ]
    },
    {
      "cell_type": "code",
      "source": [
        "import pandas as pd\n",
        "import csv\n",
        "\n",
        "# Function to read CSV file and store data in a dictionary\n",
        "def read_csv(filename):\n",
        "    data = {}\n",
        "    with open(filename, mode='r',encoding='utf-8') as file:\n",
        "        reader = csv.reader(file)\n",
        "        next(reader)  # Skip header\n",
        "        for row in reader:\n",
        "            year, category, value = int(row[0]), row[1], int(row[2])\n",
        "            if year not in data:\n",
        "                data[year] = {}\n",
        "            data[year][category] = value\n",
        "    return data\n",
        "\n",
        "# (a) Calculate the difference in the number of Occupied Housing Units year to year\n",
        "def calculate_yearly_difference(data):\n",
        "    years = sorted(data.keys())  # Sort years to maintain chronological order\n",
        "    differences = {}\n",
        "\n",
        "    for i in range(len(years) - 1):\n",
        "        # Compute difference between consecutive years\n",
        "        diff = data[years[i+1]]['Occupied Housing Units'] - data[years[i]]['Occupied Housing Units']\n",
        "        differences[f\"{years[i]}-{years[i+1]}\"] = diff\n",
        "\n",
        "    # Print the differences sorted in ascending order\n",
        "    for period, diff in sorted(differences.items(), key=lambda x: x[1]):\n",
        "        print(f\"{period}: {diff}\")\n",
        "\n",
        "# (b) Calculate and print the percentage of vacant and occupied housing units\n",
        "def calculate_percentage(data):\n",
        "    print(\"Year\\tVacant Housing Units(%)\\tOccupied Housing Units(%)\")\n",
        "\n",
        "    for year in sorted(data.keys()):\n",
        "        total_units = data[year]['Occupied Housing Units'] + data[year]['Vacant Housing Units']  # Total housing units\n",
        "        vacant_percentage = (data[year]['Vacant Housing Units'] / total_units) * 100  # Compute vacant percentage\n",
        "        occupied_percentage = (data[year]['Occupied Housing Units'] / total_units) * 100  # Compute occupied percentage\n",
        "\n",
        "        # Print the year-wise percentage values\n",
        "        print(f\"{year}\\t{vacant_percentage}% \\t {occupied_percentage}%\")\n",
        "\n",
        "# (c) Find and print the years with the highest vacant and occupied housing units\n",
        "def find_highest_housing_units(file_path):\n",
        "    df = pd.read_csv(file_path)  # Read data into a DataFrame\n",
        "\n",
        "    # Find the highest number of vacant housing units\n",
        "    vacant_df = df[df['title_field'] == 'Vacant Housing Units']\n",
        "    max_vacant = vacant_df.loc[vacant_df['value'].idxmax()]\n",
        "\n",
        "    # Find the highest number of occupied housing units\n",
        "    occupied_df = df[df['title_field'] == 'Occupied Housing Units']\n",
        "    max_occupied = occupied_df.loc[occupied_df['value'].idxmax()]\n",
        "\n",
        "    # Print results in the required format\n",
        "    print(f\"Year with highest vacant housing units: {max_vacant['year']}, Value: {max_vacant['value']}\")\n",
        "    print(f\"Year with highest occupied housing units: {max_occupied['year']}, Value: {max_occupied['value']}\")\n",
        "# (d) Calculate and print the harmonic mean of total housing units\n",
        "def calculate_harmonic_mean(data):\n",
        "    total_units = [data[year]['Occupied Housing Units'] + data[year]['Vacant Housing Units'] for year in data]\n",
        "    n = len(total_units)\n",
        "    harmonic_sum = sum(1 / unit for unit in total_units)\n",
        "    harmonic_mean_value = n / harmonic_sum\n",
        "\n",
        "    print(f\"{harmonic_mean_value}\")\n",
        "# Main function to execute the program\n",
        "def main():\n",
        "  file_path = \"/content/Assignment1_denton_housing.csv\"  # CSV file path\n",
        "  data = read_csv(file_path)  # Read data from CSV file\n",
        "  print(\"Yearly Differences in Occupied Housing Units:\")\n",
        "  calculate_yearly_difference(data)  # (a) Call function to calculate yearly differences\n",
        "  print(\"\\nPercentage of Housing Units:\")\n",
        "  calculate_percentage(data)  # (b) Call function to calculate percentages\n",
        "  print(\"\\nHighest Housing Units:\")\n",
        "  find_highest_housing_units(file_path)  # (c) Call function to find highest housing units\n",
        "  print(\"\\nHarmonic Mean of Total Housing Units:\")\n",
        "  calculate_harmonic_mean(data)  # (d) Call function to calculate harmonic mean\n",
        "\n",
        "# Entry point of the program\n",
        "if __name__ == \"__main__\":\n",
        "    main()\n"
      ],
      "metadata": {
        "id": "LuDJ3wA6PsXW",
        "colab": {
          "base_uri": "https://localhost:8080/"
        },
        "outputId": "328a280b-f0ea-413d-c553-9a42c3952054"
      },
      "execution_count": null,
      "outputs": [
        {
          "output_type": "stream",
          "name": "stdout",
          "text": [
            "Yearly Differences in Occupied Housing Units:\n",
            "2008-2009: -795\n",
            "2010-2011: -303\n",
            "2011-2012: 1404\n",
            "2012-2013: 1565\n",
            "2013-2014: 2622\n",
            "2009-2010: 5091\n",
            "\n",
            "Percentage of Housing Units:\n",
            "Year\tVacant Housing Units(%)\tOccupied Housing Units(%)\n",
            "2008\t10.88265281351653% \t 89.11734718648347%\n",
            "2009\t9.07111572444872% \t 90.92888427555128%\n",
            "2010\t8.142556337081672% \t 91.85744366291833%\n",
            "2011\t9.379522229890688% \t 90.6204777701093%\n",
            "2012\t6.677600230491346% \t 93.32239976950866%\n",
            "2013\t8.801787504176412% \t 91.19821249582358%\n",
            "2014\t5.730110570363885% \t 94.26988942963611%\n",
            "\n",
            "Highest Housing Units:\n",
            "Year with highest vacant housing units: 2008, Value: 4483\n",
            "Year with highest occupied housing units: 2014, Value: 46295\n",
            "\n",
            "Harmonic Mean of Total Housing Units:\n",
            "44398.28543969185\n"
          ]
        }
      ]
    },
    {
      "cell_type": "markdown",
      "metadata": {
        "id": "DB9XtkavJmsO"
      },
      "source": [
        "# **For question 6 and 7 you can take AI assitance to solve.**\n",
        "\n",
        "Make sure you follow the instructions given in class to answer these questions.\n",
        "\n",
        "\n",
        "**Important points:**\n",
        "\n",
        "1.   You must come up with at least 10 edge cases.\n",
        "2.   You should provide prompts and revised prompts given to ChatGPT.\n",
        "2.   Debug your code and write comments for each block of code\n",
        "3.   Analyzing error will not consider as edge case.\n",
        "\n",
        "Edge cases are like real life scienarios which are realated to the given question."
      ]
    },
    {
      "cell_type": "markdown",
      "metadata": {
        "id": "BAfp-70D2Cay"
      },
      "source": [
        "# Question 6 (20 points).\n",
        "Develop a advance Python program to manage inventory records for a prodcut managing company. The system needs functions for adding, deleting and changing products and basic search options. Your system should use CSV files to automate restocking and produce reports that show item values alongside category breakdowns. Manage edge cases and corrupted CSV files. Finally maintaine 50 products of different categories in inventory."
      ]
    },
    {
      "cell_type": "code",
      "execution_count": null,
      "metadata": {
        "id": "w8dE2dJb2quE"
      },
      "outputs": [],
      "source": [
        "import csv\n",
        "import os\n",
        "import random\n",
        "\n",
        "# Constants for inventory management\n",
        "INVENTORY_FILE = \"inventory.csv\"\n",
        "MAX_PRODUCTS = 50\n",
        "EXPECTED_HEADERS = [\"ID\", \"Name\", \"Category\", \"Quantity\", \"Price\"]  # Expected headers for validation\n",
        "#prompt was around how the product name migyht be incorrectly entere, csv data being corrupted and adding a random category by mistake\n",
        "# Edge Case 6: Prevent adding products with an unknown category\n",
        "# Edge Case 7: Handle inconsistent product category names by standardizing them\n",
        "# Edge Case 5: Handle missing or corrupted CSV file headers\n",
        "def initialize_inventory():\n",
        "    if not os.path.exists(INVENTORY_FILE) or os.stat(INVENTORY_FILE).st_size == 0:\n",
        "        with open(INVENTORY_FILE, mode='w', newline='') as file:\n",
        "            writer = csv.writer(file)\n",
        "            writer.writerow(EXPECTED_HEADERS)\n",
        "            populate_initial_inventory(writer)\n",
        "\n",
        "# Populate inventory with 50 products of different categories\n",
        "def populate_initial_inventory(writer):\n",
        "    categories = get_categories_from_file()\n",
        "    for i in range(1, MAX_PRODUCTS + 1):\n",
        "        writer.writerow([f\"P{i}\", f\"Product {i}\", random.choice(categories) if categories else \"Miscellaneous\", 10, round(5 + i * 1.5, 2)])\n",
        "\n",
        "# Extract categories dynamically from the inventory file\n",
        "def get_categories_from_file():\n",
        "    categories = set()\n",
        "    try:\n",
        "        with open(INVENTORY_FILE, mode='r') as file:\n",
        "            reader = csv.DictReader(file)\n",
        "            for row in reader:\n",
        "                categories.add(row[\"Category\"].strip().title())\n",
        "    except FileNotFoundError:\n",
        "        return [\"Miscellaneous\"]\n",
        "    return list(categories) if categories else [\"Miscellaneous\"]\n",
        "\n",
        "# Load inventory from CSV file with header validation (Edge Case 5)\n",
        "def load_inventory():\n",
        "    inventory = []\n",
        "    try:\n",
        "        with open(INVENTORY_FILE, mode='r') as file:\n",
        "            reader = csv.DictReader(file)\n",
        "            # Validate if headers are correct\n",
        "            if reader.fieldnames != EXPECTED_HEADERS:\n",
        "                print(\"Error: CSV file is corrupted or missing headers. Resetting inventory.\")  # Edge Case 5\n",
        "                initialize_inventory()  # Reset file if headers are incorrect\n",
        "                return []\n",
        "            for row in reader:\n",
        "                try:\n",
        "                    inventory.append({\n",
        "                        \"ID\": row[\"ID\"],\n",
        "                        \"Name\": row[\"Name\"],\n",
        "                        \"Category\": row[\"Category\"].strip().title(),  # Standardizing category names (Edge Case 7)\n",
        "                        \"Quantity\": max(0, int(row[\"Quantity\"])),\n",
        "                        \"Price\": max(0.0, float(row[\"Price\"]))\n",
        "                    })\n",
        "                except ValueError:\n",
        "                    print(f\"Warning: Skipping invalid row {row}\")\n",
        "    except FileNotFoundError:\n",
        "        initialize_inventory()\n",
        "    return inventory\n",
        "\n",
        "# Save inventory data to CSV file\n",
        "def save_inventory(inventory):\n",
        "    with open(INVENTORY_FILE, mode='w', newline='') as file:\n",
        "        writer = csv.writer(file)\n",
        "        writer.writerow(EXPECTED_HEADERS)  # Ensure headers are always correct\n",
        "        for item in inventory:\n",
        "            writer.writerow([item[\"ID\"], item[\"Name\"], item[\"Category\"], item[\"Quantity\"], item[\"Price\"]])\n",
        "\n",
        "# Edge Case 1: Prevent duplicate product names\n",
        "def add_product(product_id, name, category, quantity, price):\n",
        "    inventory = load_inventory()\n",
        "    valid_categories = get_categories_from_file()\n",
        "    if category.strip().title() not in valid_categories:\n",
        "        print(\"Error: Category does not exist in the inventory.\")  # Edge Case 6: Prevent unknown categories\n",
        "        return\n",
        "    if len(inventory) >= MAX_PRODUCTS:\n",
        "        print(\"Error: Cannot add more products. Inventory full.\")  # Edge Case 2: Prevent exceeding storage limit\n",
        "        return\n",
        "    for item in inventory:\n",
        "        if item[\"ID\"] == product_id:\n",
        "            print(\"Error: Product ID already exists.\")\n",
        "            return\n",
        "        if item[\"Name\"].lower() == name.lower():\n",
        "            print(\"Warning: Duplicate product name detected.\")\n",
        "    try:\n",
        "        quantity = int(quantity)\n",
        "        price = float(price)\n",
        "        if quantity < 0 or price <= 0:\n",
        "            print(\"Error: Quantity and price must be positive.\")  # Edge Case 4: Prevent invalid product edits\n",
        "            return\n",
        "    except ValueError:\n",
        "        print(\"Error: Quantity and price must be valid numbers.\")\n",
        "        return\n",
        "    inventory.append({\"ID\": product_id, \"Name\": name, \"Category\": category.strip().title(), \"Quantity\": quantity, \"Price\": price})\n",
        "    save_inventory(inventory)\n",
        "    print(\"Product added successfully.\")\n",
        "\n",
        "# Edge Case 3: Handle deleting a non-existent product\n",
        "def delete_product(product_id):\n",
        "    inventory = load_inventory()\n",
        "    updated_inventory = [item for item in inventory if item[\"ID\"] != product_id]\n",
        "    if len(updated_inventory) == len(inventory):\n",
        "        print(\"Error: Product not found.\")\n",
        "    else:\n",
        "        save_inventory(updated_inventory)\n",
        "        print(\"Product deleted successfully.\")\n",
        "\n",
        "\n",
        "# Initialize inventory file\n",
        "initialize_inventory()\n",
        "\n"
      ]
    },
    {
      "cell_type": "markdown",
      "metadata": {
        "id": "290UJiNg2xES"
      },
      "source": [
        "# Question 7 (20 points)\n",
        "\n",
        "Create a well desined Python program for a flight booking system. Offer core functions for adding new flights, finding trips, reserving and releasing seating space and creating performance reports. Ensure the system manages edge cases like invalid input, overbooking, and cancellations. Finally, extend the booking system by including advanced features and maintain about 50 flight in the system."
      ]
    },
    {
      "cell_type": "code",
      "execution_count": null,
      "metadata": {
        "id": "dME5iWD53ADa",
        "colab": {
          "base_uri": "https://localhost:8080/"
        },
        "outputId": "078c7b40-4e84-43e5-f61b-5c4bcd58c719"
      },
      "outputs": [
        {
          "output_type": "stream",
          "name": "stdout",
          "text": [
            "Error: Flight ID already exists.\n",
            "Error: Flight ID already exists.\n",
            "Seat booked successfully.\n",
            "Error: User has already booked this flight.\n",
            "Booking cancelled successfully.\n",
            "Flight Performance Report:\n",
            "Flight F101 to New York - Booked Seats: 1, Available: 95, Price: $299.99\n",
            "Flight F102 to Los Angeles - Booked Seats: 0, Available: 150, Price: $399.99\n"
          ]
        }
      ],
      "source": [
        "import csv\n",
        "import os\n",
        "from datetime import datetime\n",
        "\n",
        "# Constants\n",
        "FLIGHT_FILE = \"flights.csv\"\n",
        "RESERVATION_FILE = \"reservations.csv\"\n",
        "MAX_SEATS = 500  # Edge Case 10: Prevent unreasonably high seat counts\n",
        "\n",
        "# Ensure CSV files exist with headers\n",
        "def initialize_flight_system():\n",
        "    if not os.path.exists(FLIGHT_FILE):\n",
        "        with open(FLIGHT_FILE, mode='w', newline='') as file:\n",
        "            writer = csv.writer(file)\n",
        "            writer.writerow([\"FlightID\", \"Destination\", \"Date\", \"SeatsAvailable\", \"Price\"])\n",
        "    if not os.path.exists(RESERVATION_FILE):\n",
        "        with open(RESERVATION_FILE, mode='w', newline='') as file:\n",
        "            writer = csv.writer(file)\n",
        "            writer.writerow([\"FlightID\", \"UserID\"])\n",
        "\n",
        "# Load flight data from CSV\n",
        "def load_flights():\n",
        "    flights = []\n",
        "    try:\n",
        "        with open(FLIGHT_FILE, mode='r') as file:\n",
        "            reader = csv.DictReader(file)\n",
        "            for row in reader:\n",
        "                flights.append({\n",
        "                    \"FlightID\": row[\"FlightID\"],\n",
        "                    \"Destination\": row[\"Destination\"],\n",
        "                    \"Date\": row[\"Date\"],\n",
        "                    \"SeatsAvailable\": int(row[\"SeatsAvailable\"]),\n",
        "                    \"Price\": float(row[\"Price\"])\n",
        "                })\n",
        "    except (FileNotFoundError, ValueError, KeyError):\n",
        "        print(\"Error: Flight data file missing or corrupted. Initializing new file.\")  # Edge Case 1: Handle missing or corrupted flight data file\n",
        "        initialize_flight_system()\n",
        "    return flights\n",
        "\n",
        "# Save flight data to CSV\n",
        "def save_flights(flights):\n",
        "    with open(FLIGHT_FILE, mode='w', newline='') as file:\n",
        "        writer = csv.writer(file)\n",
        "        writer.writerow([\"FlightID\", \"Destination\", \"Date\", \"SeatsAvailable\", \"Price\"])\n",
        "        for flight in flights:\n",
        "            writer.writerow([flight[\"FlightID\"], flight[\"Destination\"], flight[\"Date\"], flight[\"SeatsAvailable\"], flight[\"Price\"]])\n",
        "\n",
        "# Load reservation data from CSV\n",
        "def load_reservations():\n",
        "    reservations = []\n",
        "    try:\n",
        "        with open(RESERVATION_FILE, mode='r') as file:\n",
        "            reader = csv.DictReader(file)\n",
        "            for row in reader:\n",
        "                reservations.append({\"FlightID\": row[\"FlightID\"], \"UserID\": row[\"UserID\"]})\n",
        "    except FileNotFoundError:\n",
        "        print(\"Error: Reservation data file missing. Initializing new file.\")  # Edge Case 2: Handle missing reservation data file\n",
        "        initialize_flight_system()\n",
        "    return reservations\n",
        "\n",
        "# Save reservation data to CSV\n",
        "def save_reservations(reservations):\n",
        "    with open(RESERVATION_FILE, mode='w', newline='') as file:\n",
        "        writer = csv.writer(file)\n",
        "        writer.writerow([\"FlightID\", \"UserID\"])\n",
        "        for reservation in reservations:\n",
        "            writer.writerow([reservation[\"FlightID\"], reservation[\"UserID\"]])\n",
        "\n",
        "# Edge Case 3: Validate date format and prevent past dates\n",
        "def validate_date(date_str):\n",
        "    try:\n",
        "        flight_date = datetime.strptime(date_str, \"%Y-%m-%d\")\n",
        "        if flight_date < datetime.now():\n",
        "            print(\"Error: Cannot add a flight with a past date.\")\n",
        "            return False\n",
        "        return True\n",
        "    except ValueError:\n",
        "        print(\"Error: Invalid date format. Use YYYY-MM-DD.\")\n",
        "        return False\n",
        "\n",
        "# Edge Case 4: Prevent duplicate flight IDs\n",
        "def add_flight(flight_id, destination, date, seats, price):\n",
        "    if not validate_date(date):\n",
        "        return\n",
        "    flights = load_flights()\n",
        "    for flight in flights:\n",
        "        if flight[\"FlightID\"] == flight_id:\n",
        "            print(\"Error: Flight ID already exists.\")\n",
        "            return\n",
        "    try:\n",
        "        seats = int(seats)\n",
        "        price = float(price)\n",
        "        if seats <= 0 or price <= 0 or seats > MAX_SEATS:\n",
        "            print(\"Error: Invalid seat count or price.\")  # Edge Case 10: Prevent unreasonably high seat counts\n",
        "            return\n",
        "    except ValueError:\n",
        "        print(\"Error: Seats and price must be valid numbers.\")  # Edge Case 5: Handle non-numeric seat and price values\n",
        "        return\n",
        "    flights.append({\"FlightID\": flight_id, \"Destination\": destination, \"Date\": date, \"SeatsAvailable\": seats, \"Price\": price})\n",
        "    save_flights(flights)\n",
        "    print(\"Flight added successfully.\")\n",
        "\n",
        "# Edge Case 6: Prevent double booking for the same user\n",
        "def book_seat(flight_id, user_id):\n",
        "    if not user_id:\n",
        "        print(\"Error: Invalid user ID.\")  # Edge Case 7: Prevent booking with an invalid user ID\n",
        "        return\n",
        "    flights = load_flights()\n",
        "    reservations = load_reservations()\n",
        "    for reservation in reservations:\n",
        "        if reservation[\"FlightID\"] == flight_id and reservation[\"UserID\"] == user_id:\n",
        "            print(\"Error: User has already booked this flight.\")\n",
        "            return\n",
        "    for flight in flights:\n",
        "        if flight[\"FlightID\"] == flight_id:\n",
        "            if flight[\"SeatsAvailable\"] > 0:\n",
        "                flight[\"SeatsAvailable\"] -= 1\n",
        "                reservations.append({\"FlightID\": flight_id, \"UserID\": user_id})\n",
        "                save_flights(flights)\n",
        "                save_reservations(reservations)\n",
        "                print(\"Seat booked successfully.\")\n",
        "                return\n",
        "            else:\n",
        "                print(\"Error: No seats available on this flight.\")  # Edge Case 8: Prevent overbooking\n",
        "                return\n",
        "    print(\"Error: Flight not found. Suggest checking flight ID.\")  # Edge Case 9: Handle incorrect flight ID by suggesting verification\n",
        "\n",
        "# Edge Case 10: Allow users to cancel bookings\n",
        "def cancel_booking(flight_id, user_id):\n",
        "    reservations = load_reservations()\n",
        "    updated_reservations = [r for r in reservations if not (r[\"FlightID\"] == flight_id and r[\"UserID\"] == user_id)]\n",
        "    if len(updated_reservations) == len(reservations):\n",
        "        print(\"Error: No booking found for cancellation.\")\n",
        "    else:\n",
        "        save_reservations(updated_reservations)\n",
        "        print(\"Booking cancelled successfully.\")\n",
        "\n",
        "# Initialize the flight system\n",
        "initialize_flight_system()\n",
        "\n",
        "# Example test cases\n",
        "add_flight(\"F101\", \"New York\", \"2025-06-15\", 100, 299.99)\n",
        "add_flight(\"F102\", \"Los Angeles\", \"2025-06-20\", 150, 399.99)\n",
        "book_seat(\"F101\", \"U001\")\n",
        "book_seat(\"F101\", \"U002\")\n",
        "cancel_booking(\"F101\", \"U001\")\n",
        "generate_report()\n"
      ]
    },
    {
      "cell_type": "markdown",
      "metadata": {
        "id": "q8BFCvWp32cf"
      },
      "source": [
        "# Mandatory Question\n",
        "\n",
        "Provide your thoughts on the assignment. What did you find challenging, and what aspects did you enjoy? Your opinion on the provided time to complete the assignment. Share any suggestions for improvement. Your feedback will be valuable for enhancing the learning experience."
      ]
    },
    {
      "cell_type": "code",
      "execution_count": null,
      "metadata": {
        "id": "_e557s2w4BpK"
      },
      "outputs": [],
      "source": [
        "# Write your response below\n",
        "#The entire assignmnet is structured perfectly well. Could get through the python basics thororugyhly and understand real life scenarios in coding. But with each prompt of chatGPT there were also mutliple error fixing within each step, this was all messed up and couldn't exactly understand on including the prompt provided to chatGPT in the code. But did briefly mention the edge cases. Though this was a little time consuming and took mutliple wrror fixing etc, it was good in understanding or thinking or choosing different scenarios to design.\n"
      ]
    }
  ],
  "metadata": {
    "colab": {
      "provenance": [],
      "include_colab_link": true
    },
    "kernelspec": {
      "display_name": "Python 3 (ipykernel)",
      "language": "python",
      "name": "python3"
    },
    "language_info": {
      "codemirror_mode": {
        "name": "ipython",
        "version": 3
      },
      "file_extension": ".py",
      "mimetype": "text/x-python",
      "name": "python",
      "nbconvert_exporter": "python",
      "pygments_lexer": "ipython3",
      "version": "3.13.1"
    }
  },
  "nbformat": 4,
  "nbformat_minor": 0
}