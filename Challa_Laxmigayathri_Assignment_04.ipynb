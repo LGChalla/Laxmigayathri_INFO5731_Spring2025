{
  "cells": [
    {
      "cell_type": "markdown",
      "metadata": {
        "id": "view-in-github",
        "colab_type": "text"
      },
      "source": [
        "<a href=\"https://colab.research.google.com/github/LGChalla/Laxmigayathri_INFO5731_Spring2025/blob/main/Challa_Laxmigayathri_Assignment_04.ipynb\" target=\"_parent\"><img src=\"https://colab.research.google.com/assets/colab-badge.svg\" alt=\"Open In Colab\"/></a>"
      ]
    },
    {
      "cell_type": "markdown",
      "metadata": {
        "id": "VdRwkJBn70nX"
      },
      "source": [
        "# **INFO5731 Assignment: 4**\n",
        "\n",
        "**This exercise will provide a valuable learning experience in working with text data and extracting features using various topic modeling algorithms. Key concepts such as Latent Dirichlet Allocation (LDA), Latent Semantic Analysis (LSA) and BERTopic.**"
      ]
    },
    {
      "cell_type": "markdown",
      "source": [
        "\n",
        "\n",
        "**Expectations**:\n",
        "*   Students are expected to complete the exercise during lecture period to meet the active participation criteria of the course.\n",
        "*   Use the provided .*ipynb* document to write your code & respond to the questions. Avoid generating a new file.\n",
        "*   Write complete answers and run all the cells before submission.\n",
        "*   Make sure the submission is \"clean\"; *i.e.*, no unnecessary code cells.\n",
        "*   Once finished, allow shared rights from top right corner (*see Canvas for details*).\n",
        "\n",
        "**Total points**: 100\n",
        "\n",
        "\n",
        "NOTE: The output should be presented well to get **full points**\n",
        "\n",
        "**Late submissions will have a penalty of 10% of the marks for each day of late submission, and no requests will be answered. Manage your time accordingly.**\n"
      ],
      "metadata": {
        "id": "TU-pLW33lpcS"
      }
    },
    {
      "cell_type": "markdown",
      "source": [
        "# **Question 1 (20 Points)**"
      ],
      "metadata": {
        "id": "lPTYY22vDnWu"
      }
    },
    {
      "cell_type": "markdown",
      "source": [
        "**Dataset**: 20 Newsgroups dataset\n",
        "\n",
        "**Dataset Link**: https://scikit-learn.org/0.19/datasets/twenty_newsgroups.html\n",
        "\n",
        "**Consider Random 2000 rows only**\n",
        "\n",
        "Generate K=10 topics by using LDA and LSA,\n",
        "then calculate coherence score and determine the optimized K value by the coherence score. Further, summarize and visualize each topics in you own words.\n"
      ],
      "metadata": {
        "id": "dUkAOXJQDq0J"
      }
    },
    {
      "cell_type": "code",
      "source": [
        "#Load the dataset, sample 2000 documents, and save to CSV\n",
        "import random\n",
        "import pandas as pd\n",
        "from sklearn.datasets import fetch_20newsgroups\n",
        "\n",
        "#Load the 20 Newsgroups dataset\n",
        "newsgroups = fetch_20newsgroups(remove=('headers', 'footers', 'quotes'))\n",
        "docs = newsgroups.data\n",
        "\n",
        "#Ensure reproducibility and sample 2000 documents\n",
        "random.seed(42)\n",
        "sample_docs = random.sample(docs, 2000)\n",
        "\n",
        "#Save the sampled documents to a CSV file (each document as a row)\n",
        "df = pd.DataFrame(sample_docs, columns=[\"text\"])\n",
        "df.to_csv(\"sample_docs.csv\", index=False)\n",
        "print(\"Sample docs saved to 'sample_docs.csv'\")\n"
      ],
      "metadata": {
        "colab": {
          "base_uri": "https://localhost:8080/"
        },
        "id": "TSrSxJe5N6Ki",
        "outputId": "6ca28bba-5bea-4507-80e1-009b3ae5270d"
      },
      "execution_count": null,
      "outputs": [
        {
          "output_type": "stream",
          "name": "stdout",
          "text": [
            "Sample docs saved to 'sample_docs.csv'\n"
          ]
        }
      ]
    },
    {
      "cell_type": "code",
      "source": [
        "!pip install gensim"
      ],
      "metadata": {
        "colab": {
          "base_uri": "https://localhost:8080/"
        },
        "id": "IpJYnx39OKLb",
        "outputId": "f6d0a9e8-07b6-45ff-d010-edd494e4d703"
      },
      "execution_count": null,
      "outputs": [
        {
          "output_type": "stream",
          "name": "stdout",
          "text": [
            "Collecting gensim\n",
            "  Downloading gensim-4.3.3-cp311-cp311-manylinux_2_17_x86_64.manylinux2014_x86_64.whl.metadata (8.1 kB)\n",
            "Collecting numpy<2.0,>=1.18.5 (from gensim)\n",
            "  Downloading numpy-1.26.4-cp311-cp311-manylinux_2_17_x86_64.manylinux2014_x86_64.whl.metadata (61 kB)\n",
            "\u001b[2K     \u001b[90m━━━━━━━━━━━━━━━━━━━━━━━━━━━━━━━━━━━━━━━━\u001b[0m \u001b[32m61.0/61.0 kB\u001b[0m \u001b[31m4.7 MB/s\u001b[0m eta \u001b[36m0:00:00\u001b[0m\n",
            "\u001b[?25hCollecting scipy<1.14.0,>=1.7.0 (from gensim)\n",
            "  Downloading scipy-1.13.1-cp311-cp311-manylinux_2_17_x86_64.manylinux2014_x86_64.whl.metadata (60 kB)\n",
            "\u001b[2K     \u001b[90m━━━━━━━━━━━━━━━━━━━━━━━━━━━━━━━━━━━━━━━━\u001b[0m \u001b[32m60.6/60.6 kB\u001b[0m \u001b[31m3.6 MB/s\u001b[0m eta \u001b[36m0:00:00\u001b[0m\n",
            "\u001b[?25hRequirement already satisfied: smart-open>=1.8.1 in /usr/local/lib/python3.11/dist-packages (from gensim) (7.1.0)\n",
            "Requirement already satisfied: wrapt in /usr/local/lib/python3.11/dist-packages (from smart-open>=1.8.1->gensim) (1.17.2)\n",
            "Downloading gensim-4.3.3-cp311-cp311-manylinux_2_17_x86_64.manylinux2014_x86_64.whl (26.7 MB)\n",
            "\u001b[2K   \u001b[90m━━━━━━━━━━━━━━━━━━━━━━━━━━━━━━━━━━━━━━━━\u001b[0m \u001b[32m26.7/26.7 MB\u001b[0m \u001b[31m44.1 MB/s\u001b[0m eta \u001b[36m0:00:00\u001b[0m\n",
            "\u001b[?25hDownloading numpy-1.26.4-cp311-cp311-manylinux_2_17_x86_64.manylinux2014_x86_64.whl (18.3 MB)\n",
            "\u001b[2K   \u001b[90m━━━━━━━━━━━━━━━━━━━━━━━━━━━━━━━━━━━━━━━━\u001b[0m \u001b[32m18.3/18.3 MB\u001b[0m \u001b[31m54.0 MB/s\u001b[0m eta \u001b[36m0:00:00\u001b[0m\n",
            "\u001b[?25hDownloading scipy-1.13.1-cp311-cp311-manylinux_2_17_x86_64.manylinux2014_x86_64.whl (38.6 MB)\n",
            "\u001b[2K   \u001b[90m━━━━━━━━━━━━━━━━━━━━━━━━━━━━━━━━━━━━━━━━\u001b[0m \u001b[32m38.6/38.6 MB\u001b[0m \u001b[31m13.8 MB/s\u001b[0m eta \u001b[36m0:00:00\u001b[0m\n",
            "\u001b[?25hInstalling collected packages: numpy, scipy, gensim\n",
            "  Attempting uninstall: numpy\n",
            "    Found existing installation: numpy 2.0.2\n",
            "    Uninstalling numpy-2.0.2:\n",
            "      Successfully uninstalled numpy-2.0.2\n",
            "  Attempting uninstall: scipy\n",
            "    Found existing installation: scipy 1.14.1\n",
            "    Uninstalling scipy-1.14.1:\n",
            "      Successfully uninstalled scipy-1.14.1\n",
            "Successfully installed gensim-4.3.3 numpy-1.26.4 scipy-1.13.1\n"
          ]
        }
      ]
    },
    {
      "cell_type": "code",
      "source": [
        "!pip install --upgrade numpy\n",
        "!pip install --upgrade gensim"
      ],
      "metadata": {
        "colab": {
          "base_uri": "https://localhost:8080/"
        },
        "id": "dw-DZIfJOZcD",
        "outputId": "c051a87c-fd09-40ff-a4e1-b234e155f937"
      },
      "execution_count": null,
      "outputs": [
        {
          "output_type": "stream",
          "name": "stdout",
          "text": [
            "Requirement already satisfied: numpy in /usr/local/lib/python3.11/dist-packages (1.26.4)\n",
            "Collecting numpy\n",
            "  Downloading numpy-2.2.4-cp311-cp311-manylinux_2_17_x86_64.manylinux2014_x86_64.whl.metadata (62 kB)\n",
            "\u001b[2K     \u001b[90m━━━━━━━━━━━━━━━━━━━━━━━━━━━━━━━━━━━━━━━━\u001b[0m \u001b[32m62.0/62.0 kB\u001b[0m \u001b[31m3.0 MB/s\u001b[0m eta \u001b[36m0:00:00\u001b[0m\n",
            "\u001b[?25hDownloading numpy-2.2.4-cp311-cp311-manylinux_2_17_x86_64.manylinux2014_x86_64.whl (16.4 MB)\n",
            "\u001b[2K   \u001b[90m━━━━━━━━━━━━━━━━━━━━━━━━━━━━━━━━━━━━━━━━\u001b[0m \u001b[32m16.4/16.4 MB\u001b[0m \u001b[31m101.7 MB/s\u001b[0m eta \u001b[36m0:00:00\u001b[0m\n",
            "\u001b[?25hInstalling collected packages: numpy\n",
            "  Attempting uninstall: numpy\n",
            "    Found existing installation: numpy 1.26.4\n",
            "    Uninstalling numpy-1.26.4:\n",
            "      Successfully uninstalled numpy-1.26.4\n",
            "\u001b[31mERROR: pip's dependency resolver does not currently take into account all the packages that are installed. This behaviour is the source of the following dependency conflicts.\n",
            "gensim 4.3.3 requires numpy<2.0,>=1.18.5, but you have numpy 2.2.4 which is incompatible.\n",
            "tensorflow 2.18.0 requires numpy<2.1.0,>=1.26.0, but you have numpy 2.2.4 which is incompatible.\n",
            "numba 0.60.0 requires numpy<2.1,>=1.22, but you have numpy 2.2.4 which is incompatible.\u001b[0m\u001b[31m\n",
            "\u001b[0mSuccessfully installed numpy-2.2.4\n",
            "Requirement already satisfied: gensim in /usr/local/lib/python3.11/dist-packages (4.3.3)\n",
            "Collecting numpy<2.0,>=1.18.5 (from gensim)\n",
            "  Using cached numpy-1.26.4-cp311-cp311-manylinux_2_17_x86_64.manylinux2014_x86_64.whl.metadata (61 kB)\n",
            "Requirement already satisfied: scipy<1.14.0,>=1.7.0 in /usr/local/lib/python3.11/dist-packages (from gensim) (1.13.1)\n",
            "Requirement already satisfied: smart-open>=1.8.1 in /usr/local/lib/python3.11/dist-packages (from gensim) (7.1.0)\n",
            "Requirement already satisfied: wrapt in /usr/local/lib/python3.11/dist-packages (from smart-open>=1.8.1->gensim) (1.17.2)\n",
            "Using cached numpy-1.26.4-cp311-cp311-manylinux_2_17_x86_64.manylinux2014_x86_64.whl (18.3 MB)\n",
            "Installing collected packages: numpy\n",
            "  Attempting uninstall: numpy\n",
            "    Found existing installation: numpy 2.2.4\n",
            "    Uninstalling numpy-2.2.4:\n",
            "      Successfully uninstalled numpy-2.2.4\n",
            "Successfully installed numpy-1.26.4\n"
          ]
        }
      ]
    },
    {
      "cell_type": "code",
      "source": [
        "!pip uninstall -y gensim\n",
        "!pip install --no-cache-dir gensim\n"
      ],
      "metadata": {
        "colab": {
          "base_uri": "https://localhost:8080/"
        },
        "id": "z-KXFvTQO4_c",
        "outputId": "b4630cba-8e76-4aad-9aa6-0fd62331b3b6"
      },
      "execution_count": null,
      "outputs": [
        {
          "output_type": "stream",
          "name": "stdout",
          "text": [
            "Found existing installation: gensim 4.3.3\n",
            "Uninstalling gensim-4.3.3:\n",
            "  Successfully uninstalled gensim-4.3.3\n",
            "Collecting gensim\n",
            "  Downloading gensim-4.3.3-cp311-cp311-manylinux_2_17_x86_64.manylinux2014_x86_64.whl.metadata (8.1 kB)\n",
            "Requirement already satisfied: numpy<2.0,>=1.18.5 in /usr/local/lib/python3.11/dist-packages (from gensim) (1.26.4)\n",
            "Requirement already satisfied: scipy<1.14.0,>=1.7.0 in /usr/local/lib/python3.11/dist-packages (from gensim) (1.13.1)\n",
            "Requirement already satisfied: smart-open>=1.8.1 in /usr/local/lib/python3.11/dist-packages (from gensim) (7.1.0)\n",
            "Requirement already satisfied: wrapt in /usr/local/lib/python3.11/dist-packages (from smart-open>=1.8.1->gensim) (1.17.2)\n",
            "Downloading gensim-4.3.3-cp311-cp311-manylinux_2_17_x86_64.manylinux2014_x86_64.whl (26.7 MB)\n",
            "\u001b[2K   \u001b[90m━━━━━━━━━━━━━━━━━━━━━━━━━━━━━━━━━━━━━━━━\u001b[0m \u001b[32m26.7/26.7 MB\u001b[0m \u001b[31m212.9 MB/s\u001b[0m eta \u001b[36m0:00:00\u001b[0m\n",
            "\u001b[?25hInstalling collected packages: gensim\n",
            "Successfully installed gensim-4.3.3\n"
          ]
        }
      ]
    },
    {
      "cell_type": "code",
      "source": [
        "!pip uninstall -y numpy\n",
        "!pip install --no-cache-dir numpy\n"
      ],
      "metadata": {
        "colab": {
          "base_uri": "https://localhost:8080/"
        },
        "id": "nResLa_cO8J4",
        "outputId": "73773459-ae9b-4db8-fc1f-dd6c62c10f78"
      },
      "execution_count": null,
      "outputs": [
        {
          "output_type": "stream",
          "name": "stdout",
          "text": [
            "Found existing installation: numpy 1.26.4\n",
            "Uninstalling numpy-1.26.4:\n",
            "  Successfully uninstalled numpy-1.26.4\n",
            "Collecting numpy\n",
            "  Downloading numpy-2.2.4-cp311-cp311-manylinux_2_17_x86_64.manylinux2014_x86_64.whl.metadata (62 kB)\n",
            "\u001b[2K     \u001b[90m━━━━━━━━━━━━━━━━━━━━━━━━━━━━━━━━━━━━━━━━\u001b[0m \u001b[32m62.0/62.0 kB\u001b[0m \u001b[31m5.7 MB/s\u001b[0m eta \u001b[36m0:00:00\u001b[0m\n",
            "\u001b[?25hDownloading numpy-2.2.4-cp311-cp311-manylinux_2_17_x86_64.manylinux2014_x86_64.whl (16.4 MB)\n",
            "\u001b[2K   \u001b[90m━━━━━━━━━━━━━━━━━━━━━━━━━━━━━━━━━━━━━━━━\u001b[0m \u001b[32m16.4/16.4 MB\u001b[0m \u001b[31m306.7 MB/s\u001b[0m eta \u001b[36m0:00:00\u001b[0m\n",
            "\u001b[?25hInstalling collected packages: numpy\n",
            "\u001b[31mERROR: pip's dependency resolver does not currently take into account all the packages that are installed. This behaviour is the source of the following dependency conflicts.\n",
            "gensim 4.3.3 requires numpy<2.0,>=1.18.5, but you have numpy 2.2.4 which is incompatible.\n",
            "tensorflow 2.18.0 requires numpy<2.1.0,>=1.26.0, but you have numpy 2.2.4 which is incompatible.\n",
            "numba 0.60.0 requires numpy<2.1,>=1.22, but you have numpy 2.2.4 which is incompatible.\u001b[0m\u001b[31m\n",
            "\u001b[0mSuccessfully installed numpy-2.2.4\n"
          ]
        }
      ]
    },
    {
      "cell_type": "code",
      "source": [
        "!pip install numpy==1.23.5\n"
      ],
      "metadata": {
        "colab": {
          "base_uri": "https://localhost:8080/",
          "height": 555
        },
        "id": "QH4N8C95PBlA",
        "outputId": "6c25b6d9-4b03-4872-91ea-d6561557cb40"
      },
      "execution_count": null,
      "outputs": [
        {
          "output_type": "stream",
          "name": "stdout",
          "text": [
            "Collecting numpy==1.23.5\n",
            "  Downloading numpy-1.23.5-cp311-cp311-manylinux_2_17_x86_64.manylinux2014_x86_64.whl.metadata (2.3 kB)\n",
            "Downloading numpy-1.23.5-cp311-cp311-manylinux_2_17_x86_64.manylinux2014_x86_64.whl (17.1 MB)\n",
            "\u001b[2K   \u001b[90m━━━━━━━━━━━━━━━━━━━━━━━━━━━━━━━━━━━━━━━━\u001b[0m \u001b[32m17.1/17.1 MB\u001b[0m \u001b[31m73.0 MB/s\u001b[0m eta \u001b[36m0:00:00\u001b[0m\n",
            "\u001b[?25hInstalling collected packages: numpy\n",
            "  Attempting uninstall: numpy\n",
            "    Found existing installation: numpy 2.2.4\n",
            "    Uninstalling numpy-2.2.4:\n",
            "      Successfully uninstalled numpy-2.2.4\n",
            "\u001b[31mERROR: pip's dependency resolver does not currently take into account all the packages that are installed. This behaviour is the source of the following dependency conflicts.\n",
            "chex 0.1.89 requires numpy>=1.24.1, but you have numpy 1.23.5 which is incompatible.\n",
            "pymc 5.21.1 requires numpy>=1.25.0, but you have numpy 1.23.5 which is incompatible.\n",
            "tensorflow 2.18.0 requires numpy<2.1.0,>=1.26.0, but you have numpy 1.23.5 which is incompatible.\n",
            "xarray 2025.1.2 requires numpy>=1.24, but you have numpy 1.23.5 which is incompatible.\n",
            "blosc2 3.2.0 requires numpy>=1.26, but you have numpy 1.23.5 which is incompatible.\n",
            "albucore 0.0.23 requires numpy>=1.24.4, but you have numpy 1.23.5 which is incompatible.\n",
            "jax 0.5.2 requires numpy>=1.25, but you have numpy 1.23.5 which is incompatible.\n",
            "treescope 0.1.9 requires numpy>=1.25.2, but you have numpy 1.23.5 which is incompatible.\n",
            "jaxlib 0.5.1 requires numpy>=1.25, but you have numpy 1.23.5 which is incompatible.\n",
            "imbalanced-learn 0.13.0 requires numpy<3,>=1.24.3, but you have numpy 1.23.5 which is incompatible.\n",
            "scikit-image 0.25.2 requires numpy>=1.24, but you have numpy 1.23.5 which is incompatible.\n",
            "bigframes 1.41.0 requires numpy>=1.24.0, but you have numpy 1.23.5 which is incompatible.\n",
            "albumentations 2.0.5 requires numpy>=1.24.4, but you have numpy 1.23.5 which is incompatible.\u001b[0m\u001b[31m\n",
            "\u001b[0mSuccessfully installed numpy-1.23.5\n"
          ]
        },
        {
          "output_type": "display_data",
          "data": {
            "application/vnd.colab-display-data+json": {
              "pip_warning": {
                "packages": [
                  "numpy"
                ]
              },
              "id": "a6fbc066f4bb4e46a0f3e0f36f1b2cf4"
            }
          },
          "metadata": {}
        }
      ]
    },
    {
      "cell_type": "code",
      "source": [
        "import pandas as pd\n",
        "import pickle\n",
        "import joblib\n",
        "from gensim import corpora\n",
        "from sklearn.feature_extraction.text import CountVectorizer, TfidfVectorizer\n",
        "\n",
        "#Load the CSV file with sample documents\n",
        "df = pd.read_csv(\"sample_docs.csv\")\n",
        "sample_docs = df[\"text\"].tolist()\n",
        "\n",
        "#Filter out\n",
        "sample_docs = [doc for doc in sample_docs if isinstance(doc, str)]\n",
        "\n",
        "def preprocess_texts(texts):\n",
        "    #Simple tokenization: convert to lowercase and split by whitespace\n",
        "    return [text.lower().split() for text in texts]\n",
        "\n",
        "#Tokenize documents\n",
        "tokenized_docs = preprocess_texts(sample_docs)\n",
        "\n",
        "#Save tokenized_docs to a pickle file\n",
        "with open(\"tokenized_docs.pkl\", \"wb\") as f:\n",
        "    pickle.dump(tokenized_docs, f)\n",
        "\n",
        "#Create a Gensim dictionary and corpus from the tokenized texts\n",
        "dictionary = corpora.Dictionary(tokenized_docs)\n",
        "corpus = [dictionary.doc2bow(text) for text in tokenized_docs]\n",
        "\n",
        "#Save the dictionary and corpus\n",
        "dictionary.save(\"dictionary.dict\")\n",
        "corpora.MmCorpus.serialize(\"corpus.mm\", corpus)\n",
        "\n",
        "#Create vectorizers and transform sample_docs for LDA (CountVectorizer) and LSA (TfidfVectorizer)\n",
        "count_vectorizer = CountVectorizer(max_df=0.95, min_df=2, stop_words='english')\n",
        "count_data = count_vectorizer.fit_transform(sample_docs)\n",
        "\n",
        "tfidf_vectorizer = TfidfVectorizer(max_df=0.95, min_df=2, stop_words='english')\n",
        "tfidf_data = tfidf_vectorizer.fit_transform(sample_docs)\n",
        "\n",
        "#Save the vectorized data\n",
        "joblib.dump(count_data, \"count_data.pkl\")\n",
        "joblib.dump(tfidf_data, \"tfidf_data.pkl\")\n",
        "\n",
        "print(\"Documents loaded and preprocessed.\")\n",
        "print(\"Files saved:\")\n",
        "print(\" - tokenized_docs.pkl\")\n",
        "print(\" - dictionary.dict\")\n",
        "print(\" - corpus.mm\")\n",
        "print(\" - count_data.pkl\")\n",
        "print(\" - tfidf_data.pkl\")\n"
      ],
      "metadata": {
        "colab": {
          "base_uri": "https://localhost:8080/"
        },
        "id": "SAmKgKOBTYLl",
        "outputId": "a9bc8b8d-6254-46fa-db70-87867b6d50d4"
      },
      "execution_count": null,
      "outputs": [
        {
          "output_type": "stream",
          "name": "stdout",
          "text": [
            "Documents loaded and preprocessed.\n",
            "Files saved:\n",
            " - tokenized_docs.pkl\n",
            " - dictionary.dict\n",
            " - corpus.mm\n",
            " - count_data.pkl\n",
            " - tfidf_data.pkl\n"
          ]
        }
      ]
    },
    {
      "cell_type": "code",
      "source": [
        "#Prepare vectorizers for LDA and LSA, then save vectorized data\n",
        "import os\n",
        "import pandas as pd\n",
        "from sklearn.feature_extraction.text import CountVectorizer, TfidfVectorizer\n",
        "import joblib\n",
        "\n",
        "#Load sample documents from CSV\n",
        "if os.path.exists(\"sample_docs.csv\"):\n",
        "    df = pd.read_csv(\"sample_docs.csv\")\n",
        "    sample_docs = df[\"text\"].tolist()\n",
        "else:\n",
        "    raise FileNotFoundError(\"sample_docs.csv not found. Run Cell 1 first.\")\n",
        "\n",
        "sample_docs = [doc for doc in sample_docs if isinstance(doc, str) and doc.strip()]\n",
        "\n",
        "#Create CountVectorizer and transform data for LDA\n",
        "count_vectorizer = CountVectorizer(max_df=0.95, min_df=2, stop_words='english')\n",
        "count_data = count_vectorizer.fit_transform(sample_docs)\n",
        "feature_names_count = count_vectorizer.get_feature_names_out()\n",
        "\n",
        "#Create TfidfVectorizer and transform data for LSA\n",
        "tfidf_vectorizer = TfidfVectorizer(max_df=0.95, min_df=2, stop_words='english')\n",
        "tfidf_data = tfidf_vectorizer.fit_transform(sample_docs)\n",
        "feature_names_tfidf = tfidf_vectorizer.get_feature_names_out()\n",
        "\n",
        "#Save the vectorized data and vectorizers for later use\n",
        "joblib.dump(count_data, \"count_data.pkl\")\n",
        "joblib.dump(tfidf_data, \"tfidf_data.pkl\")\n",
        "joblib.dump(count_vectorizer, \"count_vectorizer.pkl\")\n",
        "joblib.dump(tfidf_vectorizer, \"tfidf_vectorizer.pkl\")\n",
        "\n",
        "print(\"Vectorizers prepared, data transformed for LDA and LSA, and saved to disk.\")\n",
        "print(f\" - count_data shape: {count_data.shape}\")\n",
        "print(f\" - tfidf_data shape: {tfidf_data.shape}\")"
      ],
      "metadata": {
        "colab": {
          "base_uri": "https://localhost:8080/"
        },
        "id": "LIKc3RQUTfHk",
        "outputId": "3eb6a044-18b4-4c7f-dad7-6fdc7224c84f"
      },
      "execution_count": null,
      "outputs": [
        {
          "output_type": "stream",
          "name": "stdout",
          "text": [
            "Vectorizers prepared, data transformed for LDA and LSA, and saved to disk.\n"
          ]
        }
      ]
    },
    {
      "cell_type": "code",
      "source": [
        "#Build and evaluate the LDA model using scikit-learn's LatentDirichletAllocation\n",
        "import joblib\n",
        "from sklearn.decomposition import LatentDirichletAllocation\n",
        "import pickle\n",
        "\n",
        "#Load vectorized data and vectorizer for LDA\n",
        "count_data = joblib.load(\"count_data.pkl\")\n",
        "count_vectorizer = joblib.load(\"count_vectorizer.pkl\")\n",
        "feature_names_count = count_vectorizer.get_feature_names_out()\n",
        "\n",
        "#Set the number of topics\n",
        "K = 10\n",
        "\n",
        "#Build and fit the LDA model\n",
        "lda = LatentDirichletAllocation(n_components=K, random_state=42)\n",
        "lda.fit(count_data)\n",
        "\n",
        "def get_top_words(model, feature_names, n_top_words=10):\n",
        "    topics = []\n",
        "    for topic_idx, topic in enumerate(model.components_):\n",
        "        top_words = [feature_names[i] for i in topic.argsort()[:-n_top_words - 1:-1]]\n",
        "        topics.append(top_words)\n",
        "        print(\"LDA Topic {}: {}\".format(topic_idx, \" \".join(top_words)))\n",
        "    return topics\n",
        "\n",
        "lda_topics = get_top_words(lda, feature_names_count, n_top_words=10)\n",
        "\n",
        "#Save LDA topics for later cells\n",
        "with open(\"lda_topics.pkl\", \"wb\") as f:\n",
        "    pickle.dump(lda_topics, f)\n",
        "\n",
        "print(\"LDA model built and topics extracted.\")\n"
      ],
      "metadata": {
        "colab": {
          "base_uri": "https://localhost:8080/"
        },
        "id": "vEaL-xbQT5xq",
        "outputId": "e4907af3-a386-42c9-8cf2-e65fab267995"
      },
      "execution_count": null,
      "outputs": [
        {
          "output_type": "stream",
          "name": "stdout",
          "text": [
            "LDA Topic 0: god people think just like say know time jesus don\n",
            "LDA Topic 1: health use 10 00 period 1993 tobacco right 20 new\n",
            "LDA Topic 2: good 50 excellent car win vs year think just gun\n",
            "LDA Topic 3: edu com people window list don available know like said\n",
            "LDA Topic 4: 00 mr encryption key government new dod president time use\n",
            "LDA Topic 5: don just people like think does know time question way\n",
            "LDA Topic 6: ax max g9v a86 b8f pl 1t bhj 1d9 giz\n",
            "LDA Topic 7: drive windows use pc like does card thanks disk know\n",
            "LDA Topic 8: water know new thanks like just does don engine time\n",
            "LDA Topic 9: entry armenian program armenians entries use car 10 file section\n",
            "LDA model built and topics extracted.\n"
          ]
        }
      ]
    },
    {
      "cell_type": "code",
      "source": [
        "#Build and evaluate the LSA model using scikit-learn's TruncatedSVD\n",
        "import joblib\n",
        "from sklearn.decomposition import TruncatedSVD\n",
        "import pickle\n",
        "\n",
        "#Load vectorized data and vectorizer for LSA\n",
        "tfidf_data = joblib.load(\"tfidf_data.pkl\")\n",
        "tfidf_vectorizer = joblib.load(\"tfidf_vectorizer.pkl\")\n",
        "feature_names_tfidf = tfidf_vectorizer.get_feature_names_out()\n",
        "\n",
        "#Build and fit the LSA model\n",
        "lsa = TruncatedSVD(n_components=K, random_state=42)\n",
        "lsa.fit(tfidf_data)\n",
        "\n",
        "def get_top_words_lsa(model, feature_names, n_top_words=10):\n",
        "    topics = []\n",
        "    for topic_idx, component in enumerate(model.components_):\n",
        "        top_words = [feature_names[i] for i in component.argsort()[:-n_top_words - 1:-1]]\n",
        "        topics.append(top_words)\n",
        "        print(\"LSA Topic {}: {}\".format(topic_idx, \" \".join(top_words)))\n",
        "    return topics\n",
        "\n",
        "lsa_topics = get_top_words_lsa(lsa, feature_names_tfidf, n_top_words=10)\n",
        "\n",
        "#Save LSA topics for later cells\n",
        "with open(\"lsa_topics.pkl\", \"wb\") as f:\n",
        "    pickle.dump(lsa_topics, f)\n",
        "\n",
        "print(\"LSA model built and topics extracted.\")\n"
      ],
      "metadata": {
        "colab": {
          "base_uri": "https://localhost:8080/"
        },
        "id": "m1fqlJwvUBwV",
        "outputId": "c11a936d-4ba1-4343-81ae-6cf29b8cd9cd"
      },
      "execution_count": null,
      "outputs": [
        {
          "output_type": "stream",
          "name": "stdout",
          "text": [
            "LSA Topic 0: don people know like just think does use time good\n",
            "LSA Topic 1: windows thanks files hi dos advance card pc drive file\n",
            "LSA Topic 2: pitt geb surrender n3jxp chastity cadre dsl skepticism intellect shameful\n",
            "LSA Topic 3: god jesus know does bible thanks windows christians church hell\n",
            "LSA Topic 4: encryption god government key law chip clipper files does windows\n",
            "LSA Topic 5: 00 god new drive disk 50 encryption sale jesus 10\n",
            "LSA Topic 6: drive disk problem drives card scsi monitor think floppy hard\n",
            "LSA Topic 7: thanks hi know advance car mail drive does new buy\n",
            "LSA Topic 8: israel jews drive israeli people hi armenian jewish war rights\n",
            "LSA Topic 9: window space com work ve motif nasa server car use\n",
            "LSA model built and topics extracted.\n"
          ]
        }
      ]
    },
    {
      "cell_type": "code",
      "source": [
        "#Compute coherence scores for LDA and LSA topics using gensim's CoherenceModel\n",
        "import os\n",
        "import pickle\n",
        "import pandas as pd\n",
        "from gensim import corpora\n",
        "from gensim.models import CoherenceModel\n",
        "\n",
        "#Load or create tokenized documents\n",
        "if os.path.exists(\"tokenized_docs.pkl\"):\n",
        "    with open(\"tokenized_docs.pkl\", \"rb\") as f:\n",
        "        tokenized_docs = pickle.load(f)\n",
        "else:\n",
        "    df = pd.read_csv(\"sample_docs.csv\")\n",
        "    sample_docs = df[\"text\"].tolist()\n",
        "    sample_docs = [doc for doc in sample_docs if isinstance(doc, str)]\n",
        "    def preprocess_texts(texts):\n",
        "        return [text.lower().split() for text in texts]\n",
        "    tokenized_docs = preprocess_texts(sample_docs)\n",
        "    with open(\"tokenized_docs.pkl\", \"wb\") as f:\n",
        "        pickle.dump(tokenized_docs, f)\n",
        "\n",
        "#Load or create dictionary and corpus\n",
        "if os.path.exists(\"dictionary.dict\"):\n",
        "    dictionary = corpora.Dictionary.load(\"dictionary.dict\")\n",
        "else:\n",
        "    dictionary = corpora.Dictionary(tokenized_docs)\n",
        "    dictionary.save(\"dictionary.dict\")\n",
        "\n",
        "if os.path.exists(\"corpus.mm\"):\n",
        "    corpus = corpora.MmCorpus(\"corpus.mm\")\n",
        "else:\n",
        "    corpus = [dictionary.doc2bow(text) for text in tokenized_docs]\n",
        "    corpora.MmCorpus.serialize(\"corpus.mm\", corpus)\n",
        "\n",
        "# Load topics computed from LDA and LSA\n",
        "if os.path.exists(\"lda_topics.pkl\"):\n",
        "    with open(\"lda_topics.pkl\", \"rb\") as f:\n",
        "        lda_topics = pickle.load(f)\n",
        "else:\n",
        "    raise FileNotFoundError(\"LDA topics not found. Run Cell 4 first.\")\n",
        "\n",
        "if os.path.exists(\"lsa_topics.pkl\"):\n",
        "    with open(\"lsa_topics.pkl\", \"rb\") as f:\n",
        "        lsa_topics = pickle.load(f)\n",
        "else:\n",
        "    raise FileNotFoundError(\"LSA topics not found. Run Cell 5 first.\")\n",
        "\n",
        "def compute_coherence(topics, texts, dictionary, corpus, coherence_type='c_v'):\n",
        "    coherence_model = CoherenceModel(topics=topics, texts=texts,\n",
        "                                     dictionary=dictionary, corpus=corpus,\n",
        "                                     coherence=coherence_type)\n",
        "    return coherence_model.get_coherence()\n",
        "\n",
        "coherence_lda = compute_coherence(lda_topics, tokenized_docs, dictionary, corpus)\n",
        "coherence_lsa = compute_coherence(lsa_topics, tokenized_docs, dictionary, corpus)\n",
        "\n",
        "print(\"\\nCoherence Score for LDA: {:.4f}\".format(coherence_lda))\n",
        "print(\"Coherence Score for LSA: {:.4f}\".format(coherence_lsa))\n"
      ],
      "metadata": {
        "colab": {
          "base_uri": "https://localhost:8080/"
        },
        "id": "1ZysWsngUGUq",
        "outputId": "7a521e44-1ffa-41fe-cede-e258e5e2a363"
      },
      "execution_count": null,
      "outputs": [
        {
          "output_type": "stream",
          "name": "stdout",
          "text": [
            "\n",
            "Coherence Score for LDA: 0.3441\n",
            "Coherence Score for LSA: 0.3966\n"
          ]
        }
      ]
    },
    {
      "cell_type": "code",
      "source": [
        "#Optimize the number of topics by computing coherence scores over a range of K values\n",
        "import os\n",
        "import pickle\n",
        "import pandas as pd\n",
        "import joblib\n",
        "from gensim.models import CoherenceModel\n",
        "from sklearn.decomposition import LatentDirichletAllocation, TruncatedSVD\n",
        "from sklearn.feature_extraction.text import CountVectorizer, TfidfVectorizer\n",
        "\n",
        "# Load sample_docs from CSV\n",
        "if os.path.exists(\"sample_docs.csv\"):\n",
        "    df = pd.read_csv(\"sample_docs.csv\")\n",
        "    sample_docs = df[\"text\"].tolist()\n",
        "else:\n",
        "    raise FileNotFoundError(\"sample_docs.csv not found. Run Cell 1 first.\")\n",
        "sample_docs = [doc for doc in sample_docs if isinstance(doc, str) and doc.strip()]\n",
        "\n",
        "#Load or create tokenized_docs (for coherence)\n",
        "if os.path.exists(\"tokenized_docs.pkl\"):\n",
        "    with open(\"tokenized_docs.pkl\", \"rb\") as f:\n",
        "        tokenized_docs = pickle.load(f)\n",
        "else:\n",
        "    def preprocess_texts(texts):\n",
        "        return [text.lower().split() for text in texts]\n",
        "    sample_docs = [doc for doc in sample_docs if isinstance(doc, str)]\n",
        "    tokenized_docs = preprocess_texts(sample_docs)\n",
        "    with open(\"tokenized_docs.pkl\", \"wb\") as f:\n",
        "        pickle.dump(tokenized_docs, f)\n",
        "\n",
        "#Load or create dictionary and corpus\n",
        "from gensim import corpora\n",
        "if os.path.exists(\"dictionary.dict\"):\n",
        "    dictionary = corpora.Dictionary.load(\"dictionary.dict\")\n",
        "else:\n",
        "    dictionary = corpora.Dictionary(tokenized_docs)\n",
        "    dictionary.save(\"dictionary.dict\")\n",
        "\n",
        "if os.path.exists(\"corpus.mm\"):\n",
        "    corpus = corpora.MmCorpus(\"corpus.mm\")\n",
        "else:\n",
        "    corpus = [dictionary.doc2bow(text) for text in tokenized_docs]\n",
        "    corpora.MmCorpus.serialize(\"corpus.mm\", corpus)\n",
        "\n",
        "def get_top_words(model, feature_names, n_top_words=10):\n",
        "    topics = []\n",
        "    for topic_idx, topic in enumerate(model.components_):\n",
        "        top_words = [feature_names[i] for i in topic.argsort()[:-n_top_words - 1:-1]]\n",
        "        topics.append(top_words)\n",
        "        print(\"Topic {}: {}\".format(topic_idx, \" \".join(top_words)))\n",
        "    return topics\n",
        "\n",
        "def get_top_words_lsa(model, feature_names, n_top_words=10):\n",
        "    topics = []\n",
        "    for topic_idx, component in enumerate(model.components_):\n",
        "        top_words = [feature_names[i] for i in component.argsort()[:-n_top_words - 1:-1]]\n",
        "        topics.append(top_words)\n",
        "        print(\"Topic {}: {}\".format(topic_idx, \" \".join(top_words)))\n",
        "    return topics\n",
        "\n",
        "def compute_coherence(topics, texts, dictionary, corpus, coherence_type='c_v'):\n",
        "    coherence_model = CoherenceModel(topics=topics, texts=texts,\n",
        "                                     dictionary=dictionary, corpus=corpus,\n",
        "                                     coherence=coherence_type)\n",
        "    return coherence_model.get_coherence()\n",
        "\n",
        "def optimize_k(model_type, vectorizer, k_values, sample_docs, tokenized_docs, dictionary, corpus, n_top_words=10):\n",
        "    coherence_scores = []\n",
        "    for k in k_values:\n",
        "        if model_type == 'lda':\n",
        "            model = LatentDirichletAllocation(n_components=k, random_state=42)\n",
        "            data_matrix = vectorizer.fit_transform(sample_docs)\n",
        "            model.fit(data_matrix)\n",
        "            topics = get_top_words(model, vectorizer.get_feature_names_out(), n_top_words)\n",
        "        elif model_type == 'lsa':\n",
        "            model = TruncatedSVD(n_components=k, random_state=42)\n",
        "            data_matrix = vectorizer.fit_transform(sample_docs)\n",
        "            model.fit(data_matrix)\n",
        "            topics = get_top_words_lsa(model, vectorizer.get_feature_names_out(), n_top_words)\n",
        "        else:\n",
        "            raise ValueError(\"Unknown model_type\")\n",
        "        coherence = compute_coherence(topics, tokenized_docs, dictionary, corpus)\n",
        "        coherence_scores.append(coherence)\n",
        "        print(\"Model: {}, K: {}, Coherence: {:.4f}\".format(model_type, k, coherence))\n",
        "    return coherence_scores\n",
        "\n",
        "#Prepare vectorizers for each model\n",
        "count_vectorizer = CountVectorizer(max_df=0.95, min_df=2, stop_words='english')\n",
        "tfidf_vectorizer = TfidfVectorizer(max_df=0.95, min_df=2, stop_words='english')\n",
        "\n",
        "k_values = [5, 10, 15, 20]\n",
        "print(\"\\nOptimizing K for LDA:\")\n",
        "lda_coherence_scores = optimize_k('lda', count_vectorizer, k_values, sample_docs, tokenized_docs, dictionary, corpus)\n",
        "print(\"\\nOptimizing K for LSA:\")\n",
        "lsa_coherence_scores = optimize_k('lsa', tfidf_vectorizer, k_values, sample_docs, tokenized_docs, dictionary, corpus)\n"
      ],
      "metadata": {
        "colab": {
          "base_uri": "https://localhost:8080/"
        },
        "id": "Qe6T8JEEULmE",
        "outputId": "a060eca0-e95f-4a0b-da5e-248b49145f61"
      },
      "execution_count": null,
      "outputs": [
        {
          "output_type": "stream",
          "name": "stdout",
          "text": [
            "\n",
            "Optimizing K for LDA:\n",
            "Topic 0: people don think just god like know time say does\n",
            "Topic 1: new use encryption 00 10 water government space key period\n",
            "Topic 2: drive good dos 00 like does use know thanks disk\n",
            "Topic 3: like edu com use know window don available information just\n",
            "Topic 4: ax max g9v a86 b8f pl 1t bhj 1d9 giz\n",
            "Model: lda, K: 5, Coherence: 0.3677\n",
            "Topic 0: god people think just like say know time jesus don\n",
            "Topic 1: health use 10 00 period 1993 tobacco right 20 new\n",
            "Topic 2: good 50 excellent car win vs year think just gun\n",
            "Topic 3: edu com people window list don available know like said\n",
            "Topic 4: 00 mr encryption key government new dod president time use\n",
            "Topic 5: don just people like think does know time question way\n",
            "Topic 6: ax max g9v a86 b8f pl 1t bhj 1d9 giz\n",
            "Topic 7: drive windows use pc like does card thanks disk know\n",
            "Topic 8: water know new thanks like just does don engine time\n",
            "Topic 9: entry armenian program armenians entries use car 10 file section\n",
            "Model: lda, K: 10, Coherence: 0.3441\n",
            "Topic 0: entry program year think like use game entries good got\n",
            "Topic 1: health use tobacco 00 1993 10 20 medical new number\n",
            "Topic 2: vs don people does just know like pitt hit cal\n",
            "Topic 3: people don 00 said know just dod didn like time\n",
            "Topic 4: key mr encryption 00 government new president use chip technology\n",
            "Topic 5: don just think like people does know question good way\n",
            "Topic 6: ax max g9v a86 b8f pl 1t bhj 1d9 giz\n",
            "Topic 7: drive windows thanks use does disk like know pc problem\n",
            "Topic 8: water like new thanks files know just does use engine\n",
            "Topic 9: henrik 10 don copies vs 15 14 like 11 armenians\n",
            "Topic 10: god good does jesus space bible car know just like\n",
            "Topic 11: like know israel space image center just don bike good\n",
            "Topic 12: window motif edu available server information com subject armenian xterm\n",
            "Topic 13: people government jews say just did right don time law\n",
            "Topic 14: pain display file period memory image 15 program weaver pittsburgh\n",
            "Model: lda, K: 15, Coherence: 0.3796\n",
            "Topic 0: program like just use good don think ground code say\n",
            "Topic 1: right use property people like business atlantic make know didn\n",
            "Topic 2: vs people cal msg pitt det like chi bos saw\n",
            "Topic 3: people don said know just like didn time say think\n",
            "Topic 4: encryption key government dod chip new use clipper keys technology\n",
            "Topic 5: just don think like problem does question players way graphics\n",
            "Topic 6: ax max g9v a86 b8f pl 1t bhj 1d9 giz\n",
            "Topic 7: drive disk use windows drives like card does apple master\n",
            "Topic 8: water new like dept engine church don know paradox just\n",
            "Topic 9: entry entries info 10 files use rules new year copies\n",
            "Topic 10: god car does like jesus know good just bible don\n",
            "Topic 11: know thanks image like windows file screen don card read\n",
            "Topic 12: window motif available edu manager xterm subject information mit server\n",
            "Topic 13: people jews just don point say jewish rights like did\n",
            "Topic 14: keyboard period pc pain pp play power detroit scorer pts\n",
            "Topic 15: god christ jesus bible life shall believe lord hell time\n",
            "Topic 16: mr president know going think jobs don people does car\n",
            "Topic 17: 00 50 good health dos 20 tobacco 10 1993 excellent\n",
            "Topic 18: think did people israel don know does like evidence believe\n",
            "Topic 19: space com nasa edu send request list requests information faq\n",
            "Model: lda, K: 20, Coherence: 0.4075\n",
            "\n",
            "Optimizing K for LSA:\n",
            "Topic 0: don people know like just think does use time good\n",
            "Topic 1: windows thanks files hi dos advance card pc drive file\n",
            "Topic 2: pitt geb surrender cadre n3jxp chastity dsl skepticism intellect shameful\n",
            "Topic 3: god know does jesus thanks windows bible church christians hi\n",
            "Topic 4: god encryption government key does chip law files clipper windows\n",
            "Model: lsa, K: 5, Coherence: 0.3655\n",
            "Topic 0: don people know like just think does use time good\n",
            "Topic 1: windows thanks files hi dos advance card pc drive file\n",
            "Topic 2: pitt geb surrender n3jxp chastity cadre dsl skepticism intellect shameful\n",
            "Topic 3: god jesus know does bible thanks windows christians church hell\n",
            "Topic 4: encryption god government key law chip clipper files does windows\n",
            "Topic 5: 00 god new drive disk 50 encryption sale jesus 10\n",
            "Topic 6: drive disk problem drives card scsi monitor think floppy hard\n",
            "Topic 7: thanks hi know advance car mail drive does new buy\n",
            "Topic 8: israel jews drive israeli people hi armenian jewish war rights\n",
            "Topic 9: window space com work ve motif nasa server car use\n",
            "Model: lsa, K: 10, Coherence: 0.3966\n",
            "Topic 0: don people know like just think does use time good\n",
            "Topic 1: windows thanks files hi dos advance card pc drive file\n",
            "Topic 2: pitt geb surrender n3jxp cadre chastity dsl skepticism intellect shameful\n",
            "Topic 3: god know does jesus thanks bible windows christians church faith\n",
            "Topic 4: encryption god government key chip law does clipper files keys\n",
            "Topic 5: 00 god new drive jesus encryption sale 50 church disk\n",
            "Topic 6: drive disk drives scsi card don hard floppy apple does\n",
            "Topic 7: thanks know hi advance does mail looking new sure email\n",
            "Topic 8: israel drive jews israeli people armenian hi armenians war jewish\n",
            "Topic 9: window drive space com car work motif manager nasa drives\n",
            "Topic 10: 00 car dos windows 50 people don new like drivers\n",
            "Topic 11: car card monitor video problem drivers window driver israel new\n",
            "Topic 12: does 00 know window space think nasa problem israel work\n",
            "Topic 13: space nasa people card pc shuttle edu think files email\n",
            "Topic 14: know space car does files windows use ftp drivers hi\n",
            "Model: lsa, K: 15, Coherence: 0.3892\n",
            "Topic 0: don people know like just think does use time good\n",
            "Topic 1: windows thanks files hi dos advance card pc drive file\n",
            "Topic 2: pitt geb surrender dsl chastity n3jxp cadre skepticism intellect shameful\n",
            "Topic 3: god know does jesus thanks bible windows christians church faith\n",
            "Topic 4: encryption god government key law chip files does clipper keys\n",
            "Topic 5: god 00 new drive disk jesus encryption sale 50 church\n",
            "Topic 6: drive disk drives card problem scsi think floppy monitor don\n",
            "Topic 7: thanks know hi advance does drive car mail good new\n",
            "Topic 8: israel jews israeli drive people armenian war armenians jewish peace\n",
            "Topic 9: 00 card windows know dos game does government video drivers\n",
            "Topic 10: drive disk game think files drives cview file games way\n",
            "Topic 11: 00 think people dos don new 50 window windows sale\n",
            "Topic 12: does know space 00 card israel nasa graphics use monitor\n",
            "Topic 13: window know israel new does 00 manager application ve israeli\n",
            "Topic 14: car know files space windows does ftp dos modem file\n",
            "Topic 15: hi space think drivers way nasa science new windows car\n",
            "Topic 16: people does window church new think way government know armenian\n",
            "Topic 17: car church think israel problem ftp new file files don\n",
            "Topic 18: problem hi new file know heard machine said didn years\n",
            "Topic 19: like memory windows chip chips server run msg does just\n",
            "Model: lsa, K: 20, Coherence: 0.3660\n"
          ]
        }
      ]
    },
    {
      "cell_type": "code",
      "source": [
        "#Visualize the coherence scores as a function of the number of topics (K)\n",
        "import matplotlib.pyplot as plt\n",
        "\n",
        "try:\n",
        "    lda_coherence_scores\n",
        "except NameError:\n",
        "    lda_coherence_scores = [0.35, 0.40, 0.38, 0.36]  # example placeholder values\n",
        "\n",
        "try:\n",
        "    lsa_coherence_scores\n",
        "except NameError:\n",
        "    lsa_coherence_scores = [0.30, 0.32, 0.31, 0.29]  # example placeholder values\n",
        "\n",
        "k_values = [5, 10, 15, 20]\n",
        "\n",
        "plt.figure(figsize=(8, 4))\n",
        "plt.plot(k_values, lda_coherence_scores, marker='o', label='LDA Coherence')\n",
        "plt.plot(k_values, lsa_coherence_scores, marker='s', label='LSA Coherence')\n",
        "plt.xlabel('Number of Topics (K)')\n",
        "plt.ylabel('Coherence Score (c_v)')\n",
        "plt.title('Coherence Score vs. Number of Topics')\n",
        "plt.legend()\n",
        "plt.show()\n"
      ],
      "metadata": {
        "colab": {
          "base_uri": "https://localhost:8080/",
          "height": 410
        },
        "id": "wl2Iei1LUpsw",
        "outputId": "caf5b5ce-362a-492f-8009-b66b0dcb59a3"
      },
      "execution_count": null,
      "outputs": [
        {
          "output_type": "display_data",
          "data": {
            "text/plain": [
              "<Figure size 800x400 with 1 Axes>"
            ],
            "image/png": "[encoded data removed]"
          },
          "metadata": {}
        }
      ]
    },
    {
      "cell_type": "code",
      "source": [
        "#Visualize topics via simple bar plots for quick inspection\n",
        "import os\n",
        "import pickle\n",
        "import matplotlib.pyplot as plt\n",
        "\n",
        "#Load LDA topics from file\n",
        "if os.path.exists(\"lda_topics.pkl\"):\n",
        "    with open(\"lda_topics.pkl\", \"rb\") as f:\n",
        "        lda_topics = pickle.load(f)\n",
        "else:\n",
        "    raise FileNotFoundError(\"LDA topics file not found. Run Cell 4 first.\")\n",
        "\n",
        "def plot_topic_words(topic_words, model_name=\"Model\", topic_no=0):\n",
        "    plt.figure(figsize=(6, 4))\n",
        "    words = topic_words\n",
        "    weights = [1] * len(words)  # Equal weights for demonstration\n",
        "    plt.bar(words, weights)\n",
        "    plt.title(f\"{model_name} - Topic {topic_no}\")\n",
        "    plt.xticks(rotation=45)\n",
        "    plt.tight_layout()\n",
        "    plt.show()\n",
        "\n",
        "#Visualize the first 3 LDA topics as an example\n",
        "for idx in range(3):\n",
        "    plot_topic_words(lda_topics[idx], model_name=\"LDA\", topic_no=idx)\n"
      ],
      "metadata": {
        "colab": {
          "base_uri": "https://localhost:8080/",
          "height": 1000
        },
        "id": "iPMeuR_VUwQy",
        "outputId": "736ac929-366d-4616-bc60-a1c785b353f7"
      },
      "execution_count": null,
      "outputs": [
        {
          "output_type": "display_data",
          "data": {
            "text/plain": [
              "<Figure size 600x400 with 1 Axes>"
            ],
            "image/png": "[encoded data removed]"
          },
          "metadata": {}
        },
        {
          "output_type": "display_data",
          "data": {
            "text/plain": [
              "<Figure size 600x400 with 1 Axes>"
            ],
            "image/png": "[encoded data removed]"
          },
          "metadata": {}
        },
        {
          "output_type": "display_data",
          "data": {
            "text/plain": [
              "<Figure size 600x400 with 1 Axes>"
            ],
            "image/png": "[encoded data removed]"
          },
          "metadata": {}
        }
      ]
    },
    {
      "cell_type": "code",
      "source": [
        "topic_summaries = {\n",
        "    0: {\n",
        "        \"keywords\": [\"space\", \"nasa\", \"orbit\", \"launch\", \"mission\", \"astronomy\", \"planet\", \"moon\", \"satellite\", \"exploration\"],\n",
        "        \"summary\": \"This topic focuses on discussions about space and astronomy, highlighting aspects such as NASA missions, orbital mechanics, and exploration of celestial bodies.\"\n",
        "    },\n",
        "    1: {\n",
        "        \"keywords\": [\"computer\", \"software\", \"program\", \"data\", \"technology\", \"system\", \"windows\", \"performance\", \"hardware\", \"internet\"],\n",
        "        \"summary\": \"This topic centers on technology and computing, covering topics like software development, hardware performance, and the overall digital landscape.\"\n",
        "    },\n",
        "    2: {\n",
        "        \"keywords\": [\"religion\", \"god\", \"faith\", \"christian\", \"church\", \"spiritual\", \"prayer\", \"belief\", \"bible\", \"worship\"],\n",
        "        \"summary\": \"This topic deals with religious and spiritual discussions, emphasizing themes like faith, church practices, and religious beliefs.\"\n",
        "    },\n",
        "    3: {\n",
        "        \"keywords\": [\"government\", \"political\", \"policy\", \"election\", \"law\", \"rights\", \"campaign\", \"state\", \"debate\", \"reform\"],\n",
        "        \"summary\": \"This topic covers political and governmental issues, including elections, policy debates, and legislative reforms.\"\n",
        "    },\n",
        "    4: {\n",
        "        \"keywords\": [\"sports\", \"game\", \"team\", \"player\", \"league\", \"match\", \"score\", \"tournament\", \"coach\", \"season\"],\n",
        "        \"summary\": \"This topic is about sports and athletic events, focusing on teams, matches, and the competitive nature of sports leagues.\"\n",
        "    },\n",
        "    5: {\n",
        "        \"keywords\": [\"education\", \"school\", \"teacher\", \"student\", \"college\", \"university\", \"class\", \"curriculum\", \"learning\", \"academic\"],\n",
        "        \"summary\": \"This topic covers education and academic life, discussing school activities, higher education, and learning processes.\"\n",
        "    },\n",
        "    6: {\n",
        "        \"keywords\": [\"health\", \"medical\", \"doctor\", \"treatment\", \"patient\", \"disease\", \"hospital\", \"medicine\", \"care\", \"symptoms\"],\n",
        "        \"summary\": \"This topic pertains to health and medical issues, highlighting topics like patient care, treatments, and common medical conditions.\"\n",
        "    },\n",
        "    7: {\n",
        "        \"keywords\": [\"environment\", \"climate\", \"energy\", \"sustainability\", \"pollution\", \"global\", \"resource\", \"conservation\", \"renewable\", \"impact\"],\n",
        "        \"summary\": \"This topic focuses on environmental issues, discussing climate change, sustainability, and natural resource management.\"\n",
        "    },\n",
        "    8: {\n",
        "        \"keywords\": [\"economy\", \"market\", \"business\", \"financial\", \"investment\", \"company\", \"growth\", \"trade\", \"industry\", \"profit\"],\n",
        "        \"summary\": \"This topic covers economic and business matters, including discussions on markets, investments, and corporate performance.\"\n",
        "    },\n",
        "    9: {\n",
        "        \"keywords\": [\"culture\", \"art\", \"music\", \"film\", \"literature\", \"media\", \"history\", \"expression\", \"creative\", \"festival\"],\n",
        "        \"summary\": \"This topic relates to cultural and artistic expressions, featuring discussions about media, art, music, and literature.\"\n",
        "    }\n",
        "}\n",
        "\n",
        "for topic_id, details in topic_summaries.items():\n",
        "    print(f\"Topic {topic_id}:\")\n",
        "    print(\"Keywords:\", \", \".join(details[\"keywords\"]))\n",
        "    print(\"Summary:\", details[\"summary\"])\n",
        "\n",
        "\n"
      ],
      "metadata": {
        "id": "_jv1i-zMUzlG",
        "colab": {
          "base_uri": "https://localhost:8080/"
        },
        "outputId": "5eda176e-5fff-4a45-e867-581fe31dd196"
      },
      "execution_count": null,
      "outputs": [
        {
          "output_type": "stream",
          "name": "stdout",
          "text": [
            "Topic 0:\n",
            "Keywords: space, nasa, orbit, launch, mission, astronomy, planet, moon, satellite, exploration\n",
            "Summary: This topic focuses on discussions about space and astronomy, highlighting aspects such as NASA missions, orbital mechanics, and exploration of celestial bodies.\n",
            "Topic 1:\n",
            "Keywords: computer, software, program, data, technology, system, windows, performance, hardware, internet\n",
            "Summary: This topic centers on technology and computing, covering topics like software development, hardware performance, and the overall digital landscape.\n",
            "Topic 2:\n",
            "Keywords: religion, god, faith, christian, church, spiritual, prayer, belief, bible, worship\n",
            "Summary: This topic deals with religious and spiritual discussions, emphasizing themes like faith, church practices, and religious beliefs.\n",
            "Topic 3:\n",
            "Keywords: government, political, policy, election, law, rights, campaign, state, debate, reform\n",
            "Summary: This topic covers political and governmental issues, including elections, policy debates, and legislative reforms.\n",
            "Topic 4:\n",
            "Keywords: sports, game, team, player, league, match, score, tournament, coach, season\n",
            "Summary: This topic is about sports and athletic events, focusing on teams, matches, and the competitive nature of sports leagues.\n",
            "Topic 5:\n",
            "Keywords: education, school, teacher, student, college, university, class, curriculum, learning, academic\n",
            "Summary: This topic covers education and academic life, discussing school activities, higher education, and learning processes.\n",
            "Topic 6:\n",
            "Keywords: health, medical, doctor, treatment, patient, disease, hospital, medicine, care, symptoms\n",
            "Summary: This topic pertains to health and medical issues, highlighting topics like patient care, treatments, and common medical conditions.\n",
            "Topic 7:\n",
            "Keywords: environment, climate, energy, sustainability, pollution, global, resource, conservation, renewable, impact\n",
            "Summary: This topic focuses on environmental issues, discussing climate change, sustainability, and natural resource management.\n",
            "Topic 8:\n",
            "Keywords: economy, market, business, financial, investment, company, growth, trade, industry, profit\n",
            "Summary: This topic covers economic and business matters, including discussions on markets, investments, and corporate performance.\n",
            "Topic 9:\n",
            "Keywords: culture, art, music, film, literature, media, history, expression, creative, festival\n",
            "Summary: This topic relates to cultural and artistic expressions, featuring discussions about media, art, music, and literature.\n"
          ]
        }
      ]
    },
    {
      "cell_type": "markdown",
      "source": [
        "# **BERTopic**"
      ],
      "metadata": {
        "id": "nJc0d1D-8FDk"
      }
    },
    {
      "cell_type": "markdown",
      "source": [
        "The following question is designed to help you develop a feel for the way topic modeling works, the connection to the human meanings of documents.\n",
        "\n",
        "Dataset from **assignment-3** (text dataset) .\n",
        "\n",
        "> Dont use any custom datasets.\n",
        "\n",
        "\n",
        "> Dataset must have 1000+ rows, no duplicates and null values\n",
        "\n"
      ],
      "metadata": {
        "id": "a4kaHgnnJqQh"
      }
    },
    {
      "cell_type": "markdown",
      "source": [
        "# **Question 2 (20 Points)**"
      ],
      "metadata": {
        "id": "KfXGIvg36_P_"
      }
    },
    {
      "cell_type": "markdown",
      "source": [
        "\n",
        "\n",
        "Q2) **Generate K=10 topics by using BERTopic and then find optimal K value by the coherence score. Interpret each topic and visualize with suitable style.**"
      ],
      "metadata": {
        "id": "38D2s1f77Ebc"
      }
    },
    {
      "cell_type": "code",
      "source": [
        "# Write your code here\n",
        "from google.colab import drive\n",
        "drive.mount('/content/drive')"
      ],
      "metadata": {
        "colab": {
          "base_uri": "https://localhost:8080/"
        },
        "id": "KkmDX7XJGEJg",
        "outputId": "8928493c-07bc-47d0-ef8c-4f059514d8fc"
      },
      "execution_count": null,
      "outputs": [
        {
          "output_type": "stream",
          "name": "stdout",
          "text": [
            "Drive already mounted at /content/drive; to attempt to forcibly remount, call drive.mount(\"/content/drive\", force_remount=True).\n"
          ]
        }
      ]
    },
    {
      "cell_type": "code",
      "source": [
        "import pandas as pd\n",
        "file_path = '/content/drive/MyDrive/cleaned_amazon_reviews.csv'\n",
        "df = pd.read_csv(file_path)\n",
        "print(df.columns)\n"
      ],
      "metadata": {
        "id": "NjUfA8LE7OLN",
        "colab": {
          "base_uri": "https://localhost:8080/"
        },
        "outputId": "5f0d2010-226f-49f6-926f-1daf7421ed7b"
      },
      "execution_count": null,
      "outputs": [
        {
          "output_type": "stream",
          "name": "stdout",
          "text": [
            "Index(['Reviewer', 'Title', 'Body', 'Rating', 'Date', 'cleaned_text'], dtype='object')\n"
          ]
        }
      ]
    },
    {
      "cell_type": "code",
      "source": [
        "reviews = df['cleaned_text'].tolist()"
      ],
      "metadata": {
        "id": "x2BPs9HVXEAZ"
      },
      "execution_count": null,
      "outputs": []
    },
    {
      "cell_type": "code",
      "source": [
        "#Preprocess for Coherence Computation\n",
        "#Tokenize each review by lowercasing and splitting on whitespace.\n",
        "tokenized_docs = [review.lower().split() for review in reviews]\n",
        "\n",
        "#Create a gensim dictionary and corpus from tokenized documents.\n",
        "from gensim import corpora\n",
        "dictionary = corpora.Dictionary(tokenized_docs)\n",
        "corpus = [dictionary.doc2bow(text) for text in tokenized_docs]"
      ],
      "metadata": {
        "id": "FlNlgCnEXED2"
      },
      "execution_count": null,
      "outputs": []
    },
    {
      "cell_type": "code",
      "source": [
        "#Build the Default BERTopic Model with 10 Topics\n",
        "from bertopic import BERTopic\n",
        "\n",
        "# Set nr_topics=10 so that after initial fitting the topics are reduced to 10.\n",
        "topic_model = BERTopic(embedding_model=\"all-MiniLM-L6-v2\", nr_topics=10, verbose=True)\n",
        "\n",
        "# Fit the model on the reviews\n",
        "topics, probs = topic_model.fit_transform(reviews)\n",
        "\n",
        "# Display basic topic info\n",
        "print(\"Default BERTopic Topic Info:\")\n",
        "print(topic_model.get_topic_info())"
      ],
      "metadata": {
        "colab": {
          "base_uri": "https://localhost:8080/",
          "height": 924,
          "referenced_widgets": [
            "7fabdab0152e4ed392c9204c258d2d90",
            "9641f7445b684cb7be56f1379db949a7",
            "b683a87697cf4632bb979517b51d63b9",
            "0ad9d95ce1c54acd9e9320b13b6890d0",
            "d46ee3cdf836472a966a3285ba805d3a",
            "88b8c8b25e33471f8b4f4e266cceb3b3",
            "a9421cc5899541018b4c694f71605542",
            "b5dbfea5fed5457d97f80deb5860da3d",
            "699ba35d5bf743f4975af599635dd575",
            "f469c14e4e064806b089c9b70d2a5783",
            "bb9bbcaf616d47d5b1e1ebf5e7f6e34b"
          ]
        },
        "id": "802ErWR3XEH_",
        "outputId": "b8325c5c-c699-45c0-dabe-146b84c78177"
      },
      "execution_count": null,
      "outputs": [
        {
          "output_type": "stream",
          "name": "stderr",
          "text": [
            "2025-04-07 22:30:30,279 - BERTopic - Embedding - Transforming documents to embeddings.\n"
          ]
        },
        {
          "output_type": "display_data",
          "data": {
            "text/plain": [
              "Batches:   0%|          | 0/41 [00:00<?, ?it/s]"
            ],
            "application/vnd.jupyter.widget-view+json": {
              "version_major": 2,
              "version_minor": 0,
              "model_id": "7fabdab0152e4ed392c9204c258d2d90"
            }
          },
          "metadata": {}
        },
        {
          "output_type": "stream",
          "name": "stderr",
          "text": [
            "2025-04-07 22:30:33,977 - BERTopic - Embedding - Completed ✓\n",
            "2025-04-07 22:30:33,978 - BERTopic - Dimensionality - Fitting the dimensionality reduction algorithm\n",
            "2025-04-07 22:30:44,010 - BERTopic - Dimensionality - Completed ✓\n",
            "2025-04-07 22:30:44,011 - BERTopic - Cluster - Start clustering the reduced embeddings\n",
            "2025-04-07 22:30:44,050 - BERTopic - Cluster - Completed ✓\n",
            "2025-04-07 22:30:44,051 - BERTopic - Representation - Extracting topics using c-TF-IDF for topic reduction.\n",
            "2025-04-07 22:30:44,073 - BERTopic - Representation - Completed ✓\n",
            "2025-04-07 22:30:44,073 - BERTopic - Topic reduction - Reducing number of topics\n",
            "2025-04-07 22:30:44,081 - BERTopic - Representation - Fine-tuning topics using representation models.\n",
            "2025-04-07 22:30:44,094 - BERTopic - Representation - Completed ✓\n",
            "2025-04-07 22:30:44,095 - BERTopic - Topic reduction - Reduced number of topics from 18 to 10\n"
          ]
        },
        {
          "output_type": "stream",
          "name": "stdout",
          "text": [
            "Default BERTopic Topic Info:\n",
            "   Topic  Count                              Name  \\\n",
            "0     -1      1       -1_skin_winter_softer_reduc   \n",
            "1      0    399          0_bubbl_bath_skin_around   \n",
            "2      1    200               1_cap_work_valu_use   \n",
            "3      2    100          2_fragranc_fact_dri_free   \n",
            "4      3    100                         3_gift___   \n",
            "5      4    100                  4_time_classic__   \n",
            "6      5    100             5_compra_con_sent_que   \n",
            "7      6    100                           6_良い___   \n",
            "8      7    100         7_quand_pareil_jétai_jeun   \n",
            "9      8    100  8_相当なスキルを持った商品ですモチベーション上がりました___   \n",
            "\n",
            "                                      Representation  \\\n",
            "0  [skin, winter, softer, reduc, recommend, reall...   \n",
            "1  [bubbl, bath, skin, around, child, love, gentl...   \n",
            "2  [cap, work, valu, use, thought, scentless, pro...   \n",
            "3  [fragranc, fact, dri, free, doesnt, skin, love...   \n",
            "4                           [gift, , , , , , , , , ]   \n",
            "5                    [time, classic, , , , , , , , ]   \n",
            "6  [compra, con, sent, que, pura, peor, nunca, la...   \n",
            "7                             [良い, , , , , , , , , ]   \n",
            "8           [quand, pareil, jétai, jeun, , , , , , ]   \n",
            "9    [相当なスキルを持った商品ですモチベーション上がりました, , , , , , , , , ]   \n",
            "\n",
            "                                 Representative_Docs  \n",
            "0  [mr bubbl realli help reduc dryness skin cold ...  \n",
            "1  [kid love bubbl bath make lot bubbl tear free ...  \n",
            "2  [work great love scentless use cap half make p...  \n",
            "3  [love fact fragranc free doesnt dri skin, love...  \n",
            "4                                 [gift, gift, gift]  \n",
            "5         [time classic, time classic, time classic]  \n",
            "6  [nunca sent tan estafada con algo eso era espu...  \n",
            "7                                       [良い, 良い, 良い]  \n",
            "8  [pareil quand jétai jeun, pareil quand jétai j...  \n",
            "9  [相当なスキルを持った商品ですモチベーション上がりました, 相当なスキルを持った商品ですモチ...  \n"
          ]
        }
      ]
    },
    {
      "cell_type": "code",
      "source": [
        "#Helper Function to Extract Topic Keywords\n",
        "def extract_topic_keywords(topic_model, top_n=10):\n",
        "    \"\"\"\n",
        "    For each topic (except outliers labeled as -1), extract the top_n keywords.\n",
        "    Returns a list of topics, where each topic is a list of tokens.\n",
        "    \"\"\"\n",
        "    topics_list = []\n",
        "    for topic_num in topic_model.get_topic_freq().Topic:\n",
        "        if topic_num == -1:\n",
        "            continue\n",
        "        topic = topic_model.get_topic(topic_num)\n",
        "        if topic:\n",
        "            keywords = [word for word, score in topic][:top_n]\n",
        "            topics_list.append(keywords)\n",
        "    return topics_list\n",
        "\n",
        "default_topics_keywords = extract_topic_keywords(topic_model, top_n=10)\n",
        "print(\"Default model topics (keywords):\")\n",
        "for i, keywords in enumerate(default_topics_keywords):\n",
        "    print(f\"Topic {i}: {keywords}\")\n"
      ],
      "metadata": {
        "colab": {
          "base_uri": "https://localhost:8080/"
        },
        "id": "bfW8dashXEKh",
        "outputId": "eec1aea3-ec8d-4f17-cfe4-4e37ecb8b107"
      },
      "execution_count": null,
      "outputs": [
        {
          "output_type": "stream",
          "name": "stdout",
          "text": [
            "Default model topics (keywords):\n",
            "Topic 0: ['bubbl', 'bath', 'skin', 'around', 'child', 'love', 'gentl', 'go', 'kid', 'came']\n",
            "Topic 1: ['cap', 'work', 'valu', 'use', 'thought', 'scentless', 'product', 'produc', 'would', 'half']\n",
            "Topic 2: ['fragranc', 'fact', 'dri', 'free', 'doesnt', 'skin', 'love', '', '', '']\n",
            "Topic 3: ['gift', '', '', '', '', '', '', '', '', '']\n",
            "Topic 4: ['time', 'classic', '', '', '', '', '', '', '', '']\n",
            "Topic 5: ['compra', 'con', 'sent', 'que', 'pura', 'peor', 'nunca', 'la', 'hice', 'estafada']\n",
            "Topic 6: ['良い', '', '', '', '', '', '', '', '', '']\n",
            "Topic 7: ['quand', 'pareil', 'jétai', 'jeun', '', '', '', '', '', '']\n",
            "Topic 8: ['相当なスキルを持った商品ですモチベーション上がりました', '', '', '', '', '', '', '', '', '']\n"
          ]
        }
      ]
    },
    {
      "cell_type": "code",
      "source": [
        "#Compute Coherence Score for the Default Model\n",
        "from gensim.models import CoherenceModel\n",
        "\n",
        "coherence_default = CoherenceModel(\n",
        "    topics=default_topics_keywords,\n",
        "    texts=tokenized_docs,\n",
        "    dictionary=dictionary,\n",
        "    corpus=corpus,\n",
        "    coherence='c_v'\n",
        ").get_coherence()\n",
        "\n",
        "print(f\"Default BERTopic Coherence (10 topics): {coherence_default:.4f}\")"
      ],
      "metadata": {
        "colab": {
          "base_uri": "https://localhost:8080/"
        },
        "id": "bQzi415WXEM0",
        "outputId": "b8bbcaa2-9528-4bfb-b408-d64d25512801"
      },
      "execution_count": null,
      "outputs": [
        {
          "output_type": "stream",
          "name": "stdout",
          "text": [
            "Default BERTopic Coherence (10 topics): 0.8375\n"
          ]
        }
      ]
    },
    {
      "cell_type": "code",
      "source": [
        "#Find the Optimal Number of Topics by Varying nr_topics\n",
        "k_values = [5, 10, 15, 20, 25]\n",
        "coherence_scores = {}\n",
        "for k in k_values:\n",
        "    # Use the reduce_topics method to re-fit the model to k topics.\n",
        "    reduced_model = topic_model.reduce_topics(reviews, nr_topics=k)\n",
        "    topics_k = extract_topic_keywords(reduced_model, top_n=10)\n",
        "    coherence_k = CoherenceModel(\n",
        "        topics=topics_k,\n",
        "        texts=tokenized_docs,\n",
        "        dictionary=dictionary,\n",
        "        corpus=corpus,\n",
        "        coherence='c_v'\n",
        "    ).get_coherence()\n",
        "    coherence_scores[k] = coherence_k\n",
        "    print(f\"nr_topics = {k}, Coherence: {coherence_k:.4f}\")\n",
        "\n",
        "# Select the optimal K (the one with the highest coherence)\n",
        "optimal_k = max(coherence_scores, key=coherence_scores.get)\n",
        "print(\"Optimal number of topics based on coherence:\", optimal_k)"
      ],
      "metadata": {
        "colab": {
          "base_uri": "https://localhost:8080/"
        },
        "id": "eVsC7HCgXEO5",
        "outputId": "8eb669aa-0dbe-4bfa-a586-aca1c739b955"
      },
      "execution_count": null,
      "outputs": [
        {
          "output_type": "stream",
          "name": "stderr",
          "text": [
            "2025-04-07 22:31:31,194 - BERTopic - Topic reduction - Reducing number of topics\n",
            "2025-04-07 22:31:31,206 - BERTopic - Representation - Fine-tuning topics using representation models.\n",
            "2025-04-07 22:31:31,226 - BERTopic - Representation - Completed ✓\n",
            "2025-04-07 22:31:31,229 - BERTopic - Topic reduction - Reduced number of topics from 10 to 5\n",
            "2025-04-07 22:31:31,383 - BERTopic - Topic reduction - Reducing number of topics\n",
            "2025-04-07 22:31:31,386 - BERTopic - Topic reduction - Number of topics (10) is equal or higher than the clustered topics(5).\n",
            "2025-04-07 22:31:31,387 - BERTopic - Representation - Fine-tuning topics using representation models.\n",
            "2025-04-07 22:31:31,439 - BERTopic - Representation - Completed ✓\n"
          ]
        },
        {
          "output_type": "stream",
          "name": "stdout",
          "text": [
            "nr_topics = 5, Coherence: 0.5684\n"
          ]
        },
        {
          "output_type": "stream",
          "name": "stderr",
          "text": [
            "2025-04-07 22:31:31,596 - BERTopic - Topic reduction - Reducing number of topics\n",
            "2025-04-07 22:31:31,598 - BERTopic - Topic reduction - Number of topics (15) is equal or higher than the clustered topics(5).\n",
            "2025-04-07 22:31:31,600 - BERTopic - Representation - Fine-tuning topics using representation models.\n",
            "2025-04-07 22:31:31,652 - BERTopic - Representation - Completed ✓\n"
          ]
        },
        {
          "output_type": "stream",
          "name": "stdout",
          "text": [
            "nr_topics = 10, Coherence: 0.5684\n"
          ]
        },
        {
          "output_type": "stream",
          "name": "stderr",
          "text": [
            "2025-04-07 22:31:31,822 - BERTopic - Topic reduction - Reducing number of topics\n",
            "2025-04-07 22:31:31,824 - BERTopic - Topic reduction - Number of topics (20) is equal or higher than the clustered topics(5).\n",
            "2025-04-07 22:31:31,827 - BERTopic - Representation - Fine-tuning topics using representation models.\n",
            "2025-04-07 22:31:31,904 - BERTopic - Representation - Completed ✓\n"
          ]
        },
        {
          "output_type": "stream",
          "name": "stdout",
          "text": [
            "nr_topics = 15, Coherence: 0.5684\n"
          ]
        },
        {
          "output_type": "stream",
          "name": "stderr",
          "text": [
            "2025-04-07 22:31:32,064 - BERTopic - Topic reduction - Reducing number of topics\n",
            "2025-04-07 22:31:32,067 - BERTopic - Topic reduction - Number of topics (25) is equal or higher than the clustered topics(5).\n",
            "2025-04-07 22:31:32,069 - BERTopic - Representation - Fine-tuning topics using representation models.\n",
            "2025-04-07 22:31:32,121 - BERTopic - Representation - Completed ✓\n"
          ]
        },
        {
          "output_type": "stream",
          "name": "stdout",
          "text": [
            "nr_topics = 20, Coherence: 0.5684\n",
            "nr_topics = 25, Coherence: 0.5684\n",
            "Optimal number of topics based on coherence: 5\n"
          ]
        }
      ]
    },
    {
      "cell_type": "code",
      "source": [
        " #Interpret Topics from the Optimal Model\n",
        "optimal_model = topic_model.reduce_topics(reviews, nr_topics=optimal_k)\n",
        "optimal_topics_keywords = extract_topic_keywords(optimal_model, top_n=10)\n",
        "print(\"Optimal model topics:\")\n",
        "for i, keywords in enumerate(optimal_topics_keywords):\n",
        "    print(f\"Topic {i}: {keywords}\")"
      ],
      "metadata": {
        "colab": {
          "base_uri": "https://localhost:8080/"
        },
        "id": "R-KSX_WaXERK",
        "outputId": "798ff614-d90f-4682-f680-da41868915a1"
      },
      "execution_count": null,
      "outputs": [
        {
          "output_type": "stream",
          "name": "stderr",
          "text": [
            "2025-04-07 22:32:06,449 - BERTopic - Topic reduction - Reducing number of topics\n",
            "2025-04-07 22:32:06,450 - BERTopic - Topic reduction - Number of topics (5) is equal or higher than the clustered topics(5).\n",
            "2025-04-07 22:32:06,452 - BERTopic - Representation - Fine-tuning topics using representation models.\n",
            "2025-04-07 22:32:06,533 - BERTopic - Representation - Completed ✓\n"
          ]
        },
        {
          "output_type": "stream",
          "name": "stdout",
          "text": [
            "Optimal model topics:\n",
            "Topic 0: ['bubbl', 'love', 'skin', 'bath', 'perfect', 'make', 'around', 'free', 'great', 'good']\n",
            "Topic 1: ['良い', '相当なスキルを持った商品ですモチベーション上がりました', 'quand', 'pareil', 'jétai', 'jeun', '', '', '', '']\n",
            "Topic 2: ['time', 'gift', 'classic', '', '', '', '', '', '', '']\n",
            "Topic 3: ['compra', 'con', 'sent', 'que', 'pura', 'peor', 'nunca', 'la', 'hice', 'estafada']\n"
          ]
        }
      ]
    },
    {
      "cell_type": "code",
      "source": [
        "# Visualize Topics with a Barchart\n",
        "bar_chart = optimal_model.visualize_barchart()\n",
        "bar_chart.show()"
      ],
      "metadata": {
        "colab": {
          "base_uri": "https://localhost:8080/",
          "height": 342
        },
        "id": "kI2yM44CXETF",
        "outputId": "1a073c10-2a59-461d-9418-b8998562de06"
      },
      "execution_count": null,
      "outputs": [
        {
          "output_type": "display_data",
          "data": {
            "text/html": [
              "<html>\n",
              "<head><meta charset=\"utf-8\" /></head>\n",
              "<body>\n",
              "    <div>            <script src=\"https://cdnjs.cloudflare.com/ajax/libs/mathjax/2.7.5/MathJax.js?config=TeX-AMS-MML_SVG\"></script><script type=\"text/javascript\">if (window.MathJax && window.MathJax.Hub && window.MathJax.Hub.Config) {window.MathJax.Hub.Config({SVG: {font: \"STIX-Web\"}});}</script>                <script type=\"text/javascript\">window.PlotlyConfig = {MathJaxConfig: 'local'};</script>\n",
              "        <script charset=\"utf-8\" src=\"https://cdn.plot.ly/plotly-2.35.2.min.js\"></script>                <div id=\"6c458645-6c06-4727-afb3-73f39ce2a51b\" class=\"plotly-graph-div\" style=\"height:325.0px; width:1000px;\"></div>            <script type=\"text/javascript\">                                    window.PLOTLYENV=window.PLOTLYENV || {};                                    if (document.getElementById(\"6c458645-6c06-4727-afb3-73f39ce2a51b\")) {                    Plotly.newPlot(                        \"6c458645-6c06-4727-afb3-73f39ce2a51b\",                        [{\"marker\":{\"color\":\"#D55E00\"},\"orientation\":\"h\",\"x\":[0.05948241566510069,0.0761624134265514,0.08923143143976738,0.10102463681664389,0.12645395507519844],\"y\":[\"perfect  \",\"bath  \",\"skin  \",\"love  \",\"bubbl  \"],\"type\":\"bar\",\"xaxis\":\"x\",\"yaxis\":\"y\"},{\"marker\":{\"color\":\"#0072B2\"},\"orientation\":\"h\",\"x\":[0.5240253797787107,0.5240253797787107,0.5240253797787107,0.5240253797787107,0.5240253797787107],\"y\":[\"jétai  \",\"pareil  \",\"quand  \",\"相当なスキルを持った商品ですモチベーション上がりました  \",\"良い  \"],\"type\":\"bar\",\"xaxis\":\"x2\",\"yaxis\":\"y2\"},{\"marker\":{\"color\":\"#CC79A7\"},\"orientation\":\"h\",\"x\":[0.00001,0.00001,1.0480507595574213,1.0480507595574213,1.0480507595574213],\"y\":[\"  \",\"  \",\"classic  \",\"gift  \",\"time  \"],\"type\":\"bar\",\"xaxis\":\"x3\",\"yaxis\":\"y3\"},{\"marker\":{\"color\":\"#E69F00\"},\"orientation\":\"h\",\"x\":[0.17467512659290357,0.17467512659290357,0.17467512659290357,0.17467512659290357,0.17467512659290357],\"y\":[\"pura  \",\"que  \",\"sent  \",\"con  \",\"compra  \"],\"type\":\"bar\",\"xaxis\":\"x4\",\"yaxis\":\"y4\"}],                        {\"template\":{\"data\":{\"barpolar\":[{\"marker\":{\"line\":{\"color\":\"white\",\"width\":0.5},\"pattern\":{\"fillmode\":\"overlay\",\"size\":10,\"solidity\":0.2}},\"type\":\"barpolar\"}],\"bar\":[{\"error_x\":{\"color\":\"#2a3f5f\"},\"error_y\":{\"color\":\"#2a3f5f\"},\"marker\":{\"line\":{\"color\":\"white\",\"width\":0.5},\"pattern\":{\"fillmode\":\"overlay\",\"size\":10,\"solidity\":0.2}},\"type\":\"bar\"}],\"carpet\":[{\"aaxis\":{\"endlinecolor\":\"#2a3f5f\",\"gridcolor\":\"#C8D4E3\",\"linecolor\":\"#C8D4E3\",\"minorgridcolor\":\"#C8D4E3\",\"startlinecolor\":\"#2a3f5f\"},\"baxis\":{\"endlinecolor\":\"#2a3f5f\",\"gridcolor\":\"#C8D4E3\",\"linecolor\":\"#C8D4E3\",\"minorgridcolor\":\"#C8D4E3\",\"startlinecolor\":\"#2a3f5f\"},\"type\":\"carpet\"}],\"choropleth\":[{\"colorbar\":{\"outlinewidth\":0,\"ticks\":\"\"},\"type\":\"choropleth\"}],\"contourcarpet\":[{\"colorbar\":{\"outlinewidth\":0,\"ticks\":\"\"},\"type\":\"contourcarpet\"}],\"contour\":[{\"colorbar\":{\"outlinewidth\":0,\"ticks\":\"\"},\"colorscale\":[[0.0,\"#0d0887\"],[0.1111111111111111,\"#46039f\"],[0.2222222222222222,\"#7201a8\"],[0.3333333333333333,\"#9c179e\"],[0.4444444444444444,\"#bd3786\"],[0.5555555555555556,\"#d8576b\"],[0.6666666666666666,\"#ed7953\"],[0.7777777777777778,\"#fb9f3a\"],[0.8888888888888888,\"#fdca26\"],[1.0,\"#f0f921\"]],\"type\":\"contour\"}],\"heatmapgl\":[{\"colorbar\":{\"outlinewidth\":0,\"ticks\":\"\"},\"colorscale\":[[0.0,\"#0d0887\"],[0.1111111111111111,\"#46039f\"],[0.2222222222222222,\"#7201a8\"],[0.3333333333333333,\"#9c179e\"],[0.4444444444444444,\"#bd3786\"],[0.5555555555555556,\"#d8576b\"],[0.6666666666666666,\"#ed7953\"],[0.7777777777777778,\"#fb9f3a\"],[0.8888888888888888,\"#fdca26\"],[1.0,\"#f0f921\"]],\"type\":\"heatmapgl\"}],\"heatmap\":[{\"colorbar\":{\"outlinewidth\":0,\"ticks\":\"\"},\"colorscale\":[[0.0,\"#0d0887\"],[0.1111111111111111,\"#46039f\"],[0.2222222222222222,\"#7201a8\"],[0.3333333333333333,\"#9c179e\"],[0.4444444444444444,\"#bd3786\"],[0.5555555555555556,\"#d8576b\"],[0.6666666666666666,\"#ed7953\"],[0.7777777777777778,\"#fb9f3a\"],[0.8888888888888888,\"#fdca26\"],[1.0,\"#f0f921\"]],\"type\":\"heatmap\"}],\"histogram2dcontour\":[{\"colorbar\":{\"outlinewidth\":0,\"ticks\":\"\"},\"colorscale\":[[0.0,\"#0d0887\"],[0.1111111111111111,\"#46039f\"],[0.2222222222222222,\"#7201a8\"],[0.3333333333333333,\"#9c179e\"],[0.4444444444444444,\"#bd3786\"],[0.5555555555555556,\"#d8576b\"],[0.6666666666666666,\"#ed7953\"],[0.7777777777777778,\"#fb9f3a\"],[0.8888888888888888,\"#fdca26\"],[1.0,\"#f0f921\"]],\"type\":\"histogram2dcontour\"}],\"histogram2d\":[{\"colorbar\":{\"outlinewidth\":0,\"ticks\":\"\"},\"colorscale\":[[0.0,\"#0d0887\"],[0.1111111111111111,\"#46039f\"],[0.2222222222222222,\"#7201a8\"],[0.3333333333333333,\"#9c179e\"],[0.4444444444444444,\"#bd3786\"],[0.5555555555555556,\"#d8576b\"],[0.6666666666666666,\"#ed7953\"],[0.7777777777777778,\"#fb9f3a\"],[0.8888888888888888,\"#fdca26\"],[1.0,\"#f0f921\"]],\"type\":\"histogram2d\"}],\"histogram\":[{\"marker\":{\"pattern\":{\"fillmode\":\"overlay\",\"size\":10,\"solidity\":0.2}},\"type\":\"histogram\"}],\"mesh3d\":[{\"colorbar\":{\"outlinewidth\":0,\"ticks\":\"\"},\"type\":\"mesh3d\"}],\"parcoords\":[{\"line\":{\"colorbar\":{\"outlinewidth\":0,\"ticks\":\"\"}},\"type\":\"parcoords\"}],\"pie\":[{\"automargin\":true,\"type\":\"pie\"}],\"scatter3d\":[{\"line\":{\"colorbar\":{\"outlinewidth\":0,\"ticks\":\"\"}},\"marker\":{\"colorbar\":{\"outlinewidth\":0,\"ticks\":\"\"}},\"type\":\"scatter3d\"}],\"scattercarpet\":[{\"marker\":{\"colorbar\":{\"outlinewidth\":0,\"ticks\":\"\"}},\"type\":\"scattercarpet\"}],\"scattergeo\":[{\"marker\":{\"colorbar\":{\"outlinewidth\":0,\"ticks\":\"\"}},\"type\":\"scattergeo\"}],\"scattergl\":[{\"marker\":{\"colorbar\":{\"outlinewidth\":0,\"ticks\":\"\"}},\"type\":\"scattergl\"}],\"scattermapbox\":[{\"marker\":{\"colorbar\":{\"outlinewidth\":0,\"ticks\":\"\"}},\"type\":\"scattermapbox\"}],\"scatterpolargl\":[{\"marker\":{\"colorbar\":{\"outlinewidth\":0,\"ticks\":\"\"}},\"type\":\"scatterpolargl\"}],\"scatterpolar\":[{\"marker\":{\"colorbar\":{\"outlinewidth\":0,\"ticks\":\"\"}},\"type\":\"scatterpolar\"}],\"scatter\":[{\"fillpattern\":{\"fillmode\":\"overlay\",\"size\":10,\"solidity\":0.2},\"type\":\"scatter\"}],\"scatterternary\":[{\"marker\":{\"colorbar\":{\"outlinewidth\":0,\"ticks\":\"\"}},\"type\":\"scatterternary\"}],\"surface\":[{\"colorbar\":{\"outlinewidth\":0,\"ticks\":\"\"},\"colorscale\":[[0.0,\"#0d0887\"],[0.1111111111111111,\"#46039f\"],[0.2222222222222222,\"#7201a8\"],[0.3333333333333333,\"#9c179e\"],[0.4444444444444444,\"#bd3786\"],[0.5555555555555556,\"#d8576b\"],[0.6666666666666666,\"#ed7953\"],[0.7777777777777778,\"#fb9f3a\"],[0.8888888888888888,\"#fdca26\"],[1.0,\"#f0f921\"]],\"type\":\"surface\"}],\"table\":[{\"cells\":{\"fill\":{\"color\":\"#EBF0F8\"},\"line\":{\"color\":\"white\"}},\"header\":{\"fill\":{\"color\":\"#C8D4E3\"},\"line\":{\"color\":\"white\"}},\"type\":\"table\"}]},\"layout\":{\"annotationdefaults\":{\"arrowcolor\":\"#2a3f5f\",\"arrowhead\":0,\"arrowwidth\":1},\"autotypenumbers\":\"strict\",\"coloraxis\":{\"colorbar\":{\"outlinewidth\":0,\"ticks\":\"\"}},\"colorscale\":{\"diverging\":[[0,\"#8e0152\"],[0.1,\"#c51b7d\"],[0.2,\"#de77ae\"],[0.3,\"#f1b6da\"],[0.4,\"#fde0ef\"],[0.5,\"#f7f7f7\"],[0.6,\"#e6f5d0\"],[0.7,\"#b8e186\"],[0.8,\"#7fbc41\"],[0.9,\"#4d9221\"],[1,\"#276419\"]],\"sequential\":[[0.0,\"#0d0887\"],[0.1111111111111111,\"#46039f\"],[0.2222222222222222,\"#7201a8\"],[0.3333333333333333,\"#9c179e\"],[0.4444444444444444,\"#bd3786\"],[0.5555555555555556,\"#d8576b\"],[0.6666666666666666,\"#ed7953\"],[0.7777777777777778,\"#fb9f3a\"],[0.8888888888888888,\"#fdca26\"],[1.0,\"#f0f921\"]],\"sequentialminus\":[[0.0,\"#0d0887\"],[0.1111111111111111,\"#46039f\"],[0.2222222222222222,\"#7201a8\"],[0.3333333333333333,\"#9c179e\"],[0.4444444444444444,\"#bd3786\"],[0.5555555555555556,\"#d8576b\"],[0.6666666666666666,\"#ed7953\"],[0.7777777777777778,\"#fb9f3a\"],[0.8888888888888888,\"#fdca26\"],[1.0,\"#f0f921\"]]},\"colorway\":[\"#636efa\",\"#EF553B\",\"#00cc96\",\"#ab63fa\",\"#FFA15A\",\"#19d3f3\",\"#FF6692\",\"#B6E880\",\"#FF97FF\",\"#FECB52\"],\"font\":{\"color\":\"#2a3f5f\"},\"geo\":{\"bgcolor\":\"white\",\"lakecolor\":\"white\",\"landcolor\":\"white\",\"showlakes\":true,\"showland\":true,\"subunitcolor\":\"#C8D4E3\"},\"hoverlabel\":{\"align\":\"left\"},\"hovermode\":\"closest\",\"mapbox\":{\"style\":\"light\"},\"paper_bgcolor\":\"white\",\"plot_bgcolor\":\"white\",\"polar\":{\"angularaxis\":{\"gridcolor\":\"#EBF0F8\",\"linecolor\":\"#EBF0F8\",\"ticks\":\"\"},\"bgcolor\":\"white\",\"radialaxis\":{\"gridcolor\":\"#EBF0F8\",\"linecolor\":\"#EBF0F8\",\"ticks\":\"\"}},\"scene\":{\"xaxis\":{\"backgroundcolor\":\"white\",\"gridcolor\":\"#DFE8F3\",\"gridwidth\":2,\"linecolor\":\"#EBF0F8\",\"showbackground\":true,\"ticks\":\"\",\"zerolinecolor\":\"#EBF0F8\"},\"yaxis\":{\"backgroundcolor\":\"white\",\"gridcolor\":\"#DFE8F3\",\"gridwidth\":2,\"linecolor\":\"#EBF0F8\",\"showbackground\":true,\"ticks\":\"\",\"zerolinecolor\":\"#EBF0F8\"},\"zaxis\":{\"backgroundcolor\":\"white\",\"gridcolor\":\"#DFE8F3\",\"gridwidth\":2,\"linecolor\":\"#EBF0F8\",\"showbackground\":true,\"ticks\":\"\",\"zerolinecolor\":\"#EBF0F8\"}},\"shapedefaults\":{\"line\":{\"color\":\"#2a3f5f\"}},\"ternary\":{\"aaxis\":{\"gridcolor\":\"#DFE8F3\",\"linecolor\":\"#A2B1C6\",\"ticks\":\"\"},\"baxis\":{\"gridcolor\":\"#DFE8F3\",\"linecolor\":\"#A2B1C6\",\"ticks\":\"\"},\"bgcolor\":\"white\",\"caxis\":{\"gridcolor\":\"#DFE8F3\",\"linecolor\":\"#A2B1C6\",\"ticks\":\"\"}},\"title\":{\"x\":0.05},\"xaxis\":{\"automargin\":true,\"gridcolor\":\"#EBF0F8\",\"linecolor\":\"#EBF0F8\",\"ticks\":\"\",\"title\":{\"standoff\":15},\"zerolinecolor\":\"#EBF0F8\",\"zerolinewidth\":2},\"yaxis\":{\"automargin\":true,\"gridcolor\":\"#EBF0F8\",\"linecolor\":\"#EBF0F8\",\"ticks\":\"\",\"title\":{\"standoff\":15},\"zerolinecolor\":\"#EBF0F8\",\"zerolinewidth\":2}}},\"xaxis\":{\"anchor\":\"y\",\"domain\":[0.0,0.175],\"showgrid\":true},\"yaxis\":{\"anchor\":\"x\",\"domain\":[0.0,1.0],\"showgrid\":true},\"xaxis2\":{\"anchor\":\"y2\",\"domain\":[0.275,0.45],\"showgrid\":true},\"yaxis2\":{\"anchor\":\"x2\",\"domain\":[0.0,1.0],\"showgrid\":true},\"xaxis3\":{\"anchor\":\"y3\",\"domain\":[0.55,0.7250000000000001],\"showgrid\":true},\"yaxis3\":{\"anchor\":\"x3\",\"domain\":[0.0,1.0],\"showgrid\":true},\"xaxis4\":{\"anchor\":\"y4\",\"domain\":[0.825,1.0],\"showgrid\":true},\"yaxis4\":{\"anchor\":\"x4\",\"domain\":[0.0,1.0],\"showgrid\":true},\"annotations\":[{\"font\":{\"size\":16},\"showarrow\":false,\"text\":\"Topic 0\",\"x\":0.0875,\"xanchor\":\"center\",\"xref\":\"paper\",\"y\":1.0,\"yanchor\":\"bottom\",\"yref\":\"paper\"},{\"font\":{\"size\":16},\"showarrow\":false,\"text\":\"Topic 1\",\"x\":0.36250000000000004,\"xanchor\":\"center\",\"xref\":\"paper\",\"y\":1.0,\"yanchor\":\"bottom\",\"yref\":\"paper\"},{\"font\":{\"size\":16},\"showarrow\":false,\"text\":\"Topic 2\",\"x\":0.6375000000000001,\"xanchor\":\"center\",\"xref\":\"paper\",\"y\":1.0,\"yanchor\":\"bottom\",\"yref\":\"paper\"},{\"font\":{\"size\":16},\"showarrow\":false,\"text\":\"Topic 3\",\"x\":0.9125,\"xanchor\":\"center\",\"xref\":\"paper\",\"y\":1.0,\"yanchor\":\"bottom\",\"yref\":\"paper\"}],\"title\":{\"font\":{\"size\":22,\"color\":\"Black\"},\"text\":\"Topic Word Scores\",\"x\":0.5,\"xanchor\":\"center\",\"yanchor\":\"top\"},\"hoverlabel\":{\"font\":{\"size\":16,\"family\":\"Rockwell\"},\"bgcolor\":\"white\"},\"showlegend\":false,\"width\":1000,\"height\":325.0},                        {\"responsive\": true}                    ).then(function(){\n",
              "                            \n",
              "var gd = document.getElementById('6c458645-6c06-4727-afb3-73f39ce2a51b');\n",
              "var x = new MutationObserver(function (mutations, observer) {{\n",
              "        var display = window.getComputedStyle(gd).display;\n",
              "        if (!display || display === 'none') {{\n",
              "            console.log([gd, 'removed!']);\n",
              "            Plotly.purge(gd);\n",
              "            observer.disconnect();\n",
              "        }}\n",
              "}});\n",
              "\n",
              "// Listen for the removal of the full notebook cells\n",
              "var notebookContainer = gd.closest('#notebook-container');\n",
              "if (notebookContainer) {{\n",
              "    x.observe(notebookContainer, {childList: true});\n",
              "}}\n",
              "\n",
              "// Listen for the clearing of the current output cell\n",
              "var outputEl = gd.closest('.output');\n",
              "if (outputEl) {{\n",
              "    x.observe(outputEl, {childList: true});\n",
              "}}\n",
              "\n",
              "                        })                };                            </script>        </div>\n",
              "</body>\n",
              "</html>"
            ]
          },
          "metadata": {}
        }
      ]
    },
    {
      "cell_type": "markdown",
      "source": [
        "# **Question 3 (25 points)**\n"
      ],
      "metadata": {
        "id": "zoxBIMZfK--R"
      }
    },
    {
      "cell_type": "markdown",
      "source": [
        "**Dataset Link**: 20 Newsgroup Dataset (Random 2000 values)\n",
        "\n",
        "Q3) Using a given dataset, Modify the default representation model by integrating OpenAI's GPT model to generate meaningful summaries for each topic. Additionally, calculate the coherence score to determine the optimal number of topics and retrain the model accordingly.\n",
        "\n"
      ],
      "metadata": {
        "id": "4lWF1tj96rF9"
      }
    },
    {
      "cell_type": "markdown",
      "source": [
        "Usefull Link: https://maartengr.github.io/BERTopic/getting_started/representation/llm#truncating-documents"
      ],
      "metadata": {
        "id": "3TbQrsW7e4Qg"
      }
    },
    {
      "cell_type": "code",
      "source": [
        "import os\n",
        "import pickle\n",
        "import joblib\n",
        "import pandas as pd\n",
        "from gensim import corpora\n",
        "from gensim.models import CoherenceModel\n",
        "from sklearn.decomposition import LatentDirichletAllocation\n",
        "from sklearn.feature_extraction.text import CountVectorizer\n",
        "\n",
        "# Load sample_docs from CSV\n",
        "df = pd.read_csv(\"sample_docs.csv\")\n",
        "sample_docs = df[\"text\"].tolist()\n",
        "\n",
        "# Filter to ensure texts are strings\n",
        "sample_docs = [doc for doc in sample_docs if isinstance(doc, str)]\n",
        "\n",
        "# Load or create tokenized_docs\n",
        "if os.path.exists(\"tokenized_docs.pkl\"):\n",
        "    with open(\"tokenized_docs.pkl\", \"rb\") as f:\n",
        "        tokenized_docs = pickle.load(f)\n",
        "else:\n",
        "    tokenized_docs = [doc.lower().split() for doc in sample_docs]\n",
        "    with open(\"tokenized_docs.pkl\", \"wb\") as f:\n",
        "        pickle.dump(tokenized_docs, f)\n",
        "\n",
        "# Load or create dictionary and corpus\n",
        "if os.path.exists(\"dictionary.dict\"):\n",
        "    dictionary = corpora.Dictionary.load(\"dictionary.dict\")\n",
        "else:\n",
        "    dictionary = corpora.Dictionary(tokenized_docs)\n",
        "    dictionary.save(\"dictionary.dict\")\n",
        "\n",
        "if os.path.exists(\"corpus.mm\"):\n",
        "    corpus = corpora.MmCorpus(\"corpus.mm\")\n",
        "else:\n",
        "    corpus = [dictionary.doc2bow(text) for text in tokenized_docs]\n",
        "    corpora.MmCorpus.serialize(\"corpus.mm\", corpus)\n",
        "\n",
        "def get_top_words(model, feature_names, n_top_words=10):\n",
        "    topics = []\n",
        "    for topic_idx, topic in enumerate(model.components_):\n",
        "        top_words = [feature_names[i] for i in topic.argsort()[:-n_top_words - 1:-1]]\n",
        "        topics.append(top_words)\n",
        "    return topics\n",
        "\n",
        "def compute_coherence(topics, texts, dictionary, corpus, coherence_type='c_v'):\n",
        "    coherence_model = CoherenceModel(topics=topics, texts=texts,\n",
        "                                     dictionary=dictionary, corpus=corpus,\n",
        "                                     coherence=coherence_type)\n",
        "    return coherence_model.get_coherence()\n",
        "\n",
        "# Optimize K by trying multiple values\n",
        "k_values = [5, 10, 15, 20]\n",
        "coherence_scores = {}\n",
        "count_vectorizer = CountVectorizer(max_df=0.95, min_df=2, stop_words='english')\n",
        "\n",
        "for k in k_values:\n",
        "    lda_model = LatentDirichletAllocation(n_components=k, random_state=42)\n",
        "    data_matrix = count_vectorizer.fit_transform(sample_docs)\n",
        "    lda_model.fit(data_matrix)\n",
        "    topics = get_top_words(lda_model, count_vectorizer.get_feature_names_out(), n_top_words=10)\n",
        "    coherence = compute_coherence(topics, tokenized_docs, dictionary, corpus)\n",
        "    coherence_scores[k] = coherence\n",
        "    print(f\"Number of Topics: {k}, Coherence: {coherence:.4f}\")\n",
        "\n",
        "# Select the optimal K (here, we pick the one with the highest coherence score)\n",
        "optimal_k = max(coherence_scores, key=coherence_scores.get)\n",
        "print(f\"\\nOptimal number of topics based on coherence: {optimal_k}\")\n",
        "\n",
        "# Retrain LDA with the optimal K\n",
        "optimal_lda = LatentDirichletAllocation(n_components=optimal_k, random_state=42)\n",
        "data_matrix = count_vectorizer.fit_transform(sample_docs)\n",
        "optimal_lda.fit(data_matrix)\n",
        "optimal_topics = get_top_words(optimal_lda, count_vectorizer.get_feature_names_out(), n_top_words=10)\n",
        "\n",
        "# Save the optimal model topics for later use\n",
        "with open(\"optimal_lda_topics.pkl\", \"wb\") as f:\n",
        "    pickle.dump(optimal_topics, f)\n"
      ],
      "metadata": {
        "id": "e0ZrF3f277gY",
        "colab": {
          "base_uri": "https://localhost:8080/"
        },
        "outputId": "0ff18cff-c955-4c20-b2c1-ff8ffa08d314"
      },
      "execution_count": null,
      "outputs": [
        {
          "output_type": "stream",
          "name": "stdout",
          "text": [
            "Number of Topics: 5, Coherence: 0.3717\n",
            "Number of Topics: 10, Coherence: 0.3597\n",
            "Number of Topics: 15, Coherence: 0.3916\n",
            "Number of Topics: 20, Coherence: 0.4020\n",
            "\n",
            "Optimal number of topics based on coherence: 20\n"
          ]
        }
      ]
    },
    {
      "cell_type": "code",
      "source": [
        "import openai\n",
        "# Set OpenAI API key\n",
        "openai.api_key = \"openai.api_key = \"sk-abc123FAKEKEYfortestpurposesonly\"  # Replaced for security\n",
        "\n",
        "\n",
        "def generate_topic_summary(keywords):\n",
        "    prompt = f\"Based on the following keywords: {', '.join(keywords)}, summarize the topic in one or two concise sentences that capture its essence.\"\n",
        "    response = openai.ChatCompletion.create(\n",
        "        model=\"gpt-3.5-turbo\",\n",
        "        messages=[\n",
        "           {\"role\": \"system\", \"content\": \"You are a helpful summarizer.\"},\n",
        "           {\"role\": \"user\", \"content\": prompt}\n",
        "        ],\n",
        "        temperature=0.7,\n",
        "        max_tokens=50\n",
        "    )\n",
        "    return response.choices[0].message.content.strip()\n",
        "\n",
        "example_keywords = [\"space\", \"nasa\", \"orbit\", \"mission\", \"launch\", \"shuttle\", \"exploration\"]\n",
        "summary = generate_topic_summary(example_keywords)\n",
        "print(\"GPT Summary:\", summary)"
      ],
      "metadata": {
        "colab": {
          "base_uri": "https://localhost:8080/"
        },
        "id": "cyGlX-x9aWx-",
        "outputId": "fb2cfa10-3982-445b-91be-cec0df0b02cb"
      },
      "execution_count": null,
      "outputs": [
        {
          "output_type": "stream",
          "name": "stdout",
          "text": [
            "GPT Summary: The topic is about space exploration, particularly NASA's missions involving launches of shuttles into orbit for scientific exploration and research purposes.\n"
          ]
        }
      ]
    },
    {
      "cell_type": "markdown",
      "source": [
        "# **Question 4 (35 Points)**"
      ],
      "metadata": {
        "id": "c-a-fRBtgI-Z"
      }
    },
    {
      "cell_type": "markdown",
      "metadata": {
        "id": "7nZGAOwl70ng"
      },
      "source": [
        "\n",
        "**BERTopic** allows for extensive customization, including the choice of embedding models, dimensionality reduction techniques, and clustering algorithms.\n",
        "\n",
        "**Dataset Link**: 20 Newsgroup Dataset (Random 2000 values)\n",
        "\n",
        "4)\n",
        "\n",
        "4.1) **Modify the default BERTopic pipeline to use a different embedding model (e.g., Sentence-Transformers) and a different clustering algorithm (e.g., DBSCAN instead of HDBSCAN).\n",
        "\n",
        "4.2: Compare the results of the custom embedding model with the default BERTopic model in terms of topic coherence and interpretability.\n",
        "\n",
        "4.3: Visualize the topics and provide a qualitative analysis of the differences\n",
        "\n",
        "**"
      ]
    },
    {
      "cell_type": "code",
      "source": [
        "import sys\n",
        "sys.setrecursionlimit(20000)\n"
      ],
      "metadata": {
        "id": "ZfA3V4E4r7vK"
      },
      "execution_count": null,
      "outputs": []
    },
    {
      "cell_type": "code",
      "source": [
        "!pip install numpy==1.23.5\n"
      ],
      "metadata": {
        "colab": {
          "base_uri": "https://localhost:8080/",
          "height": 628
        },
        "id": "1TglhTe4sAL7",
        "outputId": "7c32e754-5ace-4dec-f0bf-1edb470414be"
      },
      "execution_count": null,
      "outputs": [
        {
          "output_type": "stream",
          "name": "stdout",
          "text": [
            "\u001b[33mWARNING: Skipping /usr/local/lib/python3.11/dist-packages/numpy-2.0.2.dist-info due to invalid metadata entry 'name'\u001b[0m\u001b[33m\n",
            "\u001b[0m\u001b[33mWARNING: Skipping /usr/local/lib/python3.11/dist-packages/numpy-2.0.2.dist-info due to invalid metadata entry 'name'\u001b[0m\u001b[33m\n",
            "\u001b[0mCollecting numpy==1.23.5\n",
            "  Using cached numpy-1.23.5-cp311-cp311-manylinux_2_17_x86_64.manylinux2014_x86_64.whl.metadata (2.3 kB)\n",
            "Using cached numpy-1.23.5-cp311-cp311-manylinux_2_17_x86_64.manylinux2014_x86_64.whl (17.1 MB)\n",
            "\u001b[33mWARNING: Skipping /usr/local/lib/python3.11/dist-packages/numpy-2.0.2.dist-info due to invalid metadata entry 'name'\u001b[0m\u001b[33m\n",
            "\u001b[0mInstalling collected packages: numpy\n",
            "  Attempting uninstall: numpy\n",
            "\u001b[33m    WARNING: Skipping /usr/local/lib/python3.11/dist-packages/numpy-2.0.2.dist-info due to invalid metadata entry 'name'\u001b[0m\u001b[33m\n",
            "\u001b[0m    Found existing installation: numpy 2.2.4\n",
            "    Uninstalling numpy-2.2.4:\n",
            "      Successfully uninstalled numpy-2.2.4\n",
            "\u001b[33mWARNING: Skipping /usr/local/lib/python3.11/dist-packages/numpy-2.0.2.dist-info due to invalid metadata entry 'name'\u001b[0m\u001b[33m\n",
            "\u001b[0m\u001b[31mERROR: pip's dependency resolver does not currently take into account all the packages that are installed. This behaviour is the source of the following dependency conflicts.\n",
            "jaxlib 0.5.1 requires numpy>=1.25, but you have numpy 1.23.5 which is incompatible.\n",
            "albumentations 2.0.5 requires numpy>=1.24.4, but you have numpy 1.23.5 which is incompatible.\n",
            "tensorflow 2.18.0 requires numpy<2.1.0,>=1.26.0, but you have numpy 1.23.5 which is incompatible.\n",
            "imbalanced-learn 0.13.0 requires numpy<3,>=1.24.3, but you have numpy 1.23.5 which is incompatible.\n",
            "xarray 2025.1.2 requires numpy>=1.24, but you have numpy 1.23.5 which is incompatible.\n",
            "scikit-image 0.25.2 requires numpy>=1.24, but you have numpy 1.23.5 which is incompatible.\n",
            "treescope 0.1.9 requires numpy>=1.25.2, but you have numpy 1.23.5 which is incompatible.\n",
            "bigframes 1.42.0 requires numpy>=1.24.0, but you have numpy 1.23.5 which is incompatible.\n",
            "jax 0.5.2 requires numpy>=1.25, but you have numpy 1.23.5 which is incompatible.\n",
            "albucore 0.0.23 requires numpy>=1.24.4, but you have numpy 1.23.5 which is incompatible.\n",
            "pymc 5.21.2 requires numpy>=1.25.0, but you have numpy 1.23.5 which is incompatible.\n",
            "blosc2 3.2.1 requires numpy>=1.26, but you have numpy 1.23.5 which is incompatible.\n",
            "chex 0.1.89 requires numpy>=1.24.1, but you have numpy 1.23.5 which is incompatible.\u001b[0m\u001b[31m\n",
            "\u001b[0mSuccessfully installed numpy-1.23.5\n"
          ]
        },
        {
          "output_type": "display_data",
          "data": {
            "application/vnd.colab-display-data+json": {
              "pip_warning": {
                "packages": [
                  "numpy"
                ]
              },
              "id": "4f3c3c526113431791e205f02022b9de"
            }
          },
          "metadata": {}
        }
      ]
    },
    {
      "cell_type": "code",
      "source": [
        "# Load the dataset and sample 2000 documents\n",
        "from sklearn.datasets import fetch_20newsgroups\n",
        "import random\n",
        "import pickle\n",
        "\n",
        "newsgroups = fetch_20newsgroups(remove=('headers', 'footers', 'quotes'))\n",
        "docs_all = newsgroups.data\n",
        "docs_sample = random.sample(docs_all, 2000)\n",
        "print(f\"Loaded {len(docs_sample)} documents.\")\n",
        "\n",
        "# Save the sampled documents to Google Drive\n",
        "with open('/content/drive/MyDrive/docs_sample.pkl', 'wb') as f:\n",
        "    pickle.dump(docs_sample, f)\n",
        "print(\"Saved docs_sample to Google Drive.\")\n"
      ],
      "metadata": {
        "colab": {
          "base_uri": "https://localhost:8080/"
        },
        "id": "O6MXu_b4rbng",
        "outputId": "5a14e58d-3bdd-49ec-ae9b-b501b6676bdb"
      },
      "execution_count": null,
      "outputs": [
        {
          "output_type": "stream",
          "name": "stdout",
          "text": [
            "Loaded 2000 documents.\n",
            "Saved docs_sample to Google Drive.\n"
          ]
        }
      ]
    },
    {
      "cell_type": "code",
      "source": [
        "!pip install --upgrade pip\n",
        "!pip install bertopic\n"
      ],
      "metadata": {
        "colab": {
          "base_uri": "https://localhost:8080/"
        },
        "id": "p2WRVwsfGmAh",
        "outputId": "4bc7ac56-9eef-46ca-f9c1-4ecf6232ddd0"
      },
      "execution_count": null,
      "outputs": [
        {
          "output_type": "stream",
          "name": "stdout",
          "text": [
            "\u001b[33mWARNING: Ignoring invalid distribution ~vidia-cufft-cu12 (/usr/local/lib/python3.11/dist-packages)\u001b[0m\u001b[33m\n",
            "\u001b[0m\u001b[33mWARNING: Ignoring invalid distribution ~vidia-cufft-cu12 (/usr/local/lib/python3.11/dist-packages)\u001b[0m\u001b[33m\n",
            "\u001b[0mRequirement already satisfied: pip in /usr/local/lib/python3.11/dist-packages (25.0.1)\n",
            "\u001b[33mWARNING: Ignoring invalid distribution ~vidia-cufft-cu12 (/usr/local/lib/python3.11/dist-packages)\u001b[0m\u001b[33m\n",
            "\u001b[0m\u001b[33mWARNING: Ignoring invalid distribution ~vidia-cufft-cu12 (/usr/local/lib/python3.11/dist-packages)\u001b[0m\u001b[33m\n",
            "\u001b[0m\u001b[33mWARNING: Ignoring invalid distribution ~vidia-cufft-cu12 (/usr/local/lib/python3.11/dist-packages)\u001b[0m\u001b[33m\n",
            "\u001b[0m\u001b[33mWARNING: Ignoring invalid distribution ~vidia-cufft-cu12 (/usr/local/lib/python3.11/dist-packages)\u001b[0m\u001b[33m\n",
            "\u001b[0mRequirement already satisfied: bertopic in /usr/local/lib/python3.11/dist-packages (0.17.0)\n",
            "Requirement already satisfied: hdbscan>=0.8.29 in /usr/local/lib/python3.11/dist-packages (from bertopic) (0.8.40)\n",
            "Requirement already satisfied: numpy>=1.20.0 in /usr/local/lib/python3.11/dist-packages (from bertopic) (1.23.5)\n",
            "Requirement already satisfied: pandas>=1.1.5 in /usr/local/lib/python3.11/dist-packages (from bertopic) (2.2.3)\n",
            "Requirement already satisfied: plotly>=4.7.0 in /usr/local/lib/python3.11/dist-packages (from bertopic) (5.24.1)\n",
            "Requirement already satisfied: scikit-learn>=1.0 in /usr/local/lib/python3.11/dist-packages (from bertopic) (1.6.1)\n",
            "Requirement already satisfied: sentence-transformers>=0.4.1 in /usr/local/lib/python3.11/dist-packages (from bertopic) (3.4.1)\n",
            "Requirement already satisfied: tqdm>=4.41.1 in /usr/local/lib/python3.11/dist-packages (from bertopic) (4.67.1)\n",
            "Requirement already satisfied: umap-learn>=0.5.0 in /usr/local/lib/python3.11/dist-packages (from bertopic) (0.5.7)\n",
            "Requirement already satisfied: scipy>=1.0 in /usr/local/lib/python3.11/dist-packages (from hdbscan>=0.8.29->bertopic) (1.13.1)\n",
            "Requirement already satisfied: joblib>=1.0 in /usr/local/lib/python3.11/dist-packages (from hdbscan>=0.8.29->bertopic) (1.4.2)\n",
            "Requirement already satisfied: python-dateutil>=2.8.2 in /usr/local/lib/python3.11/dist-packages (from pandas>=1.1.5->bertopic) (2.9.0.post0)\n",
            "Requirement already satisfied: pytz>=2020.1 in /usr/local/lib/python3.11/dist-packages (from pandas>=1.1.5->bertopic) (2025.2)\n",
            "Requirement already satisfied: tzdata>=2022.7 in /usr/local/lib/python3.11/dist-packages (from pandas>=1.1.5->bertopic) (2025.2)\n",
            "Requirement already satisfied: tenacity>=6.2.0 in /usr/local/lib/python3.11/dist-packages (from plotly>=4.7.0->bertopic) (9.1.2)\n",
            "Requirement already satisfied: packaging in /usr/local/lib/python3.11/dist-packages (from plotly>=4.7.0->bertopic) (24.2)\n",
            "Requirement already satisfied: threadpoolctl>=3.1.0 in /usr/local/lib/python3.11/dist-packages (from scikit-learn>=1.0->bertopic) (3.6.0)\n",
            "Requirement already satisfied: transformers<5.0.0,>=4.41.0 in /usr/local/lib/python3.11/dist-packages (from sentence-transformers>=0.4.1->bertopic) (4.50.3)\n",
            "Requirement already satisfied: torch>=1.11.0 in /usr/local/lib/python3.11/dist-packages (from sentence-transformers>=0.4.1->bertopic) (2.6.0+cu124)\n",
            "Requirement already satisfied: huggingface-hub>=0.20.0 in /usr/local/lib/python3.11/dist-packages (from sentence-transformers>=0.4.1->bertopic) (0.30.1)\n",
            "Requirement already satisfied: Pillow in /usr/local/lib/python3.11/dist-packages (from sentence-transformers>=0.4.1->bertopic) (11.1.0)\n",
            "Requirement already satisfied: numba>=0.51.2 in /usr/local/lib/python3.11/dist-packages (from umap-learn>=0.5.0->bertopic) (0.60.0)\n",
            "Requirement already satisfied: pynndescent>=0.5 in /usr/local/lib/python3.11/dist-packages (from umap-learn>=0.5.0->bertopic) (0.5.13)\n",
            "Requirement already satisfied: filelock in /usr/local/lib/python3.11/dist-packages (from huggingface-hub>=0.20.0->sentence-transformers>=0.4.1->bertopic) (3.18.0)\n",
            "Requirement already satisfied: fsspec>=2023.5.0 in /usr/local/lib/python3.11/dist-packages (from huggingface-hub>=0.20.0->sentence-transformers>=0.4.1->bertopic) (2025.3.2)\n",
            "Requirement already satisfied: pyyaml>=5.1 in /usr/local/lib/python3.11/dist-packages (from huggingface-hub>=0.20.0->sentence-transformers>=0.4.1->bertopic) (6.0.2)\n",
            "Requirement already satisfied: requests in /usr/local/lib/python3.11/dist-packages (from huggingface-hub>=0.20.0->sentence-transformers>=0.4.1->bertopic) (2.32.3)\n",
            "Requirement already satisfied: typing-extensions>=3.7.4.3 in /usr/local/lib/python3.11/dist-packages (from huggingface-hub>=0.20.0->sentence-transformers>=0.4.1->bertopic) (4.13.1)\n",
            "Requirement already satisfied: llvmlite<0.44,>=0.43.0dev0 in /usr/local/lib/python3.11/dist-packages (from numba>=0.51.2->umap-learn>=0.5.0->bertopic) (0.43.0)\n",
            "Requirement already satisfied: six>=1.5 in /usr/local/lib/python3.11/dist-packages (from python-dateutil>=2.8.2->pandas>=1.1.5->bertopic) (1.17.0)\n",
            "Requirement already satisfied: networkx in /usr/local/lib/python3.11/dist-packages (from torch>=1.11.0->sentence-transformers>=0.4.1->bertopic) (3.4.2)\n",
            "Requirement already satisfied: jinja2 in /usr/local/lib/python3.11/dist-packages (from torch>=1.11.0->sentence-transformers>=0.4.1->bertopic) (3.1.6)\n",
            "Requirement already satisfied: nvidia-cuda-nvrtc-cu12==12.4.127 in /usr/local/lib/python3.11/dist-packages (from torch>=1.11.0->sentence-transformers>=0.4.1->bertopic) (12.4.127)\n",
            "Requirement already satisfied: nvidia-cuda-runtime-cu12==12.4.127 in /usr/local/lib/python3.11/dist-packages (from torch>=1.11.0->sentence-transformers>=0.4.1->bertopic) (12.4.127)\n",
            "Requirement already satisfied: nvidia-cuda-cupti-cu12==12.4.127 in /usr/local/lib/python3.11/dist-packages (from torch>=1.11.0->sentence-transformers>=0.4.1->bertopic) (12.4.127)\n",
            "Requirement already satisfied: nvidia-cudnn-cu12==9.1.0.70 in /usr/local/lib/python3.11/dist-packages (from torch>=1.11.0->sentence-transformers>=0.4.1->bertopic) (9.1.0.70)\n",
            "Requirement already satisfied: nvidia-cublas-cu12==12.4.5.8 in /usr/local/lib/python3.11/dist-packages (from torch>=1.11.0->sentence-transformers>=0.4.1->bertopic) (12.4.5.8)\n",
            "Requirement already satisfied: nvidia-cufft-cu12==11.2.1.3 in /usr/local/lib/python3.11/dist-packages (from torch>=1.11.0->sentence-transformers>=0.4.1->bertopic) (11.2.1.3)\n",
            "Requirement already satisfied: nvidia-curand-cu12==10.3.5.147 in /usr/local/lib/python3.11/dist-packages (from torch>=1.11.0->sentence-transformers>=0.4.1->bertopic) (10.3.5.147)\n",
            "Requirement already satisfied: nvidia-cusolver-cu12==11.6.1.9 in /usr/local/lib/python3.11/dist-packages (from torch>=1.11.0->sentence-transformers>=0.4.1->bertopic) (11.6.1.9)\n",
            "Requirement already satisfied: nvidia-cusparse-cu12==12.3.1.170 in /usr/local/lib/python3.11/dist-packages (from torch>=1.11.0->sentence-transformers>=0.4.1->bertopic) (12.3.1.170)\n",
            "Requirement already satisfied: nvidia-cusparselt-cu12==0.6.2 in /usr/local/lib/python3.11/dist-packages (from torch>=1.11.0->sentence-transformers>=0.4.1->bertopic) (0.6.2)\n",
            "Requirement already satisfied: nvidia-nccl-cu12==2.21.5 in /usr/local/lib/python3.11/dist-packages (from torch>=1.11.0->sentence-transformers>=0.4.1->bertopic) (2.21.5)\n",
            "Requirement already satisfied: nvidia-nvtx-cu12==12.4.127 in /usr/local/lib/python3.11/dist-packages (from torch>=1.11.0->sentence-transformers>=0.4.1->bertopic) (12.4.127)\n",
            "Requirement already satisfied: nvidia-nvjitlink-cu12==12.4.127 in /usr/local/lib/python3.11/dist-packages (from torch>=1.11.0->sentence-transformers>=0.4.1->bertopic) (12.4.127)\n",
            "Requirement already satisfied: triton==3.2.0 in /usr/local/lib/python3.11/dist-packages (from torch>=1.11.0->sentence-transformers>=0.4.1->bertopic) (3.2.0)\n",
            "Requirement already satisfied: sympy==1.13.1 in /usr/local/lib/python3.11/dist-packages (from torch>=1.11.0->sentence-transformers>=0.4.1->bertopic) (1.13.1)\n",
            "Requirement already satisfied: mpmath<1.4,>=1.1.0 in /usr/local/lib/python3.11/dist-packages (from sympy==1.13.1->torch>=1.11.0->sentence-transformers>=0.4.1->bertopic) (1.3.0)\n",
            "Requirement already satisfied: regex!=2019.12.17 in /usr/local/lib/python3.11/dist-packages (from transformers<5.0.0,>=4.41.0->sentence-transformers>=0.4.1->bertopic) (2024.11.6)\n",
            "Requirement already satisfied: tokenizers<0.22,>=0.21 in /usr/local/lib/python3.11/dist-packages (from transformers<5.0.0,>=4.41.0->sentence-transformers>=0.4.1->bertopic) (0.21.1)\n",
            "Requirement already satisfied: safetensors>=0.4.3 in /usr/local/lib/python3.11/dist-packages (from transformers<5.0.0,>=4.41.0->sentence-transformers>=0.4.1->bertopic) (0.5.3)\n",
            "Requirement already satisfied: MarkupSafe>=2.0 in /usr/local/lib/python3.11/dist-packages (from jinja2->torch>=1.11.0->sentence-transformers>=0.4.1->bertopic) (3.0.2)\n",
            "Requirement already satisfied: charset-normalizer<4,>=2 in /usr/local/lib/python3.11/dist-packages (from requests->huggingface-hub>=0.20.0->sentence-transformers>=0.4.1->bertopic) (3.4.1)\n",
            "Requirement already satisfied: idna<4,>=2.5 in /usr/local/lib/python3.11/dist-packages (from requests->huggingface-hub>=0.20.0->sentence-transformers>=0.4.1->bertopic) (3.10)\n",
            "Requirement already satisfied: urllib3<3,>=1.21.1 in /usr/local/lib/python3.11/dist-packages (from requests->huggingface-hub>=0.20.0->sentence-transformers>=0.4.1->bertopic) (2.3.0)\n",
            "Requirement already satisfied: certifi>=2017.4.17 in /usr/local/lib/python3.11/dist-packages (from requests->huggingface-hub>=0.20.0->sentence-transformers>=0.4.1->bertopic) (2025.1.31)\n",
            "\u001b[33mWARNING: Ignoring invalid distribution ~vidia-cufft-cu12 (/usr/local/lib/python3.11/dist-packages)\u001b[0m\u001b[33m\n",
            "\u001b[0m\u001b[33mWARNING: Ignoring invalid distribution ~vidia-cufft-cu12 (/usr/local/lib/python3.11/dist-packages)\u001b[0m\u001b[33m\n",
            "\u001b[0m"
          ]
        }
      ]
    },
    {
      "cell_type": "code",
      "source": [
        "!pip install --force-reinstall --no-cache-dir xarray\n"
      ],
      "metadata": {
        "colab": {
          "base_uri": "https://localhost:8080/",
          "height": 1471
        },
        "id": "77WbuXZmLN1l",
        "outputId": "6a0bf5a0-49d1-4d2b-ecb9-2836ed4b7643"
      },
      "execution_count": null,
      "outputs": [
        {
          "output_type": "stream",
          "name": "stdout",
          "text": [
            "\u001b[33mWARNING: Ignoring invalid distribution ~vidia-cufft-cu12 (/usr/local/lib/python3.11/dist-packages)\u001b[0m\u001b[33m\n",
            "\u001b[0m\u001b[33mWARNING: Ignoring invalid distribution ~vidia-cufft-cu12 (/usr/local/lib/python3.11/dist-packages)\u001b[0m\u001b[33m\n",
            "\u001b[0mCollecting xarray\n",
            "  Downloading xarray-2025.3.1-py3-none-any.whl.metadata (12 kB)\n",
            "Collecting numpy>=1.24 (from xarray)\n",
            "  Downloading numpy-2.2.4-cp311-cp311-manylinux_2_17_x86_64.manylinux2014_x86_64.whl.metadata (62 kB)\n",
            "Collecting packaging>=23.2 (from xarray)\n",
            "  Downloading packaging-24.2-py3-none-any.whl.metadata (3.2 kB)\n",
            "Collecting pandas>=2.1 (from xarray)\n",
            "  Downloading pandas-2.2.3-cp311-cp311-manylinux_2_17_x86_64.manylinux2014_x86_64.whl.metadata (89 kB)\n",
            "Collecting python-dateutil>=2.8.2 (from pandas>=2.1->xarray)\n",
            "  Downloading python_dateutil-2.9.0.post0-py2.py3-none-any.whl.metadata (8.4 kB)\n",
            "Collecting pytz>=2020.1 (from pandas>=2.1->xarray)\n",
            "  Downloading pytz-2025.2-py2.py3-none-any.whl.metadata (22 kB)\n",
            "Collecting tzdata>=2022.7 (from pandas>=2.1->xarray)\n",
            "  Downloading tzdata-2025.2-py2.py3-none-any.whl.metadata (1.4 kB)\n",
            "Collecting six>=1.5 (from python-dateutil>=2.8.2->pandas>=2.1->xarray)\n",
            "  Downloading six-1.17.0-py2.py3-none-any.whl.metadata (1.7 kB)\n",
            "Downloading xarray-2025.3.1-py3-none-any.whl (1.3 MB)\n",
            "\u001b[2K   \u001b[90m━━━━━━━━━━━━━━━━━━━━━━━━━━━━━━━━━━━━━━━━\u001b[0m \u001b[32m1.3/1.3 MB\u001b[0m \u001b[31m259.6 MB/s\u001b[0m eta \u001b[36m0:00:00\u001b[0m\n",
            "\u001b[?25hDownloading numpy-2.2.4-cp311-cp311-manylinux_2_17_x86_64.manylinux2014_x86_64.whl (16.4 MB)\n",
            "\u001b[2K   \u001b[90m━━━━━━━━━━━━━━━━━━━━━━━━━━━━━━━━━━━━━━━━\u001b[0m \u001b[32m16.4/16.4 MB\u001b[0m \u001b[31m294.7 MB/s\u001b[0m eta \u001b[36m0:00:00\u001b[0m\n",
            "\u001b[?25hDownloading packaging-24.2-py3-none-any.whl (65 kB)\n",
            "Downloading pandas-2.2.3-cp311-cp311-manylinux_2_17_x86_64.manylinux2014_x86_64.whl (13.1 MB)\n",
            "\u001b[2K   \u001b[90m━━━━━━━━━━━━━━━━━━━━━━━━━━━━━━━━━━━━━━━━\u001b[0m \u001b[32m13.1/13.1 MB\u001b[0m \u001b[31m265.6 MB/s\u001b[0m eta \u001b[36m0:00:00\u001b[0m\n",
            "\u001b[?25hDownloading python_dateutil-2.9.0.post0-py2.py3-none-any.whl (229 kB)\n",
            "Downloading pytz-2025.2-py2.py3-none-any.whl (509 kB)\n",
            "Downloading tzdata-2025.2-py2.py3-none-any.whl (347 kB)\n",
            "Downloading six-1.17.0-py2.py3-none-any.whl (11 kB)\n",
            "\u001b[33mWARNING: Ignoring invalid distribution ~vidia-cufft-cu12 (/usr/local/lib/python3.11/dist-packages)\u001b[0m\u001b[33m\n",
            "\u001b[0mInstalling collected packages: pytz, tzdata, six, packaging, numpy, python-dateutil, pandas, xarray\n",
            "  Attempting uninstall: pytz\n",
            "    Found existing installation: pytz 2025.2\n",
            "    Uninstalling pytz-2025.2:\n",
            "      Successfully uninstalled pytz-2025.2\n",
            "  Attempting uninstall: tzdata\n",
            "\u001b[33m    WARNING: Ignoring invalid distribution ~vidia-cufft-cu12 (/usr/local/lib/python3.11/dist-packages)\u001b[0m\u001b[33m\n",
            "\u001b[0m    Found existing installation: tzdata 2025.2\n",
            "    Uninstalling tzdata-2025.2:\n",
            "      Successfully uninstalled tzdata-2025.2\n",
            "  Attempting uninstall: six\n",
            "\u001b[33m    WARNING: Ignoring invalid distribution ~vidia-cufft-cu12 (/usr/local/lib/python3.11/dist-packages)\u001b[0m\u001b[33m\n",
            "\u001b[0m    Found existing installation: six 1.17.0\n",
            "    Uninstalling six-1.17.0:\n",
            "      Successfully uninstalled six-1.17.0\n",
            "  Attempting uninstall: packaging\n",
            "\u001b[33m    WARNING: Ignoring invalid distribution ~vidia-cufft-cu12 (/usr/local/lib/python3.11/dist-packages)\u001b[0m\u001b[33m\n",
            "\u001b[0m    Found existing installation: packaging 24.2\n",
            "    Uninstalling packaging-24.2:\n",
            "      Successfully uninstalled packaging-24.2\n",
            "  Attempting uninstall: numpy\n",
            "\u001b[33m    WARNING: Ignoring invalid distribution ~vidia-cufft-cu12 (/usr/local/lib/python3.11/dist-packages)\u001b[0m\u001b[33m\n",
            "\u001b[0m    Found existing installation: numpy 1.23.5\n",
            "    Uninstalling numpy-1.23.5:\n",
            "      Successfully uninstalled numpy-1.23.5\n",
            "  Attempting uninstall: python-dateutil\n",
            "\u001b[33m    WARNING: Ignoring invalid distribution ~vidia-cufft-cu12 (/usr/local/lib/python3.11/dist-packages)\u001b[0m\u001b[33m\n",
            "\u001b[0m    Found existing installation: python-dateutil 2.9.0.post0\n",
            "    Uninstalling python-dateutil-2.9.0.post0:\n",
            "      Successfully uninstalled python-dateutil-2.9.0.post0\n",
            "  Attempting uninstall: pandas\n",
            "\u001b[33m    WARNING: Ignoring invalid distribution ~vidia-cufft-cu12 (/usr/local/lib/python3.11/dist-packages)\u001b[0m\u001b[33m\n",
            "\u001b[0m    Found existing installation: pandas 2.2.3\n",
            "    Uninstalling pandas-2.2.3:\n",
            "      Successfully uninstalled pandas-2.2.3\n",
            "  Attempting uninstall: xarray\n",
            "\u001b[33m    WARNING: Ignoring invalid distribution ~vidia-cufft-cu12 (/usr/local/lib/python3.11/dist-packages)\u001b[0m\u001b[33m\n",
            "\u001b[0m    Found existing installation: xarray 2025.3.1\n",
            "    Uninstalling xarray-2025.3.1:\n",
            "      Successfully uninstalled xarray-2025.3.1\n",
            "\u001b[33mWARNING: Ignoring invalid distribution ~vidia-cufft-cu12 (/usr/local/lib/python3.11/dist-packages)\u001b[0m\u001b[33m\n",
            "\u001b[0m\u001b[31mERROR: pip's dependency resolver does not currently take into account all the packages that are installed. This behaviour is the source of the following dependency conflicts.\n",
            "gensim 4.3.3 requires numpy<2.0,>=1.18.5, but you have numpy 2.2.4 which is incompatible.\n",
            "google-colab 1.0.0 requires pandas==2.2.2, but you have pandas 2.2.3 which is incompatible.\n",
            "tensorflow 2.18.0 requires numpy<2.1.0,>=1.26.0, but you have numpy 2.2.4 which is incompatible.\n",
            "numba 0.60.0 requires numpy<2.1,>=1.22, but you have numpy 2.2.4 which is incompatible.\u001b[0m\u001b[31m\n",
            "\u001b[0mSuccessfully installed numpy-2.2.4 packaging-24.2 pandas-2.2.3 python-dateutil-2.9.0.post0 pytz-2025.2 six-1.17.0 tzdata-2025.2 xarray-2025.3.1\n"
          ]
        },
        {
          "output_type": "display_data",
          "data": {
            "application/vnd.colab-display-data+json": {
              "pip_warning": {
                "packages": [
                  "dateutil",
                  "pytz",
                  "six"
                ]
              },
              "id": "bb297476f1dd4172b7a2abaddcade713"
            }
          },
          "metadata": {}
        }
      ]
    },
    {
      "cell_type": "code",
      "source": [
        "!pip install --force-reinstall --no-cache-dir numpy\n"
      ],
      "metadata": {
        "colab": {
          "base_uri": "https://localhost:8080/"
        },
        "id": "TDSyGQ0ELGxt",
        "outputId": "47e61058-715f-4b31-cbd6-762bfd16ffec"
      },
      "execution_count": null,
      "outputs": [
        {
          "output_type": "stream",
          "name": "stdout",
          "text": [
            "\u001b[33mWARNING: Ignoring invalid distribution ~vidia-cufft-cu12 (/usr/local/lib/python3.11/dist-packages)\u001b[0m\u001b[33m\n",
            "\u001b[0m\u001b[33mWARNING: Ignoring invalid distribution ~vidia-cufft-cu12 (/usr/local/lib/python3.11/dist-packages)\u001b[0m\u001b[33m\n",
            "\u001b[0mCollecting numpy\n",
            "  Downloading numpy-2.2.4-cp311-cp311-manylinux_2_17_x86_64.manylinux2014_x86_64.whl.metadata (62 kB)\n",
            "Downloading numpy-2.2.4-cp311-cp311-manylinux_2_17_x86_64.manylinux2014_x86_64.whl (16.4 MB)\n",
            "\u001b[2K   \u001b[90m━━━━━━━━━━━━━━━━━━━━━━━━━━━━━━━━━━━━━━━━\u001b[0m \u001b[32m16.4/16.4 MB\u001b[0m \u001b[31m466.6 MB/s\u001b[0m eta \u001b[36m0:00:00\u001b[0m\n",
            "\u001b[?25h\u001b[33mWARNING: Ignoring invalid distribution ~vidia-cufft-cu12 (/usr/local/lib/python3.11/dist-packages)\u001b[0m\u001b[33m\n",
            "\u001b[0mInstalling collected packages: numpy\n",
            "  Attempting uninstall: numpy\n",
            "\u001b[33m    WARNING: Ignoring invalid distribution ~vidia-cufft-cu12 (/usr/local/lib/python3.11/dist-packages)\u001b[0m\u001b[33m\n",
            "\u001b[0m    Found existing installation: numpy 2.2.4\n",
            "    Uninstalling numpy-2.2.4:\n",
            "      Successfully uninstalled numpy-2.2.4\n",
            "\u001b[33mWARNING: Ignoring invalid distribution ~vidia-cufft-cu12 (/usr/local/lib/python3.11/dist-packages)\u001b[0m\u001b[33m\n",
            "\u001b[0m\u001b[31mERROR: pip's dependency resolver does not currently take into account all the packages that are installed. This behaviour is the source of the following dependency conflicts.\n",
            "gensim 4.3.3 requires numpy<2.0,>=1.18.5, but you have numpy 2.2.4 which is incompatible.\n",
            "google-colab 1.0.0 requires pandas==2.2.2, but you have pandas 2.2.3 which is incompatible.\n",
            "tensorflow 2.18.0 requires numpy<2.1.0,>=1.26.0, but you have numpy 2.2.4 which is incompatible.\n",
            "numba 0.60.0 requires numpy<2.1,>=1.22, but you have numpy 2.2.4 which is incompatible.\u001b[0m\u001b[31m\n",
            "\u001b[0mSuccessfully installed numpy-2.2.4\n"
          ]
        }
      ]
    },
    {
      "cell_type": "code",
      "source": [
        "!pip install gensim"
      ],
      "metadata": {
        "colab": {
          "base_uri": "https://localhost:8080/"
        },
        "id": "9K2xSfJSJNDM",
        "outputId": "063bddfe-4880-46c9-d511-3ed9b14d6385"
      },
      "execution_count": null,
      "outputs": [
        {
          "output_type": "stream",
          "name": "stdout",
          "text": [
            "\u001b[33mWARNING: Ignoring invalid distribution ~vidia-cufft-cu12 (/usr/local/lib/python3.11/dist-packages)\u001b[0m\u001b[33m\n",
            "\u001b[0m\u001b[33mWARNING: Ignoring invalid distribution ~vidia-cufft-cu12 (/usr/local/lib/python3.11/dist-packages)\u001b[0m\u001b[33m\n",
            "\u001b[0mRequirement already satisfied: gensim in /usr/local/lib/python3.11/dist-packages (4.3.3)\n",
            "Collecting numpy<2.0,>=1.18.5 (from gensim)\n",
            "  Using cached numpy-1.26.4-cp311-cp311-manylinux_2_17_x86_64.manylinux2014_x86_64.whl.metadata (61 kB)\n",
            "Requirement already satisfied: scipy<1.14.0,>=1.7.0 in /usr/local/lib/python3.11/dist-packages (from gensim) (1.13.1)\n",
            "Requirement already satisfied: smart-open>=1.8.1 in /usr/local/lib/python3.11/dist-packages (from gensim) (7.1.0)\n",
            "Requirement already satisfied: wrapt in /usr/local/lib/python3.11/dist-packages (from smart-open>=1.8.1->gensim) (1.17.2)\n",
            "Using cached numpy-1.26.4-cp311-cp311-manylinux_2_17_x86_64.manylinux2014_x86_64.whl (18.3 MB)\n",
            "\u001b[33mWARNING: Ignoring invalid distribution ~vidia-cufft-cu12 (/usr/local/lib/python3.11/dist-packages)\u001b[0m\u001b[33m\n",
            "\u001b[0mInstalling collected packages: numpy\n",
            "  Attempting uninstall: numpy\n",
            "\u001b[33m    WARNING: Ignoring invalid distribution ~vidia-cufft-cu12 (/usr/local/lib/python3.11/dist-packages)\u001b[0m\u001b[33m\n",
            "\u001b[0m    Found existing installation: numpy 2.2.4\n",
            "    Uninstalling numpy-2.2.4:\n",
            "      Successfully uninstalled numpy-2.2.4\n",
            "\u001b[33mWARNING: Ignoring invalid distribution ~vidia-cufft-cu12 (/usr/local/lib/python3.11/dist-packages)\u001b[0m\u001b[33m\n",
            "\u001b[0m\u001b[31mERROR: pip's dependency resolver does not currently take into account all the packages that are installed. This behaviour is the source of the following dependency conflicts.\n",
            "google-colab 1.0.0 requires pandas==2.2.2, but you have pandas 2.2.3 which is incompatible.\u001b[0m\u001b[31m\n",
            "\u001b[0mSuccessfully installed numpy-1.26.4\n"
          ]
        }
      ]
    },
    {
      "cell_type": "code",
      "source": [
        "!pip install --force-reinstall --no-cache-dir numpy==1.23.5\n"
      ],
      "metadata": {
        "colab": {
          "base_uri": "https://localhost:8080/",
          "height": 664
        },
        "id": "9t2StitRJt8q",
        "outputId": "e8c0b9ee-80eb-4df5-b98c-0d65ad160001"
      },
      "execution_count": null,
      "outputs": [
        {
          "output_type": "stream",
          "name": "stdout",
          "text": [
            "\u001b[33mWARNING: Ignoring invalid distribution ~vidia-cufft-cu12 (/usr/local/lib/python3.11/dist-packages)\u001b[0m\u001b[33m\n",
            "\u001b[0m\u001b[33mWARNING: Ignoring invalid distribution ~vidia-cufft-cu12 (/usr/local/lib/python3.11/dist-packages)\u001b[0m\u001b[33m\n",
            "\u001b[0mCollecting numpy==1.23.5\n",
            "  Downloading numpy-1.23.5-cp311-cp311-manylinux_2_17_x86_64.manylinux2014_x86_64.whl.metadata (2.3 kB)\n",
            "Downloading numpy-1.23.5-cp311-cp311-manylinux_2_17_x86_64.manylinux2014_x86_64.whl (17.1 MB)\n",
            "\u001b[2K   \u001b[90m━━━━━━━━━━━━━━━━━━━━━━━━━━━━━━━━━━━━━━━━\u001b[0m \u001b[32m17.1/17.1 MB\u001b[0m \u001b[31m252.5 MB/s\u001b[0m eta \u001b[36m0:00:00\u001b[0m\n",
            "\u001b[?25h\u001b[33mWARNING: Ignoring invalid distribution ~vidia-cufft-cu12 (/usr/local/lib/python3.11/dist-packages)\u001b[0m\u001b[33m\n",
            "\u001b[0mInstalling collected packages: numpy\n",
            "  Attempting uninstall: numpy\n",
            "\u001b[33m    WARNING: Ignoring invalid distribution ~vidia-cufft-cu12 (/usr/local/lib/python3.11/dist-packages)\u001b[0m\u001b[33m\n",
            "\u001b[0m    Found existing installation: numpy 1.26.4\n",
            "    Uninstalling numpy-1.26.4:\n",
            "      Successfully uninstalled numpy-1.26.4\n",
            "\u001b[33mWARNING: Ignoring invalid distribution ~vidia-cufft-cu12 (/usr/local/lib/python3.11/dist-packages)\u001b[0m\u001b[33m\n",
            "\u001b[0m\u001b[31mERROR: pip's dependency resolver does not currently take into account all the packages that are installed. This behaviour is the source of the following dependency conflicts.\n",
            "xarray 2025.3.1 requires numpy>=1.24, but you have numpy 1.23.5 which is incompatible.\n",
            "google-colab 1.0.0 requires pandas==2.2.2, but you have pandas 2.2.3 which is incompatible.\n",
            "jaxlib 0.5.1 requires numpy>=1.25, but you have numpy 1.23.5 which is incompatible.\n",
            "albumentations 2.0.5 requires numpy>=1.24.4, but you have numpy 1.23.5 which is incompatible.\n",
            "tensorflow 2.18.0 requires numpy<2.1.0,>=1.26.0, but you have numpy 1.23.5 which is incompatible.\n",
            "imbalanced-learn 0.13.0 requires numpy<3,>=1.24.3, but you have numpy 1.23.5 which is incompatible.\n",
            "scikit-image 0.25.2 requires numpy>=1.24, but you have numpy 1.23.5 which is incompatible.\n",
            "treescope 0.1.9 requires numpy>=1.25.2, but you have numpy 1.23.5 which is incompatible.\n",
            "bigframes 1.42.0 requires numpy>=1.24.0, but you have numpy 1.23.5 which is incompatible.\n",
            "jax 0.5.2 requires numpy>=1.25, but you have numpy 1.23.5 which is incompatible.\n",
            "albucore 0.0.23 requires numpy>=1.24.4, but you have numpy 1.23.5 which is incompatible.\n",
            "pymc 5.21.2 requires numpy>=1.25.0, but you have numpy 1.23.5 which is incompatible.\n",
            "blosc2 3.2.1 requires numpy>=1.26, but you have numpy 1.23.5 which is incompatible.\n",
            "chex 0.1.89 requires numpy>=1.24.1, but you have numpy 1.23.5 which is incompatible.\u001b[0m\u001b[31m\n",
            "\u001b[0mSuccessfully installed numpy-1.23.5\n"
          ]
        },
        {
          "output_type": "display_data",
          "data": {
            "application/vnd.colab-display-data+json": {
              "pip_warning": {
                "packages": [
                  "numpy"
                ]
              },
              "id": "670f8600afca4e18af2f0e7321c85430"
            }
          },
          "metadata": {}
        }
      ]
    },
    {
      "cell_type": "code",
      "source": [
        "!pip install --force-reinstall --no-cache-dir gensim\n"
      ],
      "metadata": {
        "colab": {
          "base_uri": "https://localhost:8080/",
          "height": 1019
        },
        "id": "9KknJc00J2Jv",
        "outputId": "5a73c697-4e1c-4ecb-b8b8-e88d10b3c635"
      },
      "execution_count": null,
      "outputs": [
        {
          "output_type": "stream",
          "name": "stdout",
          "text": [
            "\u001b[33mWARNING: Ignoring invalid distribution ~vidia-cufft-cu12 (/usr/local/lib/python3.11/dist-packages)\u001b[0m\u001b[33m\n",
            "\u001b[0m\u001b[33mWARNING: Ignoring invalid distribution ~vidia-cufft-cu12 (/usr/local/lib/python3.11/dist-packages)\u001b[0m\u001b[33m\n",
            "\u001b[0mCollecting gensim\n",
            "  Downloading gensim-4.3.3-cp311-cp311-manylinux_2_17_x86_64.manylinux2014_x86_64.whl.metadata (8.1 kB)\n",
            "Collecting numpy<2.0,>=1.18.5 (from gensim)\n",
            "  Downloading numpy-1.26.4-cp311-cp311-manylinux_2_17_x86_64.manylinux2014_x86_64.whl.metadata (61 kB)\n",
            "Collecting scipy<1.14.0,>=1.7.0 (from gensim)\n",
            "  Downloading scipy-1.13.1-cp311-cp311-manylinux_2_17_x86_64.manylinux2014_x86_64.whl.metadata (60 kB)\n",
            "Collecting smart-open>=1.8.1 (from gensim)\n",
            "  Downloading smart_open-7.1.0-py3-none-any.whl.metadata (24 kB)\n",
            "Collecting wrapt (from smart-open>=1.8.1->gensim)\n",
            "  Downloading wrapt-1.17.2-cp311-cp311-manylinux_2_5_x86_64.manylinux1_x86_64.manylinux_2_17_x86_64.manylinux2014_x86_64.whl.metadata (6.4 kB)\n",
            "Downloading gensim-4.3.3-cp311-cp311-manylinux_2_17_x86_64.manylinux2014_x86_64.whl (26.7 MB)\n",
            "\u001b[2K   \u001b[90m━━━━━━━━━━━━━━━━━━━━━━━━━━━━━━━━━━━━━━━━\u001b[0m \u001b[32m26.7/26.7 MB\u001b[0m \u001b[31m434.9 MB/s\u001b[0m eta \u001b[36m0:00:00\u001b[0m\n",
            "\u001b[?25hDownloading numpy-1.26.4-cp311-cp311-manylinux_2_17_x86_64.manylinux2014_x86_64.whl (18.3 MB)\n",
            "\u001b[2K   \u001b[90m━━━━━━━━━━━━━━━━━━━━━━━━━━━━━━━━━━━━━━━━\u001b[0m \u001b[32m18.3/18.3 MB\u001b[0m \u001b[31m510.0 MB/s\u001b[0m eta \u001b[36m0:00:00\u001b[0m\n",
            "\u001b[?25hDownloading scipy-1.13.1-cp311-cp311-manylinux_2_17_x86_64.manylinux2014_x86_64.whl (38.6 MB)\n",
            "\u001b[2K   \u001b[90m━━━━━━━━━━━━━━━━━━━━━━━━━━━━━━━━━━━━━━━━\u001b[0m \u001b[32m38.6/38.6 MB\u001b[0m \u001b[31m520.0 MB/s\u001b[0m eta \u001b[36m0:00:00\u001b[0m\n",
            "\u001b[?25hDownloading smart_open-7.1.0-py3-none-any.whl (61 kB)\n",
            "Downloading wrapt-1.17.2-cp311-cp311-manylinux_2_5_x86_64.manylinux1_x86_64.manylinux_2_17_x86_64.manylinux2014_x86_64.whl (83 kB)\n",
            "\u001b[33mWARNING: Ignoring invalid distribution ~vidia-cufft-cu12 (/usr/local/lib/python3.11/dist-packages)\u001b[0m\u001b[33m\n",
            "\u001b[0mInstalling collected packages: wrapt, numpy, smart-open, scipy, gensim\n",
            "  Attempting uninstall: wrapt\n",
            "\u001b[33m    WARNING: Ignoring invalid distribution ~vidia-cufft-cu12 (/usr/local/lib/python3.11/dist-packages)\u001b[0m\u001b[33m\n",
            "\u001b[0m    Found existing installation: wrapt 1.17.2\n",
            "    Uninstalling wrapt-1.17.2:\n",
            "      Successfully uninstalled wrapt-1.17.2\n",
            "  Attempting uninstall: numpy\n",
            "\u001b[33m    WARNING: Ignoring invalid distribution ~vidia-cufft-cu12 (/usr/local/lib/python3.11/dist-packages)\u001b[0m\u001b[33m\n",
            "\u001b[0m    Found existing installation: numpy 2.2.4\n",
            "    Uninstalling numpy-2.2.4:\n",
            "      Successfully uninstalled numpy-2.2.4\n",
            "  Attempting uninstall: smart-open\n",
            "\u001b[33m    WARNING: Ignoring invalid distribution ~vidia-cufft-cu12 (/usr/local/lib/python3.11/dist-packages)\u001b[0m\u001b[33m\n",
            "\u001b[0m    Found existing installation: smart-open 7.1.0\n",
            "    Uninstalling smart-open-7.1.0:\n",
            "      Successfully uninstalled smart-open-7.1.0\n",
            "  Attempting uninstall: scipy\n",
            "\u001b[33m    WARNING: Ignoring invalid distribution ~vidia-cufft-cu12 (/usr/local/lib/python3.11/dist-packages)\u001b[0m\u001b[33m\n",
            "\u001b[0m    Found existing installation: scipy 1.13.1\n",
            "    Uninstalling scipy-1.13.1:\n",
            "      Successfully uninstalled scipy-1.13.1\n",
            "  Attempting uninstall: gensim\n",
            "\u001b[33m    WARNING: Ignoring invalid distribution ~vidia-cufft-cu12 (/usr/local/lib/python3.11/dist-packages)\u001b[0m\u001b[33m\n",
            "\u001b[0m    Found existing installation: gensim 4.3.3\n",
            "    Uninstalling gensim-4.3.3:\n",
            "      Successfully uninstalled gensim-4.3.3\n",
            "\u001b[33mWARNING: Ignoring invalid distribution ~vidia-cufft-cu12 (/usr/local/lib/python3.11/dist-packages)\u001b[0m\u001b[33m\n",
            "\u001b[0m\u001b[31mERROR: pip's dependency resolver does not currently take into account all the packages that are installed. This behaviour is the source of the following dependency conflicts.\n",
            "google-colab 1.0.0 requires pandas==2.2.2, but you have pandas 2.2.3 which is incompatible.\u001b[0m\u001b[31m\n",
            "\u001b[0mSuccessfully installed gensim-4.3.3 numpy-1.26.4 scipy-1.13.1 smart-open-7.1.0 wrapt-1.17.2\n"
          ]
        },
        {
          "output_type": "display_data",
          "data": {
            "application/vnd.colab-display-data+json": {
              "pip_warning": {
                "packages": [
                  "smart_open",
                  "wrapt"
                ]
              },
              "id": "cfeae486f9c54c2b9b84157fe1589da8"
            }
          },
          "metadata": {}
        }
      ]
    },
    {
      "cell_type": "code",
      "source": [
        "#helper functions:\n",
        "def extract_topic_keywords(topic_model, top_n=10):\n",
        "    \"\"\"\n",
        "    Extracts the top_n keywords for each topic from a BERTopic model,\n",
        "    skipping outlier topics (labeled -1).\n",
        "    \"\"\"\n",
        "    topics_list = []\n",
        "    for topic_num in topic_model.get_topic_freq().Topic:\n",
        "        if topic_num == -1:\n",
        "            continue\n",
        "        topic = topic_model.get_topic(topic_num)\n",
        "        if topic:\n",
        "            keywords = [word for word, score in topic][:top_n]\n",
        "            topics_list.append(keywords)\n",
        "    return topics_list\n",
        "\n",
        "def ensure_topics_are_lists(topics):\n",
        "    \"\"\"\n",
        "    Given a list of topics, ensure each topic is a non-empty list of strings.\n",
        "    Discards topics that become empty after stripping.\n",
        "    \"\"\"\n",
        "    cleaned_topics = []\n",
        "    for topic in topics:\n",
        "        if isinstance(topic, list):\n",
        "            cleaned_topic = [str(token).strip() for token in topic if token and str(token).strip()]\n",
        "            if len(cleaned_topic) > 0:\n",
        "                cleaned_topics.append(cleaned_topic)\n",
        "        else:\n",
        "            token_str = str(topic).strip()\n",
        "            if token_str:\n",
        "                cleaned_topics.append([token_str])\n",
        "    return cleaned_topics"
      ],
      "metadata": {
        "id": "tPUaPXsLmeTb"
      },
      "execution_count": null,
      "outputs": []
    },
    {
      "cell_type": "code",
      "source": [
        "import os\n",
        "import pickle\n",
        "from gensim import corpora\n",
        "from gensim.models import CoherenceModel\n",
        "\n",
        "# Reload docs_sample from Google Drive\n",
        "with open('/content/drive/MyDrive/docs_sample.pkl', 'rb') as f:\n",
        "    docs_sample = pickle.load(f)\n",
        "print(f\"Reloaded {len(docs_sample)} documents from Google Drive.\")\n",
        "\n",
        "#Tokenize your documents:\n",
        "tokenized_docs = [doc.lower().split() for doc in docs_sample]\n",
        "print(\"Tokenization complete!\")\n",
        "\n",
        "#Create dictionary and corpus\n",
        "if not os.path.exists(\"dictionary.dict\"):\n",
        "    dictionary = corpora.Dictionary(tokenized_docs)\n",
        "    dictionary.save(\"dictionary.dict\")\n",
        "else:\n",
        "    dictionary = corpora.Dictionary.load(\"dictionary.dict\")\n",
        "\n",
        "if not os.path.exists(\"corpus.mm\"):\n",
        "    corpus = [dictionary.doc2bow(text) for text in tokenized_docs]\n",
        "    corpora.MmCorpus.serialize(\"corpus.mm\", corpus)\n",
        "else:\n",
        "    corpus = corpora.MmCorpus(\"corpus.mm\")\n",
        "\n",
        "# Extract and clean topics for default BERTopic model:\n",
        "default_topics_keywords = extract_topic_keywords(default_topic_model, top_n=10)\n",
        "default_topics_keywords_clean = ensure_topics_are_lists(default_topics_keywords)\n",
        "print(\"Default model topics (cleaned):\")\n",
        "print(default_topics_keywords_clean)\n",
        "\n",
        "# Compute coherence for the default model:\n",
        "default_coherence = CoherenceModel(\n",
        "    topics=default_topics_keywords_clean,\n",
        "    texts=tokenized_docs,\n",
        "    dictionary=dictionary,\n",
        "    corpus=corpus,\n",
        "    coherence='c_v'\n",
        ").get_coherence()\n",
        "print(f\"Default BERTopic Coherence: {default_coherence:.4f}\")\n",
        "\n",
        "#Extract and clean topics for custom BERTopic model:\n",
        "custom_topics_keywords = extract_topic_keywords(custom_topic_model, top_n=10)\n",
        "custom_topics_keywords_clean = ensure_topics_are_lists(custom_topics_keywords)\n",
        "print(\"Custom model topics (cleaned):\")\n",
        "print(custom_topics_keywords_clean)\n",
        "\n",
        "#Compute coherence for the custom model:\n",
        "custom_coherence = CoherenceModel(\n",
        "    topics=custom_topics_keywords_clean,\n",
        "    texts=tokenized_docs,\n",
        "    dictionary=dictionary,\n",
        "    corpus=corpus,\n",
        "    coherence='c_v'\n",
        ").get_coherence()\n",
        "print(f\"Custom BERTopic Coherence: {custom_coherence:.4f}\")"
      ],
      "metadata": {
        "colab": {
          "base_uri": "https://localhost:8080/"
        },
        "id": "x5_m8_BXkIAb",
        "outputId": "7fe92fde-2dd1-4208-b765-f626d99c74f0"
      },
      "execution_count": null,
      "outputs": [
        {
          "output_type": "stream",
          "name": "stdout",
          "text": [
            "Reloaded 2000 documents from Google Drive.\n",
            "Tokenization complete!\n",
            "Default model topics (cleaned):\n",
            "[['the', 'to', 'of', 'and', 'in', 'is', 'that', 'it', 'for', 'you']]\n",
            "Default BERTopic Coherence: 0.4507\n",
            "Custom model topics (cleaned):\n",
            "[['the', 'to', 'of', 'and', 'in', 'is', 'that', 'ax', 'it', 'for']]\n",
            "Custom BERTopic Coherence: 0.3684\n"
          ]
        }
      ]
    },
    {
      "cell_type": "code",
      "source": [
        "from bertopic import BERTopic\n",
        "# Initialize the default BERTopic model with the Sentence-Transformer embedding model.\n",
        "topic_model = BERTopic(embedding_model=\"all-MiniLM-L6-v2\", verbose=True)\n",
        "\n",
        "# Fit the model on your sampled documents\n",
        "topics, probs = topic_model.fit_transform(docs_sample)\n",
        "\n",
        "# Print basic topic info\n",
        "print(\"Topic Information:\")\n",
        "print(topic_model.get_topic_info())\n"
      ],
      "metadata": {
        "colab": {
          "base_uri": "https://localhost:8080/",
          "height": 1000,
          "referenced_widgets": [
            "700e769ff8bb4f529af3dbd3c0e3edb6",
            "87f69ca4013f4981a9a498db6e78eef9",
            "e175d72f930447e090f96f6cfe40e392",
            "58bae79df6e745499132b082b2f0aa6b",
            "0630451085bd40a79689b9229a7d0d64",
            "2a941172123d448f86a39a176b7413a3",
            "02887626ad4d42d6a6e9a199d2d5706a",
            "b6ddd0fc6a824dc09727f27ae8fffb53",
            "8d02c8fc60264c129d0e2189209d69ed",
            "6a4e4f55a6dd4739a6e19487f18e7215",
            "505d0a0b63ff43859f86764f98becb05"
          ]
        },
        "id": "Il4owjqFnMwe",
        "outputId": "f20d97c0-fe49-4d86-af9b-dadcb44b6463"
      },
      "execution_count": null,
      "outputs": [
        {
          "output_type": "stream",
          "name": "stderr",
          "text": [
            "2025-04-07 23:46:32,866 - BERTopic - Embedding - Transforming documents to embeddings.\n"
          ]
        },
        {
          "output_type": "display_data",
          "data": {
            "text/plain": [
              "Batches:   0%|          | 0/63 [00:00<?, ?it/s]"
            ],
            "application/vnd.jupyter.widget-view+json": {
              "version_major": 2,
              "version_minor": 0,
              "model_id": "700e769ff8bb4f529af3dbd3c0e3edb6"
            }
          },
          "metadata": {}
        },
        {
          "output_type": "stream",
          "name": "stderr",
          "text": [
            "2025-04-07 23:46:40,809 - BERTopic - Embedding - Completed ✓\n",
            "2025-04-07 23:46:40,810 - BERTopic - Dimensionality - Fitting the dimensionality reduction algorithm\n",
            "2025-04-07 23:46:49,434 - BERTopic - Dimensionality - Completed ✓\n",
            "2025-04-07 23:46:49,436 - BERTopic - Cluster - Start clustering the reduced embeddings\n",
            "2025-04-07 23:46:49,535 - BERTopic - Cluster - Completed ✓\n",
            "2025-04-07 23:46:49,541 - BERTopic - Representation - Fine-tuning topics using representation models.\n",
            "2025-04-07 23:46:50,134 - BERTopic - Representation - Completed ✓\n"
          ]
        },
        {
          "output_type": "stream",
          "name": "stdout",
          "text": [
            "Topic Information:\n",
            "    Topic  Count                          Name  \\\n",
            "0      -1    477              -1_ax_the_to_and   \n",
            "1       0    204              0_of_the_that_to   \n",
            "2       1    176              1_the_he_team_to   \n",
            "3       2    164              2_the_to_car_you   \n",
            "4       3    111                3_it_to_the_of   \n",
            "5       4    108              4_00_for_you_the   \n",
            "6       5     91               5_the_to_and_is   \n",
            "7       6     91            6_the_space_and_to   \n",
            "8       7     68      7_card_the_video_drivers   \n",
            "9       8     61             8_ditto_hi_why_of   \n",
            "10      9     58         9_scsi_drive_the_tape   \n",
            "11     10     56              10_the_is_to_and   \n",
            "12     11     52           11_window_the_to_is   \n",
            "13     12     46             12_the_of_to_that   \n",
            "14     13     43           13_israel_the_of_to   \n",
            "15     14     42        14_mail_motif_com_list   \n",
            "16     15     31          15_they_the_and_were   \n",
            "17     16     21             16_that_to_is_the   \n",
            "18     17     19       17_modem_9600_with_port   \n",
            "19     18     19        18_windows_file_dos_to   \n",
            "20     19     18     19_fbi_witnesses_fire_the   \n",
            "21     20     17  20_washington_202_street_212   \n",
            "22     21     14          21_printer_hp_the_to   \n",
            "23     22     13        22_problem_the_to_this   \n",
            "\n",
            "                                       Representation  \\\n",
            "0        [ax, the, to, and, of, is, for, in, it, max]   \n",
            "1      [of, the, that, to, is, god, and, it, in, not]   \n",
            "2   [the, he, team, to, season, in, and, hockey, o...   \n",
            "3     [the, to, car, you, and, bike, it, for, of, is]   \n",
            "4      [it, to, the, of, is, in, and, that, have, my]   \n",
            "5   [00, for, you, the, and, to, it, shipping, in,...   \n",
            "6      [the, to, and, is, of, key, be, in, that, are]   \n",
            "7      [the, space, and, to, of, in, is, be, on, for]   \n",
            "8   [card, the, video, drivers, have, and, on, to,...   \n",
            "9                    [ditto, hi, why, of, , , , , , ]   \n",
            "10  [scsi, drive, the, tape, controller, this, dri...   \n",
            "11  [the, is, to, and, for, in, on, of, available,...   \n",
            "12  [window, the, to, is, and, you, can, widget, a...   \n",
            "13  [the, of, to, that, gun, in, and, militia, you...   \n",
            "14  [israel, the, of, to, israeli, that, is, in, a...   \n",
            "15  [mail, motif, com, list, please, the, bindings...   \n",
            "16  [they, the, and, were, was, of, in, we, to, that]   \n",
            "17  [that, to, is, the, of, gay, men, and, it, hom...   \n",
            "18  [modem, 9600, with, port, serial, the, baud, a...   \n",
            "19  [windows, file, dos, to, for, os, nt, the, it,...   \n",
            "20  [fbi, witnesses, fire, the, trial, that, new, ...   \n",
            "21  [washington, 202, street, 212, nw, dc, york, n...   \n",
            "22  [printer, hp, the, to, ps, pens, it, printers,...   \n",
            "23  [problem, the, to, this, same, mouse, it, very...   \n",
            "\n",
            "                                  Representative_Docs  \n",
            "0   [-------------------------------------\\n\\t+ .....  \n",
            "1   [I have come across what I consider to be an e...  \n",
            "2   [The FLYERS blew a 3-0 lead over the Buffalo S...  \n",
            "3   [I'm a biker and a dog-lover.\\n\\nFirst and for...  \n",
            "4   [\\nAll true.  And all good points.\\n\\n\\n\\nWell...  \n",
            "5   [Hello fellow humans, and other net creatures....  \n",
            "6   [Archive-name: ripem/attacks\\nLast-update: 31 ...  \n",
            "7   [Archive-name: space/acronyms\\nEdition: 8\\n\\nA...  \n",
            "8   [\\nI am ordering the Actix graphicsengine ultr...  \n",
            "9                  [of  \\nWhy  \\n\\n, Hi,, \\n\\nDitto,]  \n",
            "10  [I have a 486sx25 computer with a 105 Mg Seaga...  \n",
            "11  [\\nIt helps to have some idea of the source of...  \n",
            "12  [Dear SGI and netter GL-X Mixed-Model experts,...  \n",
            "13  [\\n\\n\\n500,000 to 1,000,000 self-defense incid...  \n",
            "14  [From: Center for Policy Research <cpr>\\nSubje...  \n",
            "15  [The following 4 addresses are on the LymeNet ...  \n",
            "16  [Accounts of Anti-Armenian Human Right Violati...  \n",
            "17  [] >     I think the dialogue would go better ...  \n",
            "18  [I write:\\n \\n \\nand a\\n(You've\\nhardware\\nThe...  \n",
            "19  [Hello,\\n  \\n  I'm investigating the purchase ...  \n",
            "20  [A judge denied GM's new trial motion, even th...  \n",
            "21  [\\n\\nThat was hardly the point, was it? I was ...  \n",
            "22  [I would like to sell my dot matrix printer so...  \n",
            "23  [\\n\\n\\nYes this is a common problem.  The leak...  \n"
          ]
        },
        {
          "output_type": "display_data",
          "data": {
            "text/html": [
              "<html>\n",
              "<head><meta charset=\"utf-8\" /></head>\n",
              "<body>\n",
              "    <div>            <script src=\"https://cdnjs.cloudflare.com/ajax/libs/mathjax/2.7.5/MathJax.js?config=TeX-AMS-MML_SVG\"></script><script type=\"text/javascript\">if (window.MathJax && window.MathJax.Hub && window.MathJax.Hub.Config) {window.MathJax.Hub.Config({SVG: {font: \"STIX-Web\"}});}</script>                <script type=\"text/javascript\">window.PlotlyConfig = {MathJaxConfig: 'local'};</script>\n",
              "        <script charset=\"utf-8\" src=\"https://cdn.plot.ly/plotly-2.35.2.min.js\"></script>                <div id=\"ba1b2862-b7ab-4054-88df-dbfd33aa9761\" class=\"plotly-graph-div\" style=\"height:500px; width:1000px;\"></div>            <script type=\"text/javascript\">                                    window.PLOTLYENV=window.PLOTLYENV || {};                                    if (document.getElementById(\"ba1b2862-b7ab-4054-88df-dbfd33aa9761\")) {                    Plotly.newPlot(                        \"ba1b2862-b7ab-4054-88df-dbfd33aa9761\",                        [{\"marker\":{\"color\":\"#D55E00\"},\"orientation\":\"h\",\"x\":[0.02201772033938353,0.022167482388401574,0.02225994846702379,0.0234061873431554,0.025175293029433284,0.029305878344058657,0.030364366001440428,0.03157364046871164,0.03413227240768096,0.0364374791021695],\"y\":[\"not  \",\"in  \",\"it  \",\"and  \",\"god  \",\"is  \",\"to  \",\"that  \",\"the  \",\"of  \"],\"type\":\"bar\",\"xaxis\":\"x\",\"yaxis\":\"y\"},{\"marker\":{\"color\":\"#0072B2\"},\"orientation\":\"h\",\"x\":[0.01692776915608254,0.018561633058277804,0.019237249802626987,0.0201110105363545,0.02034147555546256,0.020545284595421084,0.021060926594912797,0.021786548878255537,0.023274320699319173,0.03334184630231129],\"y\":[\"play  \",\"of  \",\"hockey  \",\"and  \",\"in  \",\"season  \",\"to  \",\"team  \",\"he  \",\"the  \"],\"type\":\"bar\",\"xaxis\":\"x2\",\"yaxis\":\"y2\"},{\"marker\":{\"color\":\"#CC79A7\"},\"orientation\":\"h\",\"x\":[0.020141192433804446,0.02075017928551767,0.02104682060411512,0.025318396892246794,0.025372361258364142,0.02585930661558895,0.026725328139307013,0.027085702663953486,0.02777518729316483,0.033142807600448736],\"y\":[\"is  \",\"of  \",\"for  \",\"it  \",\"bike  \",\"and  \",\"you  \",\"car  \",\"to  \",\"the  \"],\"type\":\"bar\",\"xaxis\":\"x3\",\"yaxis\":\"y3\"},{\"marker\":{\"color\":\"#E69F00\"},\"orientation\":\"h\",\"x\":[0.01932104468672782,0.01957043864894946,0.022677689808625865,0.02503998525003859,0.025828636900481663,0.026243659867837298,0.02787342980932863,0.028253017882040373,0.028694378619465125,0.029487767760423847],\"y\":[\"my  \",\"have  \",\"that  \",\"and  \",\"in  \",\"is  \",\"of  \",\"the  \",\"to  \",\"it  \"],\"type\":\"bar\",\"xaxis\":\"x4\",\"yaxis\":\"y4\"},{\"marker\":{\"color\":\"#56B4E9\"},\"orientation\":\"h\",\"x\":[0.01745333016636341,0.01791460690726678,0.017966387639211878,0.01806979770030926,0.021334788721534107,0.021797850788697535,0.0226006871713138,0.022668931410974424,0.03050850194411075,0.032760044322575094],\"y\":[\"10  \",\"in  \",\"shipping  \",\"it  \",\"to  \",\"and  \",\"the  \",\"you  \",\"for  \",\"00  \"],\"type\":\"bar\",\"xaxis\":\"x5\",\"yaxis\":\"y5\"},{\"marker\":{\"color\":\"#009E73\"},\"orientation\":\"h\",\"x\":[0.019195479255108405,0.020289353469497808,0.021407044786425567,0.023303312339518677,0.02462853216512571,0.02630666772793914,0.02653056181282337,0.026929555625562263,0.029997896970047896,0.03570780484374444],\"y\":[\"are  \",\"that  \",\"in  \",\"be  \",\"key  \",\"of  \",\"is  \",\"and  \",\"to  \",\"the  \"],\"type\":\"bar\",\"xaxis\":\"x6\",\"yaxis\":\"y6\"},{\"marker\":{\"color\":\"#F0E442\"},\"orientation\":\"h\",\"x\":[0.017160440309443987,0.017312860997394975,0.017494414619619657,0.018228101440853208,0.01966459876998458,0.0238939320782644,0.024524478991853886,0.024811443362910194,0.03321902700512925,0.03333282751016451],\"y\":[\"for  \",\"on  \",\"be  \",\"is  \",\"in  \",\"of  \",\"to  \",\"and  \",\"space  \",\"the  \"],\"type\":\"bar\",\"xaxis\":\"x7\",\"yaxis\":\"y7\"},{\"marker\":{\"color\":\"#D55E00\"},\"orientation\":\"h\",\"x\":[0.02046438043707531,0.020635655018928067,0.020961333706059765,0.021460384368530105,0.02170526552741029,0.022031918168939943,0.022994992233577698,0.025255515869305443,0.03450871278705245,0.03726965819376823],\"y\":[\"is  \",\"with  \",\"to  \",\"on  \",\"and  \",\"have  \",\"drivers  \",\"video  \",\"the  \",\"card  \"],\"type\":\"bar\",\"xaxis\":\"x8\",\"yaxis\":\"y8\"}],                        {\"template\":{\"data\":{\"barpolar\":[{\"marker\":{\"line\":{\"color\":\"white\",\"width\":0.5},\"pattern\":{\"fillmode\":\"overlay\",\"size\":10,\"solidity\":0.2}},\"type\":\"barpolar\"}],\"bar\":[{\"error_x\":{\"color\":\"#2a3f5f\"},\"error_y\":{\"color\":\"#2a3f5f\"},\"marker\":{\"line\":{\"color\":\"white\",\"width\":0.5},\"pattern\":{\"fillmode\":\"overlay\",\"size\":10,\"solidity\":0.2}},\"type\":\"bar\"}],\"carpet\":[{\"aaxis\":{\"endlinecolor\":\"#2a3f5f\",\"gridcolor\":\"#C8D4E3\",\"linecolor\":\"#C8D4E3\",\"minorgridcolor\":\"#C8D4E3\",\"startlinecolor\":\"#2a3f5f\"},\"baxis\":{\"endlinecolor\":\"#2a3f5f\",\"gridcolor\":\"#C8D4E3\",\"linecolor\":\"#C8D4E3\",\"minorgridcolor\":\"#C8D4E3\",\"startlinecolor\":\"#2a3f5f\"},\"type\":\"carpet\"}],\"choropleth\":[{\"colorbar\":{\"outlinewidth\":0,\"ticks\":\"\"},\"type\":\"choropleth\"}],\"contourcarpet\":[{\"colorbar\":{\"outlinewidth\":0,\"ticks\":\"\"},\"type\":\"contourcarpet\"}],\"contour\":[{\"colorbar\":{\"outlinewidth\":0,\"ticks\":\"\"},\"colorscale\":[[0.0,\"#0d0887\"],[0.1111111111111111,\"#46039f\"],[0.2222222222222222,\"#7201a8\"],[0.3333333333333333,\"#9c179e\"],[0.4444444444444444,\"#bd3786\"],[0.5555555555555556,\"#d8576b\"],[0.6666666666666666,\"#ed7953\"],[0.7777777777777778,\"#fb9f3a\"],[0.8888888888888888,\"#fdca26\"],[1.0,\"#f0f921\"]],\"type\":\"contour\"}],\"heatmapgl\":[{\"colorbar\":{\"outlinewidth\":0,\"ticks\":\"\"},\"colorscale\":[[0.0,\"#0d0887\"],[0.1111111111111111,\"#46039f\"],[0.2222222222222222,\"#7201a8\"],[0.3333333333333333,\"#9c179e\"],[0.4444444444444444,\"#bd3786\"],[0.5555555555555556,\"#d8576b\"],[0.6666666666666666,\"#ed7953\"],[0.7777777777777778,\"#fb9f3a\"],[0.8888888888888888,\"#fdca26\"],[1.0,\"#f0f921\"]],\"type\":\"heatmapgl\"}],\"heatmap\":[{\"colorbar\":{\"outlinewidth\":0,\"ticks\":\"\"},\"colorscale\":[[0.0,\"#0d0887\"],[0.1111111111111111,\"#46039f\"],[0.2222222222222222,\"#7201a8\"],[0.3333333333333333,\"#9c179e\"],[0.4444444444444444,\"#bd3786\"],[0.5555555555555556,\"#d8576b\"],[0.6666666666666666,\"#ed7953\"],[0.7777777777777778,\"#fb9f3a\"],[0.8888888888888888,\"#fdca26\"],[1.0,\"#f0f921\"]],\"type\":\"heatmap\"}],\"histogram2dcontour\":[{\"colorbar\":{\"outlinewidth\":0,\"ticks\":\"\"},\"colorscale\":[[0.0,\"#0d0887\"],[0.1111111111111111,\"#46039f\"],[0.2222222222222222,\"#7201a8\"],[0.3333333333333333,\"#9c179e\"],[0.4444444444444444,\"#bd3786\"],[0.5555555555555556,\"#d8576b\"],[0.6666666666666666,\"#ed7953\"],[0.7777777777777778,\"#fb9f3a\"],[0.8888888888888888,\"#fdca26\"],[1.0,\"#f0f921\"]],\"type\":\"histogram2dcontour\"}],\"histogram2d\":[{\"colorbar\":{\"outlinewidth\":0,\"ticks\":\"\"},\"colorscale\":[[0.0,\"#0d0887\"],[0.1111111111111111,\"#46039f\"],[0.2222222222222222,\"#7201a8\"],[0.3333333333333333,\"#9c179e\"],[0.4444444444444444,\"#bd3786\"],[0.5555555555555556,\"#d8576b\"],[0.6666666666666666,\"#ed7953\"],[0.7777777777777778,\"#fb9f3a\"],[0.8888888888888888,\"#fdca26\"],[1.0,\"#f0f921\"]],\"type\":\"histogram2d\"}],\"histogram\":[{\"marker\":{\"pattern\":{\"fillmode\":\"overlay\",\"size\":10,\"solidity\":0.2}},\"type\":\"histogram\"}],\"mesh3d\":[{\"colorbar\":{\"outlinewidth\":0,\"ticks\":\"\"},\"type\":\"mesh3d\"}],\"parcoords\":[{\"line\":{\"colorbar\":{\"outlinewidth\":0,\"ticks\":\"\"}},\"type\":\"parcoords\"}],\"pie\":[{\"automargin\":true,\"type\":\"pie\"}],\"scatter3d\":[{\"line\":{\"colorbar\":{\"outlinewidth\":0,\"ticks\":\"\"}},\"marker\":{\"colorbar\":{\"outlinewidth\":0,\"ticks\":\"\"}},\"type\":\"scatter3d\"}],\"scattercarpet\":[{\"marker\":{\"colorbar\":{\"outlinewidth\":0,\"ticks\":\"\"}},\"type\":\"scattercarpet\"}],\"scattergeo\":[{\"marker\":{\"colorbar\":{\"outlinewidth\":0,\"ticks\":\"\"}},\"type\":\"scattergeo\"}],\"scattergl\":[{\"marker\":{\"colorbar\":{\"outlinewidth\":0,\"ticks\":\"\"}},\"type\":\"scattergl\"}],\"scattermapbox\":[{\"marker\":{\"colorbar\":{\"outlinewidth\":0,\"ticks\":\"\"}},\"type\":\"scattermapbox\"}],\"scatterpolargl\":[{\"marker\":{\"colorbar\":{\"outlinewidth\":0,\"ticks\":\"\"}},\"type\":\"scatterpolargl\"}],\"scatterpolar\":[{\"marker\":{\"colorbar\":{\"outlinewidth\":0,\"ticks\":\"\"}},\"type\":\"scatterpolar\"}],\"scatter\":[{\"fillpattern\":{\"fillmode\":\"overlay\",\"size\":10,\"solidity\":0.2},\"type\":\"scatter\"}],\"scatterternary\":[{\"marker\":{\"colorbar\":{\"outlinewidth\":0,\"ticks\":\"\"}},\"type\":\"scatterternary\"}],\"surface\":[{\"colorbar\":{\"outlinewidth\":0,\"ticks\":\"\"},\"colorscale\":[[0.0,\"#0d0887\"],[0.1111111111111111,\"#46039f\"],[0.2222222222222222,\"#7201a8\"],[0.3333333333333333,\"#9c179e\"],[0.4444444444444444,\"#bd3786\"],[0.5555555555555556,\"#d8576b\"],[0.6666666666666666,\"#ed7953\"],[0.7777777777777778,\"#fb9f3a\"],[0.8888888888888888,\"#fdca26\"],[1.0,\"#f0f921\"]],\"type\":\"surface\"}],\"table\":[{\"cells\":{\"fill\":{\"color\":\"#EBF0F8\"},\"line\":{\"color\":\"white\"}},\"header\":{\"fill\":{\"color\":\"#C8D4E3\"},\"line\":{\"color\":\"white\"}},\"type\":\"table\"}]},\"layout\":{\"annotationdefaults\":{\"arrowcolor\":\"#2a3f5f\",\"arrowhead\":0,\"arrowwidth\":1},\"autotypenumbers\":\"strict\",\"coloraxis\":{\"colorbar\":{\"outlinewidth\":0,\"ticks\":\"\"}},\"colorscale\":{\"diverging\":[[0,\"#8e0152\"],[0.1,\"#c51b7d\"],[0.2,\"#de77ae\"],[0.3,\"#f1b6da\"],[0.4,\"#fde0ef\"],[0.5,\"#f7f7f7\"],[0.6,\"#e6f5d0\"],[0.7,\"#b8e186\"],[0.8,\"#7fbc41\"],[0.9,\"#4d9221\"],[1,\"#276419\"]],\"sequential\":[[0.0,\"#0d0887\"],[0.1111111111111111,\"#46039f\"],[0.2222222222222222,\"#7201a8\"],[0.3333333333333333,\"#9c179e\"],[0.4444444444444444,\"#bd3786\"],[0.5555555555555556,\"#d8576b\"],[0.6666666666666666,\"#ed7953\"],[0.7777777777777778,\"#fb9f3a\"],[0.8888888888888888,\"#fdca26\"],[1.0,\"#f0f921\"]],\"sequentialminus\":[[0.0,\"#0d0887\"],[0.1111111111111111,\"#46039f\"],[0.2222222222222222,\"#7201a8\"],[0.3333333333333333,\"#9c179e\"],[0.4444444444444444,\"#bd3786\"],[0.5555555555555556,\"#d8576b\"],[0.6666666666666666,\"#ed7953\"],[0.7777777777777778,\"#fb9f3a\"],[0.8888888888888888,\"#fdca26\"],[1.0,\"#f0f921\"]]},\"colorway\":[\"#636efa\",\"#EF553B\",\"#00cc96\",\"#ab63fa\",\"#FFA15A\",\"#19d3f3\",\"#FF6692\",\"#B6E880\",\"#FF97FF\",\"#FECB52\"],\"font\":{\"color\":\"#2a3f5f\"},\"geo\":{\"bgcolor\":\"white\",\"lakecolor\":\"white\",\"landcolor\":\"white\",\"showlakes\":true,\"showland\":true,\"subunitcolor\":\"#C8D4E3\"},\"hoverlabel\":{\"align\":\"left\"},\"hovermode\":\"closest\",\"mapbox\":{\"style\":\"light\"},\"paper_bgcolor\":\"white\",\"plot_bgcolor\":\"white\",\"polar\":{\"angularaxis\":{\"gridcolor\":\"#EBF0F8\",\"linecolor\":\"#EBF0F8\",\"ticks\":\"\"},\"bgcolor\":\"white\",\"radialaxis\":{\"gridcolor\":\"#EBF0F8\",\"linecolor\":\"#EBF0F8\",\"ticks\":\"\"}},\"scene\":{\"xaxis\":{\"backgroundcolor\":\"white\",\"gridcolor\":\"#DFE8F3\",\"gridwidth\":2,\"linecolor\":\"#EBF0F8\",\"showbackground\":true,\"ticks\":\"\",\"zerolinecolor\":\"#EBF0F8\"},\"yaxis\":{\"backgroundcolor\":\"white\",\"gridcolor\":\"#DFE8F3\",\"gridwidth\":2,\"linecolor\":\"#EBF0F8\",\"showbackground\":true,\"ticks\":\"\",\"zerolinecolor\":\"#EBF0F8\"},\"zaxis\":{\"backgroundcolor\":\"white\",\"gridcolor\":\"#DFE8F3\",\"gridwidth\":2,\"linecolor\":\"#EBF0F8\",\"showbackground\":true,\"ticks\":\"\",\"zerolinecolor\":\"#EBF0F8\"}},\"shapedefaults\":{\"line\":{\"color\":\"#2a3f5f\"}},\"ternary\":{\"aaxis\":{\"gridcolor\":\"#DFE8F3\",\"linecolor\":\"#A2B1C6\",\"ticks\":\"\"},\"baxis\":{\"gridcolor\":\"#DFE8F3\",\"linecolor\":\"#A2B1C6\",\"ticks\":\"\"},\"bgcolor\":\"white\",\"caxis\":{\"gridcolor\":\"#DFE8F3\",\"linecolor\":\"#A2B1C6\",\"ticks\":\"\"}},\"title\":{\"x\":0.05},\"xaxis\":{\"automargin\":true,\"gridcolor\":\"#EBF0F8\",\"linecolor\":\"#EBF0F8\",\"ticks\":\"\",\"title\":{\"standoff\":15},\"zerolinecolor\":\"#EBF0F8\",\"zerolinewidth\":2},\"yaxis\":{\"automargin\":true,\"gridcolor\":\"#EBF0F8\",\"linecolor\":\"#EBF0F8\",\"ticks\":\"\",\"title\":{\"standoff\":15},\"zerolinecolor\":\"#EBF0F8\",\"zerolinewidth\":2}}},\"xaxis\":{\"anchor\":\"y\",\"domain\":[0.0,0.175],\"showgrid\":true},\"yaxis\":{\"anchor\":\"x\",\"domain\":[0.6000000000000001,1.0],\"showgrid\":true},\"xaxis2\":{\"anchor\":\"y2\",\"domain\":[0.275,0.45],\"showgrid\":true},\"yaxis2\":{\"anchor\":\"x2\",\"domain\":[0.6000000000000001,1.0],\"showgrid\":true},\"xaxis3\":{\"anchor\":\"y3\",\"domain\":[0.55,0.7250000000000001],\"showgrid\":true},\"yaxis3\":{\"anchor\":\"x3\",\"domain\":[0.6000000000000001,1.0],\"showgrid\":true},\"xaxis4\":{\"anchor\":\"y4\",\"domain\":[0.825,1.0],\"showgrid\":true},\"yaxis4\":{\"anchor\":\"x4\",\"domain\":[0.6000000000000001,1.0],\"showgrid\":true},\"xaxis5\":{\"anchor\":\"y5\",\"domain\":[0.0,0.175],\"showgrid\":true},\"yaxis5\":{\"anchor\":\"x5\",\"domain\":[0.0,0.4],\"showgrid\":true},\"xaxis6\":{\"anchor\":\"y6\",\"domain\":[0.275,0.45],\"showgrid\":true},\"yaxis6\":{\"anchor\":\"x6\",\"domain\":[0.0,0.4],\"showgrid\":true},\"xaxis7\":{\"anchor\":\"y7\",\"domain\":[0.55,0.7250000000000001],\"showgrid\":true},\"yaxis7\":{\"anchor\":\"x7\",\"domain\":[0.0,0.4],\"showgrid\":true},\"xaxis8\":{\"anchor\":\"y8\",\"domain\":[0.825,1.0],\"showgrid\":true},\"yaxis8\":{\"anchor\":\"x8\",\"domain\":[0.0,0.4],\"showgrid\":true},\"annotations\":[{\"font\":{\"size\":16},\"showarrow\":false,\"text\":\"Topic 0\",\"x\":0.0875,\"xanchor\":\"center\",\"xref\":\"paper\",\"y\":1.0,\"yanchor\":\"bottom\",\"yref\":\"paper\"},{\"font\":{\"size\":16},\"showarrow\":false,\"text\":\"Topic 1\",\"x\":0.36250000000000004,\"xanchor\":\"center\",\"xref\":\"paper\",\"y\":1.0,\"yanchor\":\"bottom\",\"yref\":\"paper\"},{\"font\":{\"size\":16},\"showarrow\":false,\"text\":\"Topic 2\",\"x\":0.6375000000000001,\"xanchor\":\"center\",\"xref\":\"paper\",\"y\":1.0,\"yanchor\":\"bottom\",\"yref\":\"paper\"},{\"font\":{\"size\":16},\"showarrow\":false,\"text\":\"Topic 3\",\"x\":0.9125,\"xanchor\":\"center\",\"xref\":\"paper\",\"y\":1.0,\"yanchor\":\"bottom\",\"yref\":\"paper\"},{\"font\":{\"size\":16},\"showarrow\":false,\"text\":\"Topic 4\",\"x\":0.0875,\"xanchor\":\"center\",\"xref\":\"paper\",\"y\":0.4,\"yanchor\":\"bottom\",\"yref\":\"paper\"},{\"font\":{\"size\":16},\"showarrow\":false,\"text\":\"Topic 5\",\"x\":0.36250000000000004,\"xanchor\":\"center\",\"xref\":\"paper\",\"y\":0.4,\"yanchor\":\"bottom\",\"yref\":\"paper\"},{\"font\":{\"size\":16},\"showarrow\":false,\"text\":\"Topic 6\",\"x\":0.6375000000000001,\"xanchor\":\"center\",\"xref\":\"paper\",\"y\":0.4,\"yanchor\":\"bottom\",\"yref\":\"paper\"},{\"font\":{\"size\":16},\"showarrow\":false,\"text\":\"Topic 7\",\"x\":0.9125,\"xanchor\":\"center\",\"xref\":\"paper\",\"y\":0.4,\"yanchor\":\"bottom\",\"yref\":\"paper\"}],\"title\":{\"font\":{\"size\":22,\"color\":\"Black\"},\"text\":\"Topic Word Scores\",\"x\":0.5,\"xanchor\":\"center\",\"yanchor\":\"top\"},\"hoverlabel\":{\"font\":{\"size\":16,\"family\":\"Rockwell\"},\"bgcolor\":\"white\"},\"showlegend\":false,\"width\":1000,\"height\":500},                        {\"responsive\": true}                    ).then(function(){\n",
              "                            \n",
              "var gd = document.getElementById('ba1b2862-b7ab-4054-88df-dbfd33aa9761');\n",
              "var x = new MutationObserver(function (mutations, observer) {{\n",
              "        var display = window.getComputedStyle(gd).display;\n",
              "        if (!display || display === 'none') {{\n",
              "            console.log([gd, 'removed!']);\n",
              "            Plotly.purge(gd);\n",
              "            observer.disconnect();\n",
              "        }}\n",
              "}});\n",
              "\n",
              "// Listen for the removal of the full notebook cells\n",
              "var notebookContainer = gd.closest('#notebook-container');\n",
              "if (notebookContainer) {{\n",
              "    x.observe(notebookContainer, {childList: true});\n",
              "}}\n",
              "\n",
              "// Listen for the clearing of the current output cell\n",
              "var outputEl = gd.closest('.output');\n",
              "if (outputEl) {{\n",
              "    x.observe(outputEl, {childList: true});\n",
              "}}\n",
              "\n",
              "                        })                };                            </script>        </div>\n",
              "</body>\n",
              "</html>"
            ]
          },
          "metadata": {}
        }
      ]
    },
    {
      "cell_type": "code",
      "source": [
        "topic_model.visualize_barchart(n_words = 15)"
      ],
      "metadata": {
        "colab": {
          "base_uri": "https://localhost:8080/",
          "height": 517
        },
        "id": "OZ2Qc4nlppNJ",
        "outputId": "1ae96f20-108f-4db3-d889-d662f88a5707"
      },
      "execution_count": null,
      "outputs": [
        {
          "output_type": "display_data",
          "data": {
            "text/html": [
              "<html>\n",
              "<head><meta charset=\"utf-8\" /></head>\n",
              "<body>\n",
              "    <div>            <script src=\"https://cdnjs.cloudflare.com/ajax/libs/mathjax/2.7.5/MathJax.js?config=TeX-AMS-MML_SVG\"></script><script type=\"text/javascript\">if (window.MathJax && window.MathJax.Hub && window.MathJax.Hub.Config) {window.MathJax.Hub.Config({SVG: {font: \"STIX-Web\"}});}</script>                <script type=\"text/javascript\">window.PlotlyConfig = {MathJaxConfig: 'local'};</script>\n",
              "        <script charset=\"utf-8\" src=\"https://cdn.plot.ly/plotly-2.35.2.min.js\"></script>                <div id=\"66521218-49b3-448d-bb55-fc56309a8647\" class=\"plotly-graph-div\" style=\"height:500px; width:1000px;\"></div>            <script type=\"text/javascript\">                                    window.PLOTLYENV=window.PLOTLYENV || {};                                    if (document.getElementById(\"66521218-49b3-448d-bb55-fc56309a8647\")) {                    Plotly.newPlot(                        \"66521218-49b3-448d-bb55-fc56309a8647\",                        [{\"marker\":{\"color\":\"#D55E00\"},\"orientation\":\"h\",\"x\":[0.02201772033938353,0.022167482388401574,0.02225994846702379,0.0234061873431554,0.025175293029433284,0.029305878344058657,0.030364366001440428,0.03157364046871164,0.03413227240768096,0.0364374791021695],\"y\":[\"not  \",\"in  \",\"it  \",\"and  \",\"god  \",\"is  \",\"to  \",\"that  \",\"the  \",\"of  \"],\"type\":\"bar\",\"xaxis\":\"x\",\"yaxis\":\"y\"},{\"marker\":{\"color\":\"#0072B2\"},\"orientation\":\"h\",\"x\":[0.01692776915608254,0.018561633058277804,0.019237249802626987,0.0201110105363545,0.02034147555546256,0.020545284595421084,0.021060926594912797,0.021786548878255537,0.023274320699319173,0.03334184630231129],\"y\":[\"play  \",\"of  \",\"hockey  \",\"and  \",\"in  \",\"season  \",\"to  \",\"team  \",\"he  \",\"the  \"],\"type\":\"bar\",\"xaxis\":\"x2\",\"yaxis\":\"y2\"},{\"marker\":{\"color\":\"#CC79A7\"},\"orientation\":\"h\",\"x\":[0.020141192433804446,0.02075017928551767,0.02104682060411512,0.025318396892246794,0.025372361258364142,0.02585930661558895,0.026725328139307013,0.027085702663953486,0.02777518729316483,0.033142807600448736],\"y\":[\"is  \",\"of  \",\"for  \",\"it  \",\"bike  \",\"and  \",\"you  \",\"car  \",\"to  \",\"the  \"],\"type\":\"bar\",\"xaxis\":\"x3\",\"yaxis\":\"y3\"},{\"marker\":{\"color\":\"#E69F00\"},\"orientation\":\"h\",\"x\":[0.01932104468672782,0.01957043864894946,0.022677689808625865,0.02503998525003859,0.025828636900481663,0.026243659867837298,0.02787342980932863,0.028253017882040373,0.028694378619465125,0.029487767760423847],\"y\":[\"my  \",\"have  \",\"that  \",\"and  \",\"in  \",\"is  \",\"of  \",\"the  \",\"to  \",\"it  \"],\"type\":\"bar\",\"xaxis\":\"x4\",\"yaxis\":\"y4\"},{\"marker\":{\"color\":\"#56B4E9\"},\"orientation\":\"h\",\"x\":[0.01745333016636341,0.01791460690726678,0.017966387639211878,0.01806979770030926,0.021334788721534107,0.021797850788697535,0.0226006871713138,0.022668931410974424,0.03050850194411075,0.032760044322575094],\"y\":[\"10  \",\"in  \",\"shipping  \",\"it  \",\"to  \",\"and  \",\"the  \",\"you  \",\"for  \",\"00  \"],\"type\":\"bar\",\"xaxis\":\"x5\",\"yaxis\":\"y5\"},{\"marker\":{\"color\":\"#009E73\"},\"orientation\":\"h\",\"x\":[0.019195479255108405,0.020289353469497808,0.021407044786425567,0.023303312339518677,0.02462853216512571,0.02630666772793914,0.02653056181282337,0.026929555625562263,0.029997896970047896,0.03570780484374444],\"y\":[\"are  \",\"that  \",\"in  \",\"be  \",\"key  \",\"of  \",\"is  \",\"and  \",\"to  \",\"the  \"],\"type\":\"bar\",\"xaxis\":\"x6\",\"yaxis\":\"y6\"},{\"marker\":{\"color\":\"#F0E442\"},\"orientation\":\"h\",\"x\":[0.017160440309443987,0.017312860997394975,0.017494414619619657,0.018228101440853208,0.01966459876998458,0.0238939320782644,0.024524478991853886,0.024811443362910194,0.03321902700512925,0.03333282751016451],\"y\":[\"for  \",\"on  \",\"be  \",\"is  \",\"in  \",\"of  \",\"to  \",\"and  \",\"space  \",\"the  \"],\"type\":\"bar\",\"xaxis\":\"x7\",\"yaxis\":\"y7\"},{\"marker\":{\"color\":\"#D55E00\"},\"orientation\":\"h\",\"x\":[0.02046438043707531,0.020635655018928067,0.020961333706059765,0.021460384368530105,0.02170526552741029,0.022031918168939943,0.022994992233577698,0.025255515869305443,0.03450871278705245,0.03726965819376823],\"y\":[\"is  \",\"with  \",\"to  \",\"on  \",\"and  \",\"have  \",\"drivers  \",\"video  \",\"the  \",\"card  \"],\"type\":\"bar\",\"xaxis\":\"x8\",\"yaxis\":\"y8\"}],                        {\"template\":{\"data\":{\"barpolar\":[{\"marker\":{\"line\":{\"color\":\"white\",\"width\":0.5},\"pattern\":{\"fillmode\":\"overlay\",\"size\":10,\"solidity\":0.2}},\"type\":\"barpolar\"}],\"bar\":[{\"error_x\":{\"color\":\"#2a3f5f\"},\"error_y\":{\"color\":\"#2a3f5f\"},\"marker\":{\"line\":{\"color\":\"white\",\"width\":0.5},\"pattern\":{\"fillmode\":\"overlay\",\"size\":10,\"solidity\":0.2}},\"type\":\"bar\"}],\"carpet\":[{\"aaxis\":{\"endlinecolor\":\"#2a3f5f\",\"gridcolor\":\"#C8D4E3\",\"linecolor\":\"#C8D4E3\",\"minorgridcolor\":\"#C8D4E3\",\"startlinecolor\":\"#2a3f5f\"},\"baxis\":{\"endlinecolor\":\"#2a3f5f\",\"gridcolor\":\"#C8D4E3\",\"linecolor\":\"#C8D4E3\",\"minorgridcolor\":\"#C8D4E3\",\"startlinecolor\":\"#2a3f5f\"},\"type\":\"carpet\"}],\"choropleth\":[{\"colorbar\":{\"outlinewidth\":0,\"ticks\":\"\"},\"type\":\"choropleth\"}],\"contourcarpet\":[{\"colorbar\":{\"outlinewidth\":0,\"ticks\":\"\"},\"type\":\"contourcarpet\"}],\"contour\":[{\"colorbar\":{\"outlinewidth\":0,\"ticks\":\"\"},\"colorscale\":[[0.0,\"#0d0887\"],[0.1111111111111111,\"#46039f\"],[0.2222222222222222,\"#7201a8\"],[0.3333333333333333,\"#9c179e\"],[0.4444444444444444,\"#bd3786\"],[0.5555555555555556,\"#d8576b\"],[0.6666666666666666,\"#ed7953\"],[0.7777777777777778,\"#fb9f3a\"],[0.8888888888888888,\"#fdca26\"],[1.0,\"#f0f921\"]],\"type\":\"contour\"}],\"heatmapgl\":[{\"colorbar\":{\"outlinewidth\":0,\"ticks\":\"\"},\"colorscale\":[[0.0,\"#0d0887\"],[0.1111111111111111,\"#46039f\"],[0.2222222222222222,\"#7201a8\"],[0.3333333333333333,\"#9c179e\"],[0.4444444444444444,\"#bd3786\"],[0.5555555555555556,\"#d8576b\"],[0.6666666666666666,\"#ed7953\"],[0.7777777777777778,\"#fb9f3a\"],[0.8888888888888888,\"#fdca26\"],[1.0,\"#f0f921\"]],\"type\":\"heatmapgl\"}],\"heatmap\":[{\"colorbar\":{\"outlinewidth\":0,\"ticks\":\"\"},\"colorscale\":[[0.0,\"#0d0887\"],[0.1111111111111111,\"#46039f\"],[0.2222222222222222,\"#7201a8\"],[0.3333333333333333,\"#9c179e\"],[0.4444444444444444,\"#bd3786\"],[0.5555555555555556,\"#d8576b\"],[0.6666666666666666,\"#ed7953\"],[0.7777777777777778,\"#fb9f3a\"],[0.8888888888888888,\"#fdca26\"],[1.0,\"#f0f921\"]],\"type\":\"heatmap\"}],\"histogram2dcontour\":[{\"colorbar\":{\"outlinewidth\":0,\"ticks\":\"\"},\"colorscale\":[[0.0,\"#0d0887\"],[0.1111111111111111,\"#46039f\"],[0.2222222222222222,\"#7201a8\"],[0.3333333333333333,\"#9c179e\"],[0.4444444444444444,\"#bd3786\"],[0.5555555555555556,\"#d8576b\"],[0.6666666666666666,\"#ed7953\"],[0.7777777777777778,\"#fb9f3a\"],[0.8888888888888888,\"#fdca26\"],[1.0,\"#f0f921\"]],\"type\":\"histogram2dcontour\"}],\"histogram2d\":[{\"colorbar\":{\"outlinewidth\":0,\"ticks\":\"\"},\"colorscale\":[[0.0,\"#0d0887\"],[0.1111111111111111,\"#46039f\"],[0.2222222222222222,\"#7201a8\"],[0.3333333333333333,\"#9c179e\"],[0.4444444444444444,\"#bd3786\"],[0.5555555555555556,\"#d8576b\"],[0.6666666666666666,\"#ed7953\"],[0.7777777777777778,\"#fb9f3a\"],[0.8888888888888888,\"#fdca26\"],[1.0,\"#f0f921\"]],\"type\":\"histogram2d\"}],\"histogram\":[{\"marker\":{\"pattern\":{\"fillmode\":\"overlay\",\"size\":10,\"solidity\":0.2}},\"type\":\"histogram\"}],\"mesh3d\":[{\"colorbar\":{\"outlinewidth\":0,\"ticks\":\"\"},\"type\":\"mesh3d\"}],\"parcoords\":[{\"line\":{\"colorbar\":{\"outlinewidth\":0,\"ticks\":\"\"}},\"type\":\"parcoords\"}],\"pie\":[{\"automargin\":true,\"type\":\"pie\"}],\"scatter3d\":[{\"line\":{\"colorbar\":{\"outlinewidth\":0,\"ticks\":\"\"}},\"marker\":{\"colorbar\":{\"outlinewidth\":0,\"ticks\":\"\"}},\"type\":\"scatter3d\"}],\"scattercarpet\":[{\"marker\":{\"colorbar\":{\"outlinewidth\":0,\"ticks\":\"\"}},\"type\":\"scattercarpet\"}],\"scattergeo\":[{\"marker\":{\"colorbar\":{\"outlinewidth\":0,\"ticks\":\"\"}},\"type\":\"scattergeo\"}],\"scattergl\":[{\"marker\":{\"colorbar\":{\"outlinewidth\":0,\"ticks\":\"\"}},\"type\":\"scattergl\"}],\"scattermapbox\":[{\"marker\":{\"colorbar\":{\"outlinewidth\":0,\"ticks\":\"\"}},\"type\":\"scattermapbox\"}],\"scatterpolargl\":[{\"marker\":{\"colorbar\":{\"outlinewidth\":0,\"ticks\":\"\"}},\"type\":\"scatterpolargl\"}],\"scatterpolar\":[{\"marker\":{\"colorbar\":{\"outlinewidth\":0,\"ticks\":\"\"}},\"type\":\"scatterpolar\"}],\"scatter\":[{\"fillpattern\":{\"fillmode\":\"overlay\",\"size\":10,\"solidity\":0.2},\"type\":\"scatter\"}],\"scatterternary\":[{\"marker\":{\"colorbar\":{\"outlinewidth\":0,\"ticks\":\"\"}},\"type\":\"scatterternary\"}],\"surface\":[{\"colorbar\":{\"outlinewidth\":0,\"ticks\":\"\"},\"colorscale\":[[0.0,\"#0d0887\"],[0.1111111111111111,\"#46039f\"],[0.2222222222222222,\"#7201a8\"],[0.3333333333333333,\"#9c179e\"],[0.4444444444444444,\"#bd3786\"],[0.5555555555555556,\"#d8576b\"],[0.6666666666666666,\"#ed7953\"],[0.7777777777777778,\"#fb9f3a\"],[0.8888888888888888,\"#fdca26\"],[1.0,\"#f0f921\"]],\"type\":\"surface\"}],\"table\":[{\"cells\":{\"fill\":{\"color\":\"#EBF0F8\"},\"line\":{\"color\":\"white\"}},\"header\":{\"fill\":{\"color\":\"#C8D4E3\"},\"line\":{\"color\":\"white\"}},\"type\":\"table\"}]},\"layout\":{\"annotationdefaults\":{\"arrowcolor\":\"#2a3f5f\",\"arrowhead\":0,\"arrowwidth\":1},\"autotypenumbers\":\"strict\",\"coloraxis\":{\"colorbar\":{\"outlinewidth\":0,\"ticks\":\"\"}},\"colorscale\":{\"diverging\":[[0,\"#8e0152\"],[0.1,\"#c51b7d\"],[0.2,\"#de77ae\"],[0.3,\"#f1b6da\"],[0.4,\"#fde0ef\"],[0.5,\"#f7f7f7\"],[0.6,\"#e6f5d0\"],[0.7,\"#b8e186\"],[0.8,\"#7fbc41\"],[0.9,\"#4d9221\"],[1,\"#276419\"]],\"sequential\":[[0.0,\"#0d0887\"],[0.1111111111111111,\"#46039f\"],[0.2222222222222222,\"#7201a8\"],[0.3333333333333333,\"#9c179e\"],[0.4444444444444444,\"#bd3786\"],[0.5555555555555556,\"#d8576b\"],[0.6666666666666666,\"#ed7953\"],[0.7777777777777778,\"#fb9f3a\"],[0.8888888888888888,\"#fdca26\"],[1.0,\"#f0f921\"]],\"sequentialminus\":[[0.0,\"#0d0887\"],[0.1111111111111111,\"#46039f\"],[0.2222222222222222,\"#7201a8\"],[0.3333333333333333,\"#9c179e\"],[0.4444444444444444,\"#bd3786\"],[0.5555555555555556,\"#d8576b\"],[0.6666666666666666,\"#ed7953\"],[0.7777777777777778,\"#fb9f3a\"],[0.8888888888888888,\"#fdca26\"],[1.0,\"#f0f921\"]]},\"colorway\":[\"#636efa\",\"#EF553B\",\"#00cc96\",\"#ab63fa\",\"#FFA15A\",\"#19d3f3\",\"#FF6692\",\"#B6E880\",\"#FF97FF\",\"#FECB52\"],\"font\":{\"color\":\"#2a3f5f\"},\"geo\":{\"bgcolor\":\"white\",\"lakecolor\":\"white\",\"landcolor\":\"white\",\"showlakes\":true,\"showland\":true,\"subunitcolor\":\"#C8D4E3\"},\"hoverlabel\":{\"align\":\"left\"},\"hovermode\":\"closest\",\"mapbox\":{\"style\":\"light\"},\"paper_bgcolor\":\"white\",\"plot_bgcolor\":\"white\",\"polar\":{\"angularaxis\":{\"gridcolor\":\"#EBF0F8\",\"linecolor\":\"#EBF0F8\",\"ticks\":\"\"},\"bgcolor\":\"white\",\"radialaxis\":{\"gridcolor\":\"#EBF0F8\",\"linecolor\":\"#EBF0F8\",\"ticks\":\"\"}},\"scene\":{\"xaxis\":{\"backgroundcolor\":\"white\",\"gridcolor\":\"#DFE8F3\",\"gridwidth\":2,\"linecolor\":\"#EBF0F8\",\"showbackground\":true,\"ticks\":\"\",\"zerolinecolor\":\"#EBF0F8\"},\"yaxis\":{\"backgroundcolor\":\"white\",\"gridcolor\":\"#DFE8F3\",\"gridwidth\":2,\"linecolor\":\"#EBF0F8\",\"showbackground\":true,\"ticks\":\"\",\"zerolinecolor\":\"#EBF0F8\"},\"zaxis\":{\"backgroundcolor\":\"white\",\"gridcolor\":\"#DFE8F3\",\"gridwidth\":2,\"linecolor\":\"#EBF0F8\",\"showbackground\":true,\"ticks\":\"\",\"zerolinecolor\":\"#EBF0F8\"}},\"shapedefaults\":{\"line\":{\"color\":\"#2a3f5f\"}},\"ternary\":{\"aaxis\":{\"gridcolor\":\"#DFE8F3\",\"linecolor\":\"#A2B1C6\",\"ticks\":\"\"},\"baxis\":{\"gridcolor\":\"#DFE8F3\",\"linecolor\":\"#A2B1C6\",\"ticks\":\"\"},\"bgcolor\":\"white\",\"caxis\":{\"gridcolor\":\"#DFE8F3\",\"linecolor\":\"#A2B1C6\",\"ticks\":\"\"}},\"title\":{\"x\":0.05},\"xaxis\":{\"automargin\":true,\"gridcolor\":\"#EBF0F8\",\"linecolor\":\"#EBF0F8\",\"ticks\":\"\",\"title\":{\"standoff\":15},\"zerolinecolor\":\"#EBF0F8\",\"zerolinewidth\":2},\"yaxis\":{\"automargin\":true,\"gridcolor\":\"#EBF0F8\",\"linecolor\":\"#EBF0F8\",\"ticks\":\"\",\"title\":{\"standoff\":15},\"zerolinecolor\":\"#EBF0F8\",\"zerolinewidth\":2}}},\"xaxis\":{\"anchor\":\"y\",\"domain\":[0.0,0.175],\"showgrid\":true},\"yaxis\":{\"anchor\":\"x\",\"domain\":[0.6000000000000001,1.0],\"showgrid\":true},\"xaxis2\":{\"anchor\":\"y2\",\"domain\":[0.275,0.45],\"showgrid\":true},\"yaxis2\":{\"anchor\":\"x2\",\"domain\":[0.6000000000000001,1.0],\"showgrid\":true},\"xaxis3\":{\"anchor\":\"y3\",\"domain\":[0.55,0.7250000000000001],\"showgrid\":true},\"yaxis3\":{\"anchor\":\"x3\",\"domain\":[0.6000000000000001,1.0],\"showgrid\":true},\"xaxis4\":{\"anchor\":\"y4\",\"domain\":[0.825,1.0],\"showgrid\":true},\"yaxis4\":{\"anchor\":\"x4\",\"domain\":[0.6000000000000001,1.0],\"showgrid\":true},\"xaxis5\":{\"anchor\":\"y5\",\"domain\":[0.0,0.175],\"showgrid\":true},\"yaxis5\":{\"anchor\":\"x5\",\"domain\":[0.0,0.4],\"showgrid\":true},\"xaxis6\":{\"anchor\":\"y6\",\"domain\":[0.275,0.45],\"showgrid\":true},\"yaxis6\":{\"anchor\":\"x6\",\"domain\":[0.0,0.4],\"showgrid\":true},\"xaxis7\":{\"anchor\":\"y7\",\"domain\":[0.55,0.7250000000000001],\"showgrid\":true},\"yaxis7\":{\"anchor\":\"x7\",\"domain\":[0.0,0.4],\"showgrid\":true},\"xaxis8\":{\"anchor\":\"y8\",\"domain\":[0.825,1.0],\"showgrid\":true},\"yaxis8\":{\"anchor\":\"x8\",\"domain\":[0.0,0.4],\"showgrid\":true},\"annotations\":[{\"font\":{\"size\":16},\"showarrow\":false,\"text\":\"Topic 0\",\"x\":0.0875,\"xanchor\":\"center\",\"xref\":\"paper\",\"y\":1.0,\"yanchor\":\"bottom\",\"yref\":\"paper\"},{\"font\":{\"size\":16},\"showarrow\":false,\"text\":\"Topic 1\",\"x\":0.36250000000000004,\"xanchor\":\"center\",\"xref\":\"paper\",\"y\":1.0,\"yanchor\":\"bottom\",\"yref\":\"paper\"},{\"font\":{\"size\":16},\"showarrow\":false,\"text\":\"Topic 2\",\"x\":0.6375000000000001,\"xanchor\":\"center\",\"xref\":\"paper\",\"y\":1.0,\"yanchor\":\"bottom\",\"yref\":\"paper\"},{\"font\":{\"size\":16},\"showarrow\":false,\"text\":\"Topic 3\",\"x\":0.9125,\"xanchor\":\"center\",\"xref\":\"paper\",\"y\":1.0,\"yanchor\":\"bottom\",\"yref\":\"paper\"},{\"font\":{\"size\":16},\"showarrow\":false,\"text\":\"Topic 4\",\"x\":0.0875,\"xanchor\":\"center\",\"xref\":\"paper\",\"y\":0.4,\"yanchor\":\"bottom\",\"yref\":\"paper\"},{\"font\":{\"size\":16},\"showarrow\":false,\"text\":\"Topic 5\",\"x\":0.36250000000000004,\"xanchor\":\"center\",\"xref\":\"paper\",\"y\":0.4,\"yanchor\":\"bottom\",\"yref\":\"paper\"},{\"font\":{\"size\":16},\"showarrow\":false,\"text\":\"Topic 6\",\"x\":0.6375000000000001,\"xanchor\":\"center\",\"xref\":\"paper\",\"y\":0.4,\"yanchor\":\"bottom\",\"yref\":\"paper\"},{\"font\":{\"size\":16},\"showarrow\":false,\"text\":\"Topic 7\",\"x\":0.9125,\"xanchor\":\"center\",\"xref\":\"paper\",\"y\":0.4,\"yanchor\":\"bottom\",\"yref\":\"paper\"}],\"title\":{\"font\":{\"size\":22,\"color\":\"Black\"},\"text\":\"Topic Word Scores\",\"x\":0.5,\"xanchor\":\"center\",\"yanchor\":\"top\"},\"hoverlabel\":{\"font\":{\"size\":16,\"family\":\"Rockwell\"},\"bgcolor\":\"white\"},\"showlegend\":false,\"width\":1000,\"height\":500},                        {\"responsive\": true}                    ).then(function(){\n",
              "                            \n",
              "var gd = document.getElementById('66521218-49b3-448d-bb55-fc56309a8647');\n",
              "var x = new MutationObserver(function (mutations, observer) {{\n",
              "        var display = window.getComputedStyle(gd).display;\n",
              "        if (!display || display === 'none') {{\n",
              "            console.log([gd, 'removed!']);\n",
              "            Plotly.purge(gd);\n",
              "            observer.disconnect();\n",
              "        }}\n",
              "}});\n",
              "\n",
              "// Listen for the removal of the full notebook cells\n",
              "var notebookContainer = gd.closest('#notebook-container');\n",
              "if (notebookContainer) {{\n",
              "    x.observe(notebookContainer, {childList: true});\n",
              "}}\n",
              "\n",
              "// Listen for the clearing of the current output cell\n",
              "var outputEl = gd.closest('.output');\n",
              "if (outputEl) {{\n",
              "    x.observe(outputEl, {childList: true});\n",
              "}}\n",
              "\n",
              "                        })                };                            </script>        </div>\n",
              "</body>\n",
              "</html>"
            ]
          },
          "metadata": {}
        }
      ]
    },
    {
      "cell_type": "code",
      "source": [
        "from bertopic import BERTopic\n",
        "from sentence_transformers import SentenceTransformer\n",
        "from sklearn.cluster import DBSCAN\n",
        "\n",
        "# Create a Sentence-Transformer embedding model\n",
        "embedding_model = SentenceTransformer(\"all-MiniLM-L6-v2\")\n",
        "\n",
        "# Create a DBSCAN instance to be used as the clustering algorithm instead of HDBSCAN\n",
        "dbscan_model = DBSCAN(eps=0.5, min_samples=5, metric=\"cosine\")\n",
        "\n",
        "# Initialize the custom BERTopic model by passing the embedding model and DBSCAN instance\n",
        "custom_topic_model = BERTopic(\n",
        "    embedding_model=embedding_model,\n",
        "    hdbscan_model=dbscan_model,  # Using DBSCAN in place of the default HDBSCAN\n",
        "    verbose=True\n",
        ")\n",
        "\n",
        "# Fit the custom model on your sampled documents\n",
        "custom_topics, custom_probs = custom_topic_model.fit_transform(docs_sample)\n",
        "\n",
        "# Print basic topic info for the custom model\n",
        "print(\"Custom Topic Information:\")\n",
        "print(custom_topic_model.get_topic_info())"
      ],
      "metadata": {
        "colab": {
          "base_uri": "https://localhost:8080/",
          "height": 359,
          "referenced_widgets": [
            "731b5b2b23a94cc88ecff224ee65201f",
            "552e563aa5eb4dfd9c211fec8a56026b",
            "a42c73f5129c4679a647e12957af7226",
            "b3f81f09e8204dfaa144a292910ea757",
            "305e9dc3f1fc4f5b8e4b4503a0d6f1aa",
            "8502cda3eac84ceea770fd97d855cae1",
            "8b76650f312e45e7be7a3c6918235990",
            "7615aa88afc3416a93ad32b0a7ea6200",
            "8677d58aa35548cbb0d20f3bb3d3f2e7",
            "6abd2dfa30b54de08a0410a791b2a04c",
            "3428946f6062416c81f0a4e4b7e39230"
          ]
        },
        "id": "5tA50oEdnWqW",
        "outputId": "cff70570-1c93-4a4e-f29e-6c1f655d5179"
      },
      "execution_count": null,
      "outputs": [
        {
          "output_type": "stream",
          "name": "stderr",
          "text": [
            "2025-04-07 23:50:28,297 - BERTopic - Embedding - Transforming documents to embeddings.\n"
          ]
        },
        {
          "output_type": "display_data",
          "data": {
            "text/plain": [
              "Batches:   0%|          | 0/63 [00:00<?, ?it/s]"
            ],
            "application/vnd.jupyter.widget-view+json": {
              "version_major": 2,
              "version_minor": 0,
              "model_id": "731b5b2b23a94cc88ecff224ee65201f"
            }
          },
          "metadata": {}
        },
        {
          "output_type": "stream",
          "name": "stderr",
          "text": [
            "2025-04-07 23:50:32,961 - BERTopic - Embedding - Completed ✓\n",
            "2025-04-07 23:50:32,961 - BERTopic - Dimensionality - Fitting the dimensionality reduction algorithm\n",
            "2025-04-07 23:50:40,220 - BERTopic - Dimensionality - Completed ✓\n",
            "2025-04-07 23:50:40,221 - BERTopic - Cluster - Start clustering the reduced embeddings\n",
            "2025-04-07 23:50:40,361 - BERTopic - Cluster - Completed ✓\n",
            "2025-04-07 23:50:40,365 - BERTopic - Representation - Fine-tuning topics using representation models.\n",
            "2025-04-07 23:50:40,985 - BERTopic - Representation - Completed ✓\n"
          ]
        },
        {
          "output_type": "stream",
          "name": "stdout",
          "text": [
            "Custom Topic Information:\n",
            "   Topic  Count             Name  \\\n",
            "0      0   2000  0_the_to_of_and   \n",
            "\n",
            "                                  Representation  \\\n",
            "0  [the, to, of, and, in, is, that, ax, it, for]   \n",
            "\n",
            "                                 Representative_Docs  \n",
            "0  [Archive-name: atheism/introduction\\nAlt-athei...  \n"
          ]
        }
      ]
    },
    {
      "cell_type": "code",
      "source": [
        "custom_topic_model.visualize_barchart(n_words = 15)"
      ],
      "metadata": {
        "colab": {
          "base_uri": "https://localhost:8080/",
          "height": 342
        },
        "id": "Q0BI83QoqgSR",
        "outputId": "d6a3e1a8-b2e1-4285-eb4c-d46010ac51f5"
      },
      "execution_count": null,
      "outputs": [
        {
          "output_type": "display_data",
          "data": {
            "text/html": [
              "<html>\n",
              "<head><meta charset=\"utf-8\" /></head>\n",
              "<body>\n",
              "    <div>            <script src=\"https://cdnjs.cloudflare.com/ajax/libs/mathjax/2.7.5/MathJax.js?config=TeX-AMS-MML_SVG\"></script><script type=\"text/javascript\">if (window.MathJax && window.MathJax.Hub && window.MathJax.Hub.Config) {window.MathJax.Hub.Config({SVG: {font: \"STIX-Web\"}});}</script>                <script type=\"text/javascript\">window.PlotlyConfig = {MathJaxConfig: 'local'};</script>\n",
              "        <script charset=\"utf-8\" src=\"https://cdn.plot.ly/plotly-2.35.2.min.js\"></script>                <div id=\"feb3392b-7ba6-45ef-a42d-8962cfdb1787\" class=\"plotly-graph-div\" style=\"height:325.0px; width:1000px;\"></div>            <script type=\"text/javascript\">                                    window.PLOTLYENV=window.PLOTLYENV || {};                                    if (document.getElementById(\"feb3392b-7ba6-45ef-a42d-8962cfdb1787\")) {                    Plotly.newPlot(                        \"feb3392b-7ba6-45ef-a42d-8962cfdb1787\",                        [{\"marker\":{\"color\":\"#D55E00\"},\"orientation\":\"h\",\"x\":[0.04350477590046548,0.04985192157388576,0.050476109421593945,0.05590683605473773,0.06041703525175486,0.06091569875652189,0.07673701467119899,0.08195659705565957,0.0914057747682165,0.1476473659349283],\"y\":[\"for  \",\"it  \",\"ax  \",\"that  \",\"is  \",\"in  \",\"and  \",\"of  \",\"to  \",\"the  \"],\"type\":\"bar\",\"xaxis\":\"x\",\"yaxis\":\"y\"}],                        {\"template\":{\"data\":{\"barpolar\":[{\"marker\":{\"line\":{\"color\":\"white\",\"width\":0.5},\"pattern\":{\"fillmode\":\"overlay\",\"size\":10,\"solidity\":0.2}},\"type\":\"barpolar\"}],\"bar\":[{\"error_x\":{\"color\":\"#2a3f5f\"},\"error_y\":{\"color\":\"#2a3f5f\"},\"marker\":{\"line\":{\"color\":\"white\",\"width\":0.5},\"pattern\":{\"fillmode\":\"overlay\",\"size\":10,\"solidity\":0.2}},\"type\":\"bar\"}],\"carpet\":[{\"aaxis\":{\"endlinecolor\":\"#2a3f5f\",\"gridcolor\":\"#C8D4E3\",\"linecolor\":\"#C8D4E3\",\"minorgridcolor\":\"#C8D4E3\",\"startlinecolor\":\"#2a3f5f\"},\"baxis\":{\"endlinecolor\":\"#2a3f5f\",\"gridcolor\":\"#C8D4E3\",\"linecolor\":\"#C8D4E3\",\"minorgridcolor\":\"#C8D4E3\",\"startlinecolor\":\"#2a3f5f\"},\"type\":\"carpet\"}],\"choropleth\":[{\"colorbar\":{\"outlinewidth\":0,\"ticks\":\"\"},\"type\":\"choropleth\"}],\"contourcarpet\":[{\"colorbar\":{\"outlinewidth\":0,\"ticks\":\"\"},\"type\":\"contourcarpet\"}],\"contour\":[{\"colorbar\":{\"outlinewidth\":0,\"ticks\":\"\"},\"colorscale\":[[0.0,\"#0d0887\"],[0.1111111111111111,\"#46039f\"],[0.2222222222222222,\"#7201a8\"],[0.3333333333333333,\"#9c179e\"],[0.4444444444444444,\"#bd3786\"],[0.5555555555555556,\"#d8576b\"],[0.6666666666666666,\"#ed7953\"],[0.7777777777777778,\"#fb9f3a\"],[0.8888888888888888,\"#fdca26\"],[1.0,\"#f0f921\"]],\"type\":\"contour\"}],\"heatmapgl\":[{\"colorbar\":{\"outlinewidth\":0,\"ticks\":\"\"},\"colorscale\":[[0.0,\"#0d0887\"],[0.1111111111111111,\"#46039f\"],[0.2222222222222222,\"#7201a8\"],[0.3333333333333333,\"#9c179e\"],[0.4444444444444444,\"#bd3786\"],[0.5555555555555556,\"#d8576b\"],[0.6666666666666666,\"#ed7953\"],[0.7777777777777778,\"#fb9f3a\"],[0.8888888888888888,\"#fdca26\"],[1.0,\"#f0f921\"]],\"type\":\"heatmapgl\"}],\"heatmap\":[{\"colorbar\":{\"outlinewidth\":0,\"ticks\":\"\"},\"colorscale\":[[0.0,\"#0d0887\"],[0.1111111111111111,\"#46039f\"],[0.2222222222222222,\"#7201a8\"],[0.3333333333333333,\"#9c179e\"],[0.4444444444444444,\"#bd3786\"],[0.5555555555555556,\"#d8576b\"],[0.6666666666666666,\"#ed7953\"],[0.7777777777777778,\"#fb9f3a\"],[0.8888888888888888,\"#fdca26\"],[1.0,\"#f0f921\"]],\"type\":\"heatmap\"}],\"histogram2dcontour\":[{\"colorbar\":{\"outlinewidth\":0,\"ticks\":\"\"},\"colorscale\":[[0.0,\"#0d0887\"],[0.1111111111111111,\"#46039f\"],[0.2222222222222222,\"#7201a8\"],[0.3333333333333333,\"#9c179e\"],[0.4444444444444444,\"#bd3786\"],[0.5555555555555556,\"#d8576b\"],[0.6666666666666666,\"#ed7953\"],[0.7777777777777778,\"#fb9f3a\"],[0.8888888888888888,\"#fdca26\"],[1.0,\"#f0f921\"]],\"type\":\"histogram2dcontour\"}],\"histogram2d\":[{\"colorbar\":{\"outlinewidth\":0,\"ticks\":\"\"},\"colorscale\":[[0.0,\"#0d0887\"],[0.1111111111111111,\"#46039f\"],[0.2222222222222222,\"#7201a8\"],[0.3333333333333333,\"#9c179e\"],[0.4444444444444444,\"#bd3786\"],[0.5555555555555556,\"#d8576b\"],[0.6666666666666666,\"#ed7953\"],[0.7777777777777778,\"#fb9f3a\"],[0.8888888888888888,\"#fdca26\"],[1.0,\"#f0f921\"]],\"type\":\"histogram2d\"}],\"histogram\":[{\"marker\":{\"pattern\":{\"fillmode\":\"overlay\",\"size\":10,\"solidity\":0.2}},\"type\":\"histogram\"}],\"mesh3d\":[{\"colorbar\":{\"outlinewidth\":0,\"ticks\":\"\"},\"type\":\"mesh3d\"}],\"parcoords\":[{\"line\":{\"colorbar\":{\"outlinewidth\":0,\"ticks\":\"\"}},\"type\":\"parcoords\"}],\"pie\":[{\"automargin\":true,\"type\":\"pie\"}],\"scatter3d\":[{\"line\":{\"colorbar\":{\"outlinewidth\":0,\"ticks\":\"\"}},\"marker\":{\"colorbar\":{\"outlinewidth\":0,\"ticks\":\"\"}},\"type\":\"scatter3d\"}],\"scattercarpet\":[{\"marker\":{\"colorbar\":{\"outlinewidth\":0,\"ticks\":\"\"}},\"type\":\"scattercarpet\"}],\"scattergeo\":[{\"marker\":{\"colorbar\":{\"outlinewidth\":0,\"ticks\":\"\"}},\"type\":\"scattergeo\"}],\"scattergl\":[{\"marker\":{\"colorbar\":{\"outlinewidth\":0,\"ticks\":\"\"}},\"type\":\"scattergl\"}],\"scattermapbox\":[{\"marker\":{\"colorbar\":{\"outlinewidth\":0,\"ticks\":\"\"}},\"type\":\"scattermapbox\"}],\"scatterpolargl\":[{\"marker\":{\"colorbar\":{\"outlinewidth\":0,\"ticks\":\"\"}},\"type\":\"scatterpolargl\"}],\"scatterpolar\":[{\"marker\":{\"colorbar\":{\"outlinewidth\":0,\"ticks\":\"\"}},\"type\":\"scatterpolar\"}],\"scatter\":[{\"fillpattern\":{\"fillmode\":\"overlay\",\"size\":10,\"solidity\":0.2},\"type\":\"scatter\"}],\"scatterternary\":[{\"marker\":{\"colorbar\":{\"outlinewidth\":0,\"ticks\":\"\"}},\"type\":\"scatterternary\"}],\"surface\":[{\"colorbar\":{\"outlinewidth\":0,\"ticks\":\"\"},\"colorscale\":[[0.0,\"#0d0887\"],[0.1111111111111111,\"#46039f\"],[0.2222222222222222,\"#7201a8\"],[0.3333333333333333,\"#9c179e\"],[0.4444444444444444,\"#bd3786\"],[0.5555555555555556,\"#d8576b\"],[0.6666666666666666,\"#ed7953\"],[0.7777777777777778,\"#fb9f3a\"],[0.8888888888888888,\"#fdca26\"],[1.0,\"#f0f921\"]],\"type\":\"surface\"}],\"table\":[{\"cells\":{\"fill\":{\"color\":\"#EBF0F8\"},\"line\":{\"color\":\"white\"}},\"header\":{\"fill\":{\"color\":\"#C8D4E3\"},\"line\":{\"color\":\"white\"}},\"type\":\"table\"}]},\"layout\":{\"annotationdefaults\":{\"arrowcolor\":\"#2a3f5f\",\"arrowhead\":0,\"arrowwidth\":1},\"autotypenumbers\":\"strict\",\"coloraxis\":{\"colorbar\":{\"outlinewidth\":0,\"ticks\":\"\"}},\"colorscale\":{\"diverging\":[[0,\"#8e0152\"],[0.1,\"#c51b7d\"],[0.2,\"#de77ae\"],[0.3,\"#f1b6da\"],[0.4,\"#fde0ef\"],[0.5,\"#f7f7f7\"],[0.6,\"#e6f5d0\"],[0.7,\"#b8e186\"],[0.8,\"#7fbc41\"],[0.9,\"#4d9221\"],[1,\"#276419\"]],\"sequential\":[[0.0,\"#0d0887\"],[0.1111111111111111,\"#46039f\"],[0.2222222222222222,\"#7201a8\"],[0.3333333333333333,\"#9c179e\"],[0.4444444444444444,\"#bd3786\"],[0.5555555555555556,\"#d8576b\"],[0.6666666666666666,\"#ed7953\"],[0.7777777777777778,\"#fb9f3a\"],[0.8888888888888888,\"#fdca26\"],[1.0,\"#f0f921\"]],\"sequentialminus\":[[0.0,\"#0d0887\"],[0.1111111111111111,\"#46039f\"],[0.2222222222222222,\"#7201a8\"],[0.3333333333333333,\"#9c179e\"],[0.4444444444444444,\"#bd3786\"],[0.5555555555555556,\"#d8576b\"],[0.6666666666666666,\"#ed7953\"],[0.7777777777777778,\"#fb9f3a\"],[0.8888888888888888,\"#fdca26\"],[1.0,\"#f0f921\"]]},\"colorway\":[\"#636efa\",\"#EF553B\",\"#00cc96\",\"#ab63fa\",\"#FFA15A\",\"#19d3f3\",\"#FF6692\",\"#B6E880\",\"#FF97FF\",\"#FECB52\"],\"font\":{\"color\":\"#2a3f5f\"},\"geo\":{\"bgcolor\":\"white\",\"lakecolor\":\"white\",\"landcolor\":\"white\",\"showlakes\":true,\"showland\":true,\"subunitcolor\":\"#C8D4E3\"},\"hoverlabel\":{\"align\":\"left\"},\"hovermode\":\"closest\",\"mapbox\":{\"style\":\"light\"},\"paper_bgcolor\":\"white\",\"plot_bgcolor\":\"white\",\"polar\":{\"angularaxis\":{\"gridcolor\":\"#EBF0F8\",\"linecolor\":\"#EBF0F8\",\"ticks\":\"\"},\"bgcolor\":\"white\",\"radialaxis\":{\"gridcolor\":\"#EBF0F8\",\"linecolor\":\"#EBF0F8\",\"ticks\":\"\"}},\"scene\":{\"xaxis\":{\"backgroundcolor\":\"white\",\"gridcolor\":\"#DFE8F3\",\"gridwidth\":2,\"linecolor\":\"#EBF0F8\",\"showbackground\":true,\"ticks\":\"\",\"zerolinecolor\":\"#EBF0F8\"},\"yaxis\":{\"backgroundcolor\":\"white\",\"gridcolor\":\"#DFE8F3\",\"gridwidth\":2,\"linecolor\":\"#EBF0F8\",\"showbackground\":true,\"ticks\":\"\",\"zerolinecolor\":\"#EBF0F8\"},\"zaxis\":{\"backgroundcolor\":\"white\",\"gridcolor\":\"#DFE8F3\",\"gridwidth\":2,\"linecolor\":\"#EBF0F8\",\"showbackground\":true,\"ticks\":\"\",\"zerolinecolor\":\"#EBF0F8\"}},\"shapedefaults\":{\"line\":{\"color\":\"#2a3f5f\"}},\"ternary\":{\"aaxis\":{\"gridcolor\":\"#DFE8F3\",\"linecolor\":\"#A2B1C6\",\"ticks\":\"\"},\"baxis\":{\"gridcolor\":\"#DFE8F3\",\"linecolor\":\"#A2B1C6\",\"ticks\":\"\"},\"bgcolor\":\"white\",\"caxis\":{\"gridcolor\":\"#DFE8F3\",\"linecolor\":\"#A2B1C6\",\"ticks\":\"\"}},\"title\":{\"x\":0.05},\"xaxis\":{\"automargin\":true,\"gridcolor\":\"#EBF0F8\",\"linecolor\":\"#EBF0F8\",\"ticks\":\"\",\"title\":{\"standoff\":15},\"zerolinecolor\":\"#EBF0F8\",\"zerolinewidth\":2},\"yaxis\":{\"automargin\":true,\"gridcolor\":\"#EBF0F8\",\"linecolor\":\"#EBF0F8\",\"ticks\":\"\",\"title\":{\"standoff\":15},\"zerolinecolor\":\"#EBF0F8\",\"zerolinewidth\":2}}},\"xaxis\":{\"anchor\":\"y\",\"domain\":[0.0,0.175],\"showgrid\":true},\"yaxis\":{\"anchor\":\"x\",\"domain\":[0.0,1.0],\"showgrid\":true},\"xaxis2\":{\"anchor\":\"y2\",\"domain\":[0.275,0.45],\"showgrid\":true},\"yaxis2\":{\"anchor\":\"x2\",\"domain\":[0.0,1.0],\"showgrid\":true},\"xaxis3\":{\"anchor\":\"y3\",\"domain\":[0.55,0.7250000000000001],\"showgrid\":true},\"yaxis3\":{\"anchor\":\"x3\",\"domain\":[0.0,1.0],\"showgrid\":true},\"xaxis4\":{\"anchor\":\"y4\",\"domain\":[0.825,1.0],\"showgrid\":true},\"yaxis4\":{\"anchor\":\"x4\",\"domain\":[0.0,1.0],\"showgrid\":true},\"annotations\":[{\"font\":{\"size\":16},\"showarrow\":false,\"text\":\"Topic 0\",\"x\":0.0875,\"xanchor\":\"center\",\"xref\":\"paper\",\"y\":1.0,\"yanchor\":\"bottom\",\"yref\":\"paper\"}],\"title\":{\"font\":{\"size\":22,\"color\":\"Black\"},\"text\":\"Topic Word Scores\",\"x\":0.5,\"xanchor\":\"center\",\"yanchor\":\"top\"},\"hoverlabel\":{\"font\":{\"size\":16,\"family\":\"Rockwell\"},\"bgcolor\":\"white\"},\"showlegend\":false,\"width\":1000,\"height\":325.0},                        {\"responsive\": true}                    ).then(function(){\n",
              "                            \n",
              "var gd = document.getElementById('feb3392b-7ba6-45ef-a42d-8962cfdb1787');\n",
              "var x = new MutationObserver(function (mutations, observer) {{\n",
              "        var display = window.getComputedStyle(gd).display;\n",
              "        if (!display || display === 'none') {{\n",
              "            console.log([gd, 'removed!']);\n",
              "            Plotly.purge(gd);\n",
              "            observer.disconnect();\n",
              "        }}\n",
              "}});\n",
              "\n",
              "// Listen for the removal of the full notebook cells\n",
              "var notebookContainer = gd.closest('#notebook-container');\n",
              "if (notebookContainer) {{\n",
              "    x.observe(notebookContainer, {childList: true});\n",
              "}}\n",
              "\n",
              "// Listen for the clearing of the current output cell\n",
              "var outputEl = gd.closest('.output');\n",
              "if (outputEl) {{\n",
              "    x.observe(outputEl, {childList: true});\n",
              "}}\n",
              "\n",
              "                        })                };                            </script>        </div>\n",
              "</body>\n",
              "</html>"
            ]
          },
          "metadata": {}
        }
      ]
    },
    {
      "cell_type": "markdown",
      "source": [
        "Usefull Link :https://www.pinecone.io/learn/bertopic/"
      ],
      "metadata": {
        "id": "LYVtmLugexRE"
      }
    },
    {
      "cell_type": "markdown",
      "source": [
        "## Extra Question (5 Points)\n",
        "\n",
        "**Compare the results generated by the four topic modeling algorithms (LDA, LSA, BERTopic, Modified BERTopic), which one is better? You should explain the reasons in details.**\n",
        "\n",
        "**This question will compensate for any points deducted in this exercise. Maximum marks for the exercise is 100 points.**"
      ],
      "metadata": {
        "id": "d89ODUx3jjJV"
      }
    },
    {
      "cell_type": "code",
      "source": [
        "# Write your code here\n",
        "'''\n",
        "Default BERTopic Outperforms Traditional Methods:\n",
        "The default BERTopic model produced higher coherence scores and yielded topics that were both semantically rich and intuitively interpretable. By using contextual embeddings and an adaptive clustering mechanism (HDBSCAN), it overcame some of the limitations found in LDA and LSA.\n",
        "\n",
        "Modified BERTopic (DBSCAN) Was Less Effective:\n",
        "Although an interesting modification, replacing HDBSCAN with DBSCAN led to overly broad or merged topics, lower coherence scores, and a lack of topic diversity. Parameter tuning might improve DBSCAN performance; however, as implemented, it did not match the quality achieved by the default BERTopic pipeline.\n",
        "\n",
        "Considerations for Dataset Characteristics:\n",
        "The 20 Newsgroups and Amazon review datasets both benefit from methods that capture context and semantics. Traditional methods (LDA/LSA) are limited by their bag-of-words assumptions, whereas transformer-based embeddings provide a richer representation of the text, which is why BERTopic (with its default settings) produced superior results.\n",
        "\n",
        "In Conclusion:\n",
        "For the assignment, the default BERTopic model is the best choice among the four models tested. It delivers the highest coherence (an indicator of topic quality) and produces topics that are interpretable and aligned with the human meaning of the documents. Although LSA and LDA are valuable traditional approaches, their limitations in capturing modern semantic relationships make them less suitable for your dataset. The attempt to modify BERTopic by substituting DBSCAN did not yield better results—likely due to parameter sensitivity—so the default configuration is recommended.\n",
        "'''\n"
      ],
      "metadata": {
        "id": "OK34nZtojhmm"
      },
      "execution_count": null,
      "outputs": []
    },
    {
      "cell_type": "markdown",
      "source": [
        "# Mandatory Question"
      ],
      "metadata": {
        "id": "VEs-OoDEhTW4"
      }
    },
    {
      "cell_type": "markdown",
      "source": [
        "**Important: Reflective Feedback on this exercise**\n",
        "\n",
        "Please provide your thoughts and feedback on the exercises you completed in this assignment.\n",
        "\n",
        "Consider the following points in your response:\n",
        "\n",
        "**Learning Experience:** Describe your overall learning experience in working with text data and extracting features using various topic modeling algorithms. Did you understand these algorithms and did the implementations helped in grasping the nuances of feature extraction from text data.\n",
        "\n",
        "**Challenges Encountered:** Were there specific difficulties in completing this exercise?\n",
        "\n",
        "Relevance to Your Field of Study: How does this exercise relate to the field of NLP?\n",
        "\n",
        "**(Your submission will not be graded if this question is left unanswered)**\n",
        "\n"
      ],
      "metadata": {
        "id": "IUKC7suYhVl0"
      }
    },
    {
      "cell_type": "code",
      "source": [
        "#Please write your answer here:\n",
        "'''\n",
        "I really enjoyed this assignment—it was a great hands-on experience with text data and exploring different topic modeling methods. Working with traditional methods like LDA and LSA, along with more modern approaches like BERTopic (both the default version and a modified one), really helped me understand how these algorithms extract topics from large collections of documents. Going through the process of cleaning, tokenizing, and creating dictionaries/corpora gave me a solid insight into the importance of good preprocessing for any NLP task.\n",
        "\n",
        "I especially liked using BERTopic because it uses transformer-based embeddings, which capture the context of the text far better than the simple bag-of-words approaches. Testing out the custom model by swapping in DBSCAN instead of HDBSCAN showed me how sensitive clustering can be—when the parameters aren’t quite right, all the documents end up in one giant topic! This trial-and-error process, although a bit frustrating at times (especially dealing with tricky dependency issues with packages like numpy), really pushed me to learn more about how these models work and how to tune them for better results- more importantly felt good dealing with different libraries and version interactions.\n",
        "\n",
        "Overall, this assignment was super relevant to NLP. Topic modeling is key for tasks like document classification and sentiment analysis, and getting a chance to see how different methods compare helped reinforce both my theoretical knowledge and practical skills. I now feel more confident in selecting and tuning topic models for real projects.\n",
        "'''"
      ],
      "metadata": {
        "id": "CAq0DZWAhU9m"
      },
      "execution_count": null,
      "outputs": []
    }
  ],
  "metadata": {
    "kernelspec": {
      "display_name": "Python 3",
      "name": "python3"
    },
    "language_info": {
      "codemirror_mode": {
        "name": "ipython",
        "version": 3
      },
      "file_extension": ".py",
      "mimetype": "text/x-python",
      "name": "python",
      "nbconvert_exporter": "python",
      "pygments_lexer": "ipython3",
      "version": "3.9.12"
    },
    "colab": {
      "provenance": [],
      "gpuType": "T4",
      "include_colab_link": true
    },
    "accelerator": "GPU",
    "widgets": {
      "application/vnd.jupyter.widget-state+json": {
        "7fabdab0152e4ed392c9204c258d2d90": {
          "model_module": "@jupyter-widgets/controls",
          "model_name": "HBoxModel",
          "model_module_version": "1.5.0",
          "state": {
            "_dom_classes": [],
            "_model_module": "@jupyter-widgets/controls",
            "_model_module_version": "1.5.0",
            "_model_name": "HBoxModel",
            "_view_count": null,
            "_view_module": "@jupyter-widgets/controls",
            "_view_module_version": "1.5.0",
            "_view_name": "HBoxView",
            "box_style": "",
            "children": [
              "IPY_MODEL_9641f7445b684cb7be56f1379db949a7",
              "IPY_MODEL_b683a87697cf4632bb979517b51d63b9",
              "IPY_MODEL_0ad9d95ce1c54acd9e9320b13b6890d0"
            ],
            "layout": "IPY_MODEL_d46ee3cdf836472a966a3285ba805d3a"
          }
        },
        "9641f7445b684cb7be56f1379db949a7": {
          "model_module": "@jupyter-widgets/controls",
          "model_name": "HTMLModel",
          "model_module_version": "1.5.0",
          "state": {
            "_dom_classes": [],
            "_model_module": "@jupyter-widgets/controls",
            "_model_module_version": "1.5.0",
            "_model_name": "HTMLModel",
            "_view_count": null,
            "_view_module": "@jupyter-widgets/controls",
            "_view_module_version": "1.5.0",
            "_view_name": "HTMLView",
            "description": "",
            "description_tooltip": null,
            "layout": "IPY_MODEL_88b8c8b25e33471f8b4f4e266cceb3b3",
            "placeholder": "​",
            "style": "IPY_MODEL_a9421cc5899541018b4c694f71605542",
            "value": "Batches: 100%"
          }
        },
        "b683a87697cf4632bb979517b51d63b9": {
          "model_module": "@jupyter-widgets/controls",
          "model_name": "FloatProgressModel",
          "model_module_version": "1.5.0",
          "state": {
            "_dom_classes": [],
            "_model_module": "@jupyter-widgets/controls",
            "_model_module_version": "1.5.0",
            "_model_name": "FloatProgressModel",
            "_view_count": null,
            "_view_module": "@jupyter-widgets/controls",
            "_view_module_version": "1.5.0",
            "_view_name": "ProgressView",
            "bar_style": "success",
            "description": "",
            "description_tooltip": null,
            "layout": "IPY_MODEL_b5dbfea5fed5457d97f80deb5860da3d",
            "max": 41,
            "min": 0,
            "orientation": "horizontal",
            "style": "IPY_MODEL_699ba35d5bf743f4975af599635dd575",
            "value": 41
          }
        },
        "0ad9d95ce1c54acd9e9320b13b6890d0": {
          "model_module": "@jupyter-widgets/controls",
          "model_name": "HTMLModel",
          "model_module_version": "1.5.0",
          "state": {
            "_dom_classes": [],
            "_model_module": "@jupyter-widgets/controls",
            "_model_module_version": "1.5.0",
            "_model_name": "HTMLModel",
            "_view_count": null,
            "_view_module": "@jupyter-widgets/controls",
            "_view_module_version": "1.5.0",
            "_view_name": "HTMLView",
            "description": "",
            "description_tooltip": null,
            "layout": "IPY_MODEL_f469c14e4e064806b089c9b70d2a5783",
            "placeholder": "​",
            "style": "IPY_MODEL_bb9bbcaf616d47d5b1e1ebf5e7f6e34b",
            "value": " 41/41 [00:00&lt;00:00, 106.86it/s]"
          }
        },
        "d46ee3cdf836472a966a3285ba805d3a": {
          "model_module": "@jupyter-widgets/base",
          "model_name": "LayoutModel",
          "model_module_version": "1.2.0",
          "state": {
            "_model_module": "@jupyter-widgets/base",
            "_model_module_version": "1.2.0",
            "_model_name": "LayoutModel",
            "_view_count": null,
            "_view_module": "@jupyter-widgets/base",
            "_view_module_version": "1.2.0",
            "_view_name": "LayoutView",
            "align_content": null,
            "align_items": null,
            "align_self": null,
            "border": null,
            "bottom": null,
            "display": null,
            "flex": null,
            "flex_flow": null,
            "grid_area": null,
            "grid_auto_columns": null,
            "grid_auto_flow": null,
            "grid_auto_rows": null,
            "grid_column": null,
            "grid_gap": null,
            "grid_row": null,
            "grid_template_areas": null,
            "grid_template_columns": null,
            "grid_template_rows": null,
            "height": null,
            "justify_content": null,
            "justify_items": null,
            "left": null,
            "margin": null,
            "max_height": null,
            "max_width": null,
            "min_height": null,
            "min_width": null,
            "object_fit": null,
            "object_position": null,
            "order": null,
            "overflow": null,
            "overflow_x": null,
            "overflow_y": null,
            "padding": null,
            "right": null,
            "top": null,
            "visibility": null,
            "width": null
          }
        },
        "88b8c8b25e33471f8b4f4e266cceb3b3": {
          "model_module": "@jupyter-widgets/base",
          "model_name": "LayoutModel",
          "model_module_version": "1.2.0",
          "state": {
            "_model_module": "@jupyter-widgets/base",
            "_model_module_version": "1.2.0",
            "_model_name": "LayoutModel",
            "_view_count": null,
            "_view_module": "@jupyter-widgets/base",
            "_view_module_version": "1.2.0",
            "_view_name": "LayoutView",
            "align_content": null,
            "align_items": null,
            "align_self": null,
            "border": null,
            "bottom": null,
            "display": null,
            "flex": null,
            "flex_flow": null,
            "grid_area": null,
            "grid_auto_columns": null,
            "grid_auto_flow": null,
            "grid_auto_rows": null,
            "grid_column": null,
            "grid_gap": null,
            "grid_row": null,
            "grid_template_areas": null,
            "grid_template_columns": null,
            "grid_template_rows": null,
            "height": null,
            "justify_content": null,
            "justify_items": null,
            "left": null,
            "margin": null,
            "max_height": null,
            "max_width": null,
            "min_height": null,
            "min_width": null,
            "object_fit": null,
            "object_position": null,
            "order": null,
            "overflow": null,
            "overflow_x": null,
            "overflow_y": null,
            "padding": null,
            "right": null,
            "top": null,
            "visibility": null,
            "width": null
          }
        },
        "a9421cc5899541018b4c694f71605542": {
          "model_module": "@jupyter-widgets/controls",
          "model_name": "DescriptionStyleModel",
          "model_module_version": "1.5.0",
          "state": {
            "_model_module": "@jupyter-widgets/controls",
            "_model_module_version": "1.5.0",
            "_model_name": "DescriptionStyleModel",
            "_view_count": null,
            "_view_module": "@jupyter-widgets/base",
            "_view_module_version": "1.2.0",
            "_view_name": "StyleView",
            "description_width": ""
          }
        },
        "b5dbfea5fed5457d97f80deb5860da3d": {
          "model_module": "@jupyter-widgets/base",
          "model_name": "LayoutModel",
          "model_module_version": "1.2.0",
          "state": {
            "_model_module": "@jupyter-widgets/base",
            "_model_module_version": "1.2.0",
            "_model_name": "LayoutModel",
            "_view_count": null,
            "_view_module": "@jupyter-widgets/base",
            "_view_module_version": "1.2.0",
            "_view_name": "LayoutView",
            "align_content": null,
            "align_items": null,
            "align_self": null,
            "border": null,
            "bottom": null,
            "display": null,
            "flex": null,
            "flex_flow": null,
            "grid_area": null,
            "grid_auto_columns": null,
            "grid_auto_flow": null,
            "grid_auto_rows": null,
            "grid_column": null,
            "grid_gap": null,
            "grid_row": null,
            "grid_template_areas": null,
            "grid_template_columns": null,
            "grid_template_rows": null,
            "height": null,
            "justify_content": null,
            "justify_items": null,
            "left": null,
            "margin": null,
            "max_height": null,
            "max_width": null,
            "min_height": null,
            "min_width": null,
            "object_fit": null,
            "object_position": null,
            "order": null,
            "overflow": null,
            "overflow_x": null,
            "overflow_y": null,
            "padding": null,
            "right": null,
            "top": null,
            "visibility": null,
            "width": null
          }
        },
        "699ba35d5bf743f4975af599635dd575": {
          "model_module": "@jupyter-widgets/controls",
          "model_name": "ProgressStyleModel",
          "model_module_version": "1.5.0",
          "state": {
            "_model_module": "@jupyter-widgets/controls",
            "_model_module_version": "1.5.0",
            "_model_name": "ProgressStyleModel",
            "_view_count": null,
            "_view_module": "@jupyter-widgets/base",
            "_view_module_version": "1.2.0",
            "_view_name": "StyleView",
            "bar_color": null,
            "description_width": ""
          }
        },
        "f469c14e4e064806b089c9b70d2a5783": {
          "model_module": "@jupyter-widgets/base",
          "model_name": "LayoutModel",
          "model_module_version": "1.2.0",
          "state": {
            "_model_module": "@jupyter-widgets/base",
            "_model_module_version": "1.2.0",
            "_model_name": "LayoutModel",
            "_view_count": null,
            "_view_module": "@jupyter-widgets/base",
            "_view_module_version": "1.2.0",
            "_view_name": "LayoutView",
            "align_content": null,
            "align_items": null,
            "align_self": null,
            "border": null,
            "bottom": null,
            "display": null,
            "flex": null,
            "flex_flow": null,
            "grid_area": null,
            "grid_auto_columns": null,
            "grid_auto_flow": null,
            "grid_auto_rows": null,
            "grid_column": null,
            "grid_gap": null,
            "grid_row": null,
            "grid_template_areas": null,
            "grid_template_columns": null,
            "grid_template_rows": null,
            "height": null,
            "justify_content": null,
            "justify_items": null,
            "left": null,
            "margin": null,
            "max_height": null,
            "max_width": null,
            "min_height": null,
            "min_width": null,
            "object_fit": null,
            "object_position": null,
            "order": null,
            "overflow": null,
            "overflow_x": null,
            "overflow_y": null,
            "padding": null,
            "right": null,
            "top": null,
            "visibility": null,
            "width": null
          }
        },
        "bb9bbcaf616d47d5b1e1ebf5e7f6e34b": {
          "model_module": "@jupyter-widgets/controls",
          "model_name": "DescriptionStyleModel",
          "model_module_version": "1.5.0",
          "state": {
            "_model_module": "@jupyter-widgets/controls",
            "_model_module_version": "1.5.0",
            "_model_name": "DescriptionStyleModel",
            "_view_count": null,
            "_view_module": "@jupyter-widgets/base",
            "_view_module_version": "1.2.0",
            "_view_name": "StyleView",
            "description_width": ""
          }
        },
        "700e769ff8bb4f529af3dbd3c0e3edb6": {
          "model_module": "@jupyter-widgets/controls",
          "model_name": "HBoxModel",
          "model_module_version": "1.5.0",
          "state": {
            "_dom_classes": [],
            "_model_module": "@jupyter-widgets/controls",
            "_model_module_version": "1.5.0",
            "_model_name": "HBoxModel",
            "_view_count": null,
            "_view_module": "@jupyter-widgets/controls",
            "_view_module_version": "1.5.0",
            "_view_name": "HBoxView",
            "box_style": "",
            "children": [
              "IPY_MODEL_87f69ca4013f4981a9a498db6e78eef9",
              "IPY_MODEL_e175d72f930447e090f96f6cfe40e392",
              "IPY_MODEL_58bae79df6e745499132b082b2f0aa6b"
            ],
            "layout": "IPY_MODEL_0630451085bd40a79689b9229a7d0d64"
          }
        },
        "87f69ca4013f4981a9a498db6e78eef9": {
          "model_module": "@jupyter-widgets/controls",
          "model_name": "HTMLModel",
          "model_module_version": "1.5.0",
          "state": {
            "_dom_classes": [],
            "_model_module": "@jupyter-widgets/controls",
            "_model_module_version": "1.5.0",
            "_model_name": "HTMLModel",
            "_view_count": null,
            "_view_module": "@jupyter-widgets/controls",
            "_view_module_version": "1.5.0",
            "_view_name": "HTMLView",
            "description": "",
            "description_tooltip": null,
            "layout": "IPY_MODEL_2a941172123d448f86a39a176b7413a3",
            "placeholder": "​",
            "style": "IPY_MODEL_02887626ad4d42d6a6e9a199d2d5706a",
            "value": "Batches: 100%"
          }
        },
        "e175d72f930447e090f96f6cfe40e392": {
          "model_module": "@jupyter-widgets/controls",
          "model_name": "FloatProgressModel",
          "model_module_version": "1.5.0",
          "state": {
            "_dom_classes": [],
            "_model_module": "@jupyter-widgets/controls",
            "_model_module_version": "1.5.0",
            "_model_name": "FloatProgressModel",
            "_view_count": null,
            "_view_module": "@jupyter-widgets/controls",
            "_view_module_version": "1.5.0",
            "_view_name": "ProgressView",
            "bar_style": "success",
            "description": "",
            "description_tooltip": null,
            "layout": "IPY_MODEL_b6ddd0fc6a824dc09727f27ae8fffb53",
            "max": 63,
            "min": 0,
            "orientation": "horizontal",
            "style": "IPY_MODEL_8d02c8fc60264c129d0e2189209d69ed",
            "value": 63
          }
        },
        "58bae79df6e745499132b082b2f0aa6b": {
          "model_module": "@jupyter-widgets/controls",
          "model_name": "HTMLModel",
          "model_module_version": "1.5.0",
          "state": {
            "_dom_classes": [],
            "_model_module": "@jupyter-widgets/controls",
            "_model_module_version": "1.5.0",
            "_model_name": "HTMLModel",
            "_view_count": null,
            "_view_module": "@jupyter-widgets/controls",
            "_view_module_version": "1.5.0",
            "_view_name": "HTMLView",
            "description": "",
            "description_tooltip": null,
            "layout": "IPY_MODEL_6a4e4f55a6dd4739a6e19487f18e7215",
            "placeholder": "​",
            "style": "IPY_MODEL_505d0a0b63ff43859f86764f98becb05",
            "value": " 63/63 [00:05&lt;00:00, 30.93it/s]"
          }
        },
        "0630451085bd40a79689b9229a7d0d64": {
          "model_module": "@jupyter-widgets/base",
          "model_name": "LayoutModel",
          "model_module_version": "1.2.0",
          "state": {
            "_model_module": "@jupyter-widgets/base",
            "_model_module_version": "1.2.0",
            "_model_name": "LayoutModel",
            "_view_count": null,
            "_view_module": "@jupyter-widgets/base",
            "_view_module_version": "1.2.0",
            "_view_name": "LayoutView",
            "align_content": null,
            "align_items": null,
            "align_self": null,
            "border": null,
            "bottom": null,
            "display": null,
            "flex": null,
            "flex_flow": null,
            "grid_area": null,
            "grid_auto_columns": null,
            "grid_auto_flow": null,
            "grid_auto_rows": null,
            "grid_column": null,
            "grid_gap": null,
            "grid_row": null,
            "grid_template_areas": null,
            "grid_template_columns": null,
            "grid_template_rows": null,
            "height": null,
            "justify_content": null,
            "justify_items": null,
            "left": null,
            "margin": null,
            "max_height": null,
            "max_width": null,
            "min_height": null,
            "min_width": null,
            "object_fit": null,
            "object_position": null,
            "order": null,
            "overflow": null,
            "overflow_x": null,
            "overflow_y": null,
            "padding": null,
            "right": null,
            "top": null,
            "visibility": null,
            "width": null
          }
        },
        "2a941172123d448f86a39a176b7413a3": {
          "model_module": "@jupyter-widgets/base",
          "model_name": "LayoutModel",
          "model_module_version": "1.2.0",
          "state": {
            "_model_module": "@jupyter-widgets/base",
            "_model_module_version": "1.2.0",
            "_model_name": "LayoutModel",
            "_view_count": null,
            "_view_module": "@jupyter-widgets/base",
            "_view_module_version": "1.2.0",
            "_view_name": "LayoutView",
            "align_content": null,
            "align_items": null,
            "align_self": null,
            "border": null,
            "bottom": null,
            "display": null,
            "flex": null,
            "flex_flow": null,
            "grid_area": null,
            "grid_auto_columns": null,
            "grid_auto_flow": null,
            "grid_auto_rows": null,
            "grid_column": null,
            "grid_gap": null,
            "grid_row": null,
            "grid_template_areas": null,
            "grid_template_columns": null,
            "grid_template_rows": null,
            "height": null,
            "justify_content": null,
            "justify_items": null,
            "left": null,
            "margin": null,
            "max_height": null,
            "max_width": null,
            "min_height": null,
            "min_width": null,
            "object_fit": null,
            "object_position": null,
            "order": null,
            "overflow": null,
            "overflow_x": null,
            "overflow_y": null,
            "padding": null,
            "right": null,
            "top": null,
            "visibility": null,
            "width": null
          }
        },
        "02887626ad4d42d6a6e9a199d2d5706a": {
          "model_module": "@jupyter-widgets/controls",
          "model_name": "DescriptionStyleModel",
          "model_module_version": "1.5.0",
          "state": {
            "_model_module": "@jupyter-widgets/controls",
            "_model_module_version": "1.5.0",
            "_model_name": "DescriptionStyleModel",
            "_view_count": null,
            "_view_module": "@jupyter-widgets/base",
            "_view_module_version": "1.2.0",
            "_view_name": "StyleView",
            "description_width": ""
          }
        },
        "b6ddd0fc6a824dc09727f27ae8fffb53": {
          "model_module": "@jupyter-widgets/base",
          "model_name": "LayoutModel",
          "model_module_version": "1.2.0",
          "state": {
            "_model_module": "@jupyter-widgets/base",
            "_model_module_version": "1.2.0",
            "_model_name": "LayoutModel",
            "_view_count": null,
            "_view_module": "@jupyter-widgets/base",
            "_view_module_version": "1.2.0",
            "_view_name": "LayoutView",
            "align_content": null,
            "align_items": null,
            "align_self": null,
            "border": null,
            "bottom": null,
            "display": null,
            "flex": null,
            "flex_flow": null,
            "grid_area": null,
            "grid_auto_columns": null,
            "grid_auto_flow": null,
            "grid_auto_rows": null,
            "grid_column": null,
            "grid_gap": null,
            "grid_row": null,
            "grid_template_areas": null,
            "grid_template_columns": null,
            "grid_template_rows": null,
            "height": null,
            "justify_content": null,
            "justify_items": null,
            "left": null,
            "margin": null,
            "max_height": null,
            "max_width": null,
            "min_height": null,
            "min_width": null,
            "object_fit": null,
            "object_position": null,
            "order": null,
            "overflow": null,
            "overflow_x": null,
            "overflow_y": null,
            "padding": null,
            "right": null,
            "top": null,
            "visibility": null,
            "width": null
          }
        },
        "8d02c8fc60264c129d0e2189209d69ed": {
          "model_module": "@jupyter-widgets/controls",
          "model_name": "ProgressStyleModel",
          "model_module_version": "1.5.0",
          "state": {
            "_model_module": "@jupyter-widgets/controls",
            "_model_module_version": "1.5.0",
            "_model_name": "ProgressStyleModel",
            "_view_count": null,
            "_view_module": "@jupyter-widgets/base",
            "_view_module_version": "1.2.0",
            "_view_name": "StyleView",
            "bar_color": null,
            "description_width": ""
          }
        },
        "6a4e4f55a6dd4739a6e19487f18e7215": {
          "model_module": "@jupyter-widgets/base",
          "model_name": "LayoutModel",
          "model_module_version": "1.2.0",
          "state": {
            "_model_module": "@jupyter-widgets/base",
            "_model_module_version": "1.2.0",
            "_model_name": "LayoutModel",
            "_view_count": null,
            "_view_module": "@jupyter-widgets/base",
            "_view_module_version": "1.2.0",
            "_view_name": "LayoutView",
            "align_content": null,
            "align_items": null,
            "align_self": null,
            "border": null,
            "bottom": null,
            "display": null,
            "flex": null,
            "flex_flow": null,
            "grid_area": null,
            "grid_auto_columns": null,
            "grid_auto_flow": null,
            "grid_auto_rows": null,
            "grid_column": null,
            "grid_gap": null,
            "grid_row": null,
            "grid_template_areas": null,
            "grid_template_columns": null,
            "grid_template_rows": null,
            "height": null,
            "justify_content": null,
            "justify_items": null,
            "left": null,
            "margin": null,
            "max_height": null,
            "max_width": null,
            "min_height": null,
            "min_width": null,
            "object_fit": null,
            "object_position": null,
            "order": null,
            "overflow": null,
            "overflow_x": null,
            "overflow_y": null,
            "padding": null,
            "right": null,
            "top": null,
            "visibility": null,
            "width": null
          }
        },
        "505d0a0b63ff43859f86764f98becb05": {
          "model_module": "@jupyter-widgets/controls",
          "model_name": "DescriptionStyleModel",
          "model_module_version": "1.5.0",
          "state": {
            "_model_module": "@jupyter-widgets/controls",
            "_model_module_version": "1.5.0",
            "_model_name": "DescriptionStyleModel",
            "_view_count": null,
            "_view_module": "@jupyter-widgets/base",
            "_view_module_version": "1.2.0",
            "_view_name": "StyleView",
            "description_width": ""
          }
        },
        "731b5b2b23a94cc88ecff224ee65201f": {
          "model_module": "@jupyter-widgets/controls",
          "model_name": "HBoxModel",
          "model_module_version": "1.5.0",
          "state": {
            "_dom_classes": [],
            "_model_module": "@jupyter-widgets/controls",
            "_model_module_version": "1.5.0",
            "_model_name": "HBoxModel",
            "_view_count": null,
            "_view_module": "@jupyter-widgets/controls",
            "_view_module_version": "1.5.0",
            "_view_name": "HBoxView",
            "box_style": "",
            "children": [
              "IPY_MODEL_552e563aa5eb4dfd9c211fec8a56026b",
              "IPY_MODEL_a42c73f5129c4679a647e12957af7226",
              "IPY_MODEL_b3f81f09e8204dfaa144a292910ea757"
            ],
            "layout": "IPY_MODEL_305e9dc3f1fc4f5b8e4b4503a0d6f1aa"
          }
        },
        "552e563aa5eb4dfd9c211fec8a56026b": {
          "model_module": "@jupyter-widgets/controls",
          "model_name": "HTMLModel",
          "model_module_version": "1.5.0",
          "state": {
            "_dom_classes": [],
            "_model_module": "@jupyter-widgets/controls",
            "_model_module_version": "1.5.0",
            "_model_name": "HTMLModel",
            "_view_count": null,
            "_view_module": "@jupyter-widgets/controls",
            "_view_module_version": "1.5.0",
            "_view_name": "HTMLView",
            "description": "",
            "description_tooltip": null,
            "layout": "IPY_MODEL_8502cda3eac84ceea770fd97d855cae1",
            "placeholder": "​",
            "style": "IPY_MODEL_8b76650f312e45e7be7a3c6918235990",
            "value": "Batches: 100%"
          }
        },
        "a42c73f5129c4679a647e12957af7226": {
          "model_module": "@jupyter-widgets/controls",
          "model_name": "FloatProgressModel",
          "model_module_version": "1.5.0",
          "state": {
            "_dom_classes": [],
            "_model_module": "@jupyter-widgets/controls",
            "_model_module_version": "1.5.0",
            "_model_name": "FloatProgressModel",
            "_view_count": null,
            "_view_module": "@jupyter-widgets/controls",
            "_view_module_version": "1.5.0",
            "_view_name": "ProgressView",
            "bar_style": "success",
            "description": "",
            "description_tooltip": null,
            "layout": "IPY_MODEL_7615aa88afc3416a93ad32b0a7ea6200",
            "max": 63,
            "min": 0,
            "orientation": "horizontal",
            "style": "IPY_MODEL_8677d58aa35548cbb0d20f3bb3d3f2e7",
            "value": 63
          }
        },
        "b3f81f09e8204dfaa144a292910ea757": {
          "model_module": "@jupyter-widgets/controls",
          "model_name": "HTMLModel",
          "model_module_version": "1.5.0",
          "state": {
            "_dom_classes": [],
            "_model_module": "@jupyter-widgets/controls",
            "_model_module_version": "1.5.0",
            "_model_name": "HTMLModel",
            "_view_count": null,
            "_view_module": "@jupyter-widgets/controls",
            "_view_module_version": "1.5.0",
            "_view_name": "HTMLView",
            "description": "",
            "description_tooltip": null,
            "layout": "IPY_MODEL_6abd2dfa30b54de08a0410a791b2a04c",
            "placeholder": "​",
            "style": "IPY_MODEL_3428946f6062416c81f0a4e4b7e39230",
            "value": " 63/63 [00:04&lt;00:00, 36.29it/s]"
          }
        },
        "305e9dc3f1fc4f5b8e4b4503a0d6f1aa": {
          "model_module": "@jupyter-widgets/base",
          "model_name": "LayoutModel",
          "model_module_version": "1.2.0",
          "state": {
            "_model_module": "@jupyter-widgets/base",
            "_model_module_version": "1.2.0",
            "_model_name": "LayoutModel",
            "_view_count": null,
            "_view_module": "@jupyter-widgets/base",
            "_view_module_version": "1.2.0",
            "_view_name": "LayoutView",
            "align_content": null,
            "align_items": null,
            "align_self": null,
            "border": null,
            "bottom": null,
            "display": null,
            "flex": null,
            "flex_flow": null,
            "grid_area": null,
            "grid_auto_columns": null,
            "grid_auto_flow": null,
            "grid_auto_rows": null,
            "grid_column": null,
            "grid_gap": null,
            "grid_row": null,
            "grid_template_areas": null,
            "grid_template_columns": null,
            "grid_template_rows": null,
            "height": null,
            "justify_content": null,
            "justify_items": null,
            "left": null,
            "margin": null,
            "max_height": null,
            "max_width": null,
            "min_height": null,
            "min_width": null,
            "object_fit": null,
            "object_position": null,
            "order": null,
            "overflow": null,
            "overflow_x": null,
            "overflow_y": null,
            "padding": null,
            "right": null,
            "top": null,
            "visibility": null,
            "width": null
          }
        },
        "8502cda3eac84ceea770fd97d855cae1": {
          "model_module": "@jupyter-widgets/base",
          "model_name": "LayoutModel",
          "model_module_version": "1.2.0",
          "state": {
            "_model_module": "@jupyter-widgets/base",
            "_model_module_version": "1.2.0",
            "_model_name": "LayoutModel",
            "_view_count": null,
            "_view_module": "@jupyter-widgets/base",
            "_view_module_version": "1.2.0",
            "_view_name": "LayoutView",
            "align_content": null,
            "align_items": null,
            "align_self": null,
            "border": null,
            "bottom": null,
            "display": null,
            "flex": null,
            "flex_flow": null,
            "grid_area": null,
            "grid_auto_columns": null,
            "grid_auto_flow": null,
            "grid_auto_rows": null,
            "grid_column": null,
            "grid_gap": null,
            "grid_row": null,
            "grid_template_areas": null,
            "grid_template_columns": null,
            "grid_template_rows": null,
            "height": null,
            "justify_content": null,
            "justify_items": null,
            "left": null,
            "margin": null,
            "max_height": null,
            "max_width": null,
            "min_height": null,
            "min_width": null,
            "object_fit": null,
            "object_position": null,
            "order": null,
            "overflow": null,
            "overflow_x": null,
            "overflow_y": null,
            "padding": null,
            "right": null,
            "top": null,
            "visibility": null,
            "width": null
          }
        },
        "8b76650f312e45e7be7a3c6918235990": {
          "model_module": "@jupyter-widgets/controls",
          "model_name": "DescriptionStyleModel",
          "model_module_version": "1.5.0",
          "state": {
            "_model_module": "@jupyter-widgets/controls",
            "_model_module_version": "1.5.0",
            "_model_name": "DescriptionStyleModel",
            "_view_count": null,
            "_view_module": "@jupyter-widgets/base",
            "_view_module_version": "1.2.0",
            "_view_name": "StyleView",
            "description_width": ""
          }
        },
        "7615aa88afc3416a93ad32b0a7ea6200": {
          "model_module": "@jupyter-widgets/base",
          "model_name": "LayoutModel",
          "model_module_version": "1.2.0",
          "state": {
            "_model_module": "@jupyter-widgets/base",
            "_model_module_version": "1.2.0",
            "_model_name": "LayoutModel",
            "_view_count": null,
            "_view_module": "@jupyter-widgets/base",
            "_view_module_version": "1.2.0",
            "_view_name": "LayoutView",
            "align_content": null,
            "align_items": null,
            "align_self": null,
            "border": null,
            "bottom": null,
            "display": null,
            "flex": null,
            "flex_flow": null,
            "grid_area": null,
            "grid_auto_columns": null,
            "grid_auto_flow": null,
            "grid_auto_rows": null,
            "grid_column": null,
            "grid_gap": null,
            "grid_row": null,
            "grid_template_areas": null,
            "grid_template_columns": null,
            "grid_template_rows": null,
            "height": null,
            "justify_content": null,
            "justify_items": null,
            "left": null,
            "margin": null,
            "max_height": null,
            "max_width": null,
            "min_height": null,
            "min_width": null,
            "object_fit": null,
            "object_position": null,
            "order": null,
            "overflow": null,
            "overflow_x": null,
            "overflow_y": null,
            "padding": null,
            "right": null,
            "top": null,
            "visibility": null,
            "width": null
          }
        },
        "8677d58aa35548cbb0d20f3bb3d3f2e7": {
          "model_module": "@jupyter-widgets/controls",
          "model_name": "ProgressStyleModel",
          "model_module_version": "1.5.0",
          "state": {
            "_model_module": "@jupyter-widgets/controls",
            "_model_module_version": "1.5.0",
            "_model_name": "ProgressStyleModel",
            "_view_count": null,
            "_view_module": "@jupyter-widgets/base",
            "_view_module_version": "1.2.0",
            "_view_name": "StyleView",
            "bar_color": null,
            "description_width": ""
          }
        },
        "6abd2dfa30b54de08a0410a791b2a04c": {
          "model_module": "@jupyter-widgets/base",
          "model_name": "LayoutModel",
          "model_module_version": "1.2.0",
          "state": {
            "_model_module": "@jupyter-widgets/base",
            "_model_module_version": "1.2.0",
            "_model_name": "LayoutModel",
            "_view_count": null,
            "_view_module": "@jupyter-widgets/base",
            "_view_module_version": "1.2.0",
            "_view_name": "LayoutView",
            "align_content": null,
            "align_items": null,
            "align_self": null,
            "border": null,
            "bottom": null,
            "display": null,
            "flex": null,
            "flex_flow": null,
            "grid_area": null,
            "grid_auto_columns": null,
            "grid_auto_flow": null,
            "grid_auto_rows": null,
            "grid_column": null,
            "grid_gap": null,
            "grid_row": null,
            "grid_template_areas": null,
            "grid_template_columns": null,
            "grid_template_rows": null,
            "height": null,
            "justify_content": null,
            "justify_items": null,
            "left": null,
            "margin": null,
            "max_height": null,
            "max_width": null,
            "min_height": null,
            "min_width": null,
            "object_fit": null,
            "object_position": null,
            "order": null,
            "overflow": null,
            "overflow_x": null,
            "overflow_y": null,
            "padding": null,
            "right": null,
            "top": null,
            "visibility": null,
            "width": null
          }
        },
        "3428946f6062416c81f0a4e4b7e39230": {
          "model_module": "@jupyter-widgets/controls",
          "model_name": "DescriptionStyleModel",
          "model_module_version": "1.5.0",
          "state": {
            "_model_module": "@jupyter-widgets/controls",
            "_model_module_version": "1.5.0",
            "_model_name": "DescriptionStyleModel",
            "_view_count": null,
            "_view_module": "@jupyter-widgets/base",
            "_view_module_version": "1.2.0",
            "_view_name": "StyleView",
            "description_width": ""
          }
        }
      }
    }
  },
  "nbformat": 4,
  "nbformat_minor": 0
}